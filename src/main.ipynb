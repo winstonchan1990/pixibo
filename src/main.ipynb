{
 "cells": [
  {
   "cell_type": "code",
   "execution_count": 127,
   "metadata": {},
   "outputs": [
    {
     "data": {
      "text/html": [
       "\n",
       "<style>\n",
       "    h1{background-color:black; color:white; padding: 10px 10px 10px 10px}\n",
       "    h2{background-color:green; color:white;  padding: 5px 5px 5px 5px}\n",
       "</style>\n"
      ],
      "text/plain": [
       "<IPython.core.display.HTML object>"
      ]
     },
     "execution_count": 127,
     "metadata": {},
     "output_type": "execute_result"
    }
   ],
   "source": [
    "from IPython.core.display import HTML\n",
    "HTML(\"\"\"\n",
    "<style>\n",
    "    h1{background-color:black; color:white; padding: 10px 10px 10px 10px}\n",
    "    h2{background-color:green; color:white;  padding: 5px 5px 5px 5px}\n",
    "</style>\n",
    "\"\"\")"
   ]
  },
  {
   "cell_type": "code",
   "execution_count": 124,
   "metadata": {},
   "outputs": [],
   "source": [
    "import pandas as pd\n",
    "import numpy as np\n",
    "import json\n",
    "import datetime\n",
    "import itertools\n",
    "import re"
   ]
  },
  {
   "cell_type": "markdown",
   "metadata": {},
   "source": [
    "# Config Parameters"
   ]
  },
  {
   "cell_type": "code",
   "execution_count": 36,
   "metadata": {},
   "outputs": [],
   "source": [
    "## Data on Exchanges and Returns\n",
    "FILEPATH_DATA_EXCHANGES_RETURNS = '../data/data_science_exchanges_returns.file'\n",
    "\n",
    "## Data Conversions\n",
    "FILEPATH_DATA_CONVERSIONS = '../data/data_science_test_conversions.file'\n",
    "\n",
    "## Period Range for analysis\n",
    "ORDER_START_DATE = datetime.date(2019,2,1)\n",
    "ORDER_END_DATE = datetime.date(2019,2,28)"
   ]
  },
  {
   "cell_type": "markdown",
   "metadata": {},
   "source": [
    "# Utility Functions"
   ]
  },
  {
   "cell_type": "code",
   "execution_count": 37,
   "metadata": {},
   "outputs": [],
   "source": [
    "## Function to normalize character string\n",
    "## - replace NaN with '<NA>'\n",
    "## - convert to lowercase\n",
    "## - remove white space\n",
    "def normalize_string(string):\n",
    "    return '<NA>' if type(string) is not str else ''.join(string.lower().strip().split())"
   ]
  },
  {
   "cell_type": "markdown",
   "metadata": {},
   "source": [
    "# Data on Exchanges / Returns"
   ]
  },
  {
   "cell_type": "markdown",
   "metadata": {},
   "source": [
    "## Read in dataset"
   ]
  },
  {
   "cell_type": "code",
   "execution_count": 38,
   "metadata": {},
   "outputs": [
    {
     "name": "stderr",
     "output_type": "stream",
     "text": [
      "/home/winston/anaconda3/lib/python3.6/site-packages/IPython/core/interactiveshell.py:2785: DtypeWarning: Columns (3,6,7) have mixed types. Specify dtype option on import or set low_memory=False.\n",
      "  interactivity=interactivity, compiler=compiler, result=result)\n"
     ]
    }
   ],
   "source": [
    "DATA_EXCHANGE_RETURNS = pd.read_table(\n",
    "    FILEPATH_DATA_EXCHANGES_RETURNS,\n",
    "    delimiter='\\t',\n",
    "    dtype = {'Order nr':'object'}\n",
    ")"
   ]
  },
  {
   "cell_type": "code",
   "execution_count": 39,
   "metadata": {},
   "outputs": [
    {
     "data": {
      "text/html": [
       "<div>\n",
       "<style scoped>\n",
       "    .dataframe tbody tr th:only-of-type {\n",
       "        vertical-align: middle;\n",
       "    }\n",
       "\n",
       "    .dataframe tbody tr th {\n",
       "        vertical-align: top;\n",
       "    }\n",
       "\n",
       "    .dataframe thead th {\n",
       "        text-align: right;\n",
       "    }\n",
       "</style>\n",
       "<table border=\"1\" class=\"dataframe\">\n",
       "  <thead>\n",
       "    <tr style=\"text-align: right;\">\n",
       "      <th></th>\n",
       "      <th>Country</th>\n",
       "      <th>Order nr</th>\n",
       "      <th>SKU ID</th>\n",
       "      <th>Reason Name</th>\n",
       "      <th>original_size_system_name</th>\n",
       "      <th>original_size_name</th>\n",
       "      <th>exchanged_size_system_name</th>\n",
       "      <th>exchanged_size_name</th>\n",
       "    </tr>\n",
       "  </thead>\n",
       "  <tbody>\n",
       "    <tr>\n",
       "      <th>0</th>\n",
       "      <td>ph</td>\n",
       "      <td>239748222</td>\n",
       "      <td>EV032US96WVNPH</td>\n",
       "      <td>1._size_does_not_fit_-_too_large</td>\n",
       "      <td>International</td>\n",
       "      <td>One Size</td>\n",
       "      <td>NaN</td>\n",
       "      <td>NaN</td>\n",
       "    </tr>\n",
       "    <tr>\n",
       "      <th>1</th>\n",
       "      <td>ph</td>\n",
       "      <td>251645722</td>\n",
       "      <td>CH672SH32LPNPH</td>\n",
       "      <td>2._size_does_not_fit_-_too_small</td>\n",
       "      <td>US</td>\n",
       "      <td>7</td>\n",
       "      <td>NaN</td>\n",
       "      <td>NaN</td>\n",
       "    </tr>\n",
       "    <tr>\n",
       "      <th>2</th>\n",
       "      <td>ph</td>\n",
       "      <td>235646762</td>\n",
       "      <td>EM520AC06VDDPH</td>\n",
       "      <td>1._size_does_not_fit_-_too_large</td>\n",
       "      <td>International</td>\n",
       "      <td>One Size</td>\n",
       "      <td>NaN</td>\n",
       "      <td>NaN</td>\n",
       "    </tr>\n",
       "    <tr>\n",
       "      <th>3</th>\n",
       "      <td>ph</td>\n",
       "      <td>275962462</td>\n",
       "      <td>RU506SH93IHUMY</td>\n",
       "      <td>1._size_does_not_fit_-_too_large</td>\n",
       "      <td>EU</td>\n",
       "      <td>36</td>\n",
       "      <td>NaN</td>\n",
       "      <td>NaN</td>\n",
       "    </tr>\n",
       "    <tr>\n",
       "      <th>4</th>\n",
       "      <td>ph</td>\n",
       "      <td>259521762</td>\n",
       "      <td>MC141AC39HVKPH</td>\n",
       "      <td>2._size_does_not_fit_-_too_small</td>\n",
       "      <td>US</td>\n",
       "      <td>M</td>\n",
       "      <td>NaN</td>\n",
       "      <td>NaN</td>\n",
       "    </tr>\n",
       "  </tbody>\n",
       "</table>\n",
       "</div>"
      ],
      "text/plain": [
       "  Country   Order nr          SKU ID                       Reason Name  \\\n",
       "0      ph  239748222  EV032US96WVNPH  1._size_does_not_fit_-_too_large   \n",
       "1      ph  251645722  CH672SH32LPNPH  2._size_does_not_fit_-_too_small   \n",
       "2      ph  235646762  EM520AC06VDDPH  1._size_does_not_fit_-_too_large   \n",
       "3      ph  275962462  RU506SH93IHUMY  1._size_does_not_fit_-_too_large   \n",
       "4      ph  259521762  MC141AC39HVKPH  2._size_does_not_fit_-_too_small   \n",
       "\n",
       "  original_size_system_name original_size_name exchanged_size_system_name  \\\n",
       "0             International           One Size                        NaN   \n",
       "1                        US                  7                        NaN   \n",
       "2             International           One Size                        NaN   \n",
       "3                        EU                 36                        NaN   \n",
       "4                        US                  M                        NaN   \n",
       "\n",
       "  exchanged_size_name  \n",
       "0                 NaN  \n",
       "1                 NaN  \n",
       "2                 NaN  \n",
       "3                 NaN  \n",
       "4                 NaN  "
      ]
     },
     "execution_count": 39,
     "metadata": {},
     "output_type": "execute_result"
    }
   ],
   "source": [
    "DATA_EXCHANGE_RETURNS.head()"
   ]
  },
  {
   "cell_type": "code",
   "execution_count": 40,
   "metadata": {},
   "outputs": [
    {
     "name": "stdout",
     "output_type": "stream",
     "text": [
      "<class 'pandas.core.frame.DataFrame'>\n",
      "RangeIndex: 387055 entries, 0 to 387054\n",
      "Data columns (total 8 columns):\n",
      "Country                       387055 non-null object\n",
      "Order nr                      386344 non-null object\n",
      "SKU ID                        387055 non-null object\n",
      "Reason Name                   91242 non-null object\n",
      "original_size_system_name     385998 non-null object\n",
      "original_size_name            386344 non-null object\n",
      "exchanged_size_system_name    295813 non-null object\n",
      "exchanged_size_name           295813 non-null object\n",
      "dtypes: object(8)\n",
      "memory usage: 23.6+ MB\n"
     ]
    }
   ],
   "source": [
    "DATA_EXCHANGE_RETURNS.info()"
   ]
  },
  {
   "cell_type": "markdown",
   "metadata": {},
   "source": [
    "## Filter for 'size_does_not_fit' reasons"
   ]
  },
  {
   "cell_type": "code",
   "execution_count": 41,
   "metadata": {},
   "outputs": [
    {
     "data": {
      "text/plain": [
       "array(['1._size_does_not_fit_-_too_large',\n",
       "       '2._size_does_not_fit_-_too_small', nan], dtype=object)"
      ]
     },
     "execution_count": 41,
     "metadata": {},
     "output_type": "execute_result"
    }
   ],
   "source": [
    "DATA_EXCHANGE_RETURNS['Reason Name'].unique()"
   ]
  },
  {
   "cell_type": "code",
   "execution_count": 42,
   "metadata": {},
   "outputs": [],
   "source": [
    "selected_reasons = {\n",
    "    '1._size_does_not_fit_-_too_large':'too_large',\n",
    "    '2._size_does_not_fit_-_too_small':'too_small'\n",
    "}"
   ]
  },
  {
   "cell_type": "code",
   "execution_count": 43,
   "metadata": {},
   "outputs": [],
   "source": [
    "DATA_EXCHANGE_RETURNS = DATA_EXCHANGE_RETURNS[\n",
    "    DATA_EXCHANGE_RETURNS['Reason Name'].map(lambda x: x in list(selected_reasons.keys()))\n",
    "]"
   ]
  },
  {
   "cell_type": "code",
   "execution_count": 44,
   "metadata": {},
   "outputs": [
    {
     "name": "stdout",
     "output_type": "stream",
     "text": [
      "<class 'pandas.core.frame.DataFrame'>\n",
      "Int64Index: 91242 entries, 0 to 98282\n",
      "Data columns (total 8 columns):\n",
      "Country                       91242 non-null object\n",
      "Order nr                      91242 non-null object\n",
      "SKU ID                        91242 non-null object\n",
      "Reason Name                   91242 non-null object\n",
      "original_size_system_name     90896 non-null object\n",
      "original_size_name            91242 non-null object\n",
      "exchanged_size_system_name    0 non-null object\n",
      "exchanged_size_name           0 non-null object\n",
      "dtypes: object(8)\n",
      "memory usage: 6.3+ MB\n"
     ]
    }
   ],
   "source": [
    "DATA_EXCHANGE_RETURNS.info()"
   ]
  },
  {
   "cell_type": "markdown",
   "metadata": {},
   "source": [
    "## Simplify Reason Names"
   ]
  },
  {
   "cell_type": "code",
   "execution_count": 45,
   "metadata": {},
   "outputs": [],
   "source": [
    "DATA_EXCHANGE_RETURNS['Reason Name'] = DATA_EXCHANGE_RETURNS['Reason Name'].map(selected_reasons)"
   ]
  },
  {
   "cell_type": "markdown",
   "metadata": {},
   "source": [
    "## Normalize strings for size system names and size names"
   ]
  },
  {
   "cell_type": "code",
   "execution_count": 46,
   "metadata": {},
   "outputs": [],
   "source": [
    "for sizetype in ['original','exchanged']:\n",
    "    for sizenametype in ['size_system_name','size_name']:\n",
    "        DATA_EXCHANGE_RETURNS[f'{sizetype}_{sizenametype}'] = \\\n",
    "          DATA_EXCHANGE_RETURNS[f'{sizetype}_{sizenametype}'].apply(normalize_string)"
   ]
  },
  {
   "cell_type": "markdown",
   "metadata": {},
   "source": [
    "## Get original and exchanged sizes by joining size system name with size name"
   ]
  },
  {
   "cell_type": "code",
   "execution_count": 47,
   "metadata": {},
   "outputs": [],
   "source": [
    "for sizetype in ['original','exchanged']:\n",
    "    DATA_EXCHANGE_RETURNS[f'{sizetype}_size'] = [\n",
    "        str(sys_name) + ' ' + str(name) \n",
    "        for sys_name,name in zip(\n",
    "            DATA_EXCHANGE_RETURNS[f'{sizetype}_size_system_name'],\n",
    "            DATA_EXCHANGE_RETURNS[f'{sizetype}_size_name']\n",
    "        )\n",
    "    ]\n",
    "    \n",
    "    DATA_EXCHANGE_RETURNS[f'{sizetype}_size'] = DATA_EXCHANGE_RETURNS[f'{sizetype}_size'].apply(normalize_string)"
   ]
  },
  {
   "cell_type": "code",
   "execution_count": 50,
   "metadata": {},
   "outputs": [
    {
     "data": {
      "text/plain": [
       "(91242, 10)"
      ]
     },
     "execution_count": 50,
     "metadata": {},
     "output_type": "execute_result"
    }
   ],
   "source": [
    "DATA_EXCHANGE_RETURNS.shape"
   ]
  },
  {
   "cell_type": "code",
   "execution_count": 48,
   "metadata": {},
   "outputs": [
    {
     "data": {
      "text/html": [
       "<div>\n",
       "<style scoped>\n",
       "    .dataframe tbody tr th:only-of-type {\n",
       "        vertical-align: middle;\n",
       "    }\n",
       "\n",
       "    .dataframe tbody tr th {\n",
       "        vertical-align: top;\n",
       "    }\n",
       "\n",
       "    .dataframe thead th {\n",
       "        text-align: right;\n",
       "    }\n",
       "</style>\n",
       "<table border=\"1\" class=\"dataframe\">\n",
       "  <thead>\n",
       "    <tr style=\"text-align: right;\">\n",
       "      <th></th>\n",
       "      <th>Country</th>\n",
       "      <th>Order nr</th>\n",
       "      <th>SKU ID</th>\n",
       "      <th>Reason Name</th>\n",
       "      <th>original_size_system_name</th>\n",
       "      <th>original_size_name</th>\n",
       "      <th>exchanged_size_system_name</th>\n",
       "      <th>exchanged_size_name</th>\n",
       "      <th>original_size</th>\n",
       "      <th>exchanged_size</th>\n",
       "    </tr>\n",
       "  </thead>\n",
       "  <tbody>\n",
       "    <tr>\n",
       "      <th>0</th>\n",
       "      <td>ph</td>\n",
       "      <td>239748222</td>\n",
       "      <td>EV032US96WVNPH</td>\n",
       "      <td>too_large</td>\n",
       "      <td>international</td>\n",
       "      <td>onesize</td>\n",
       "      <td>&lt;NA&gt;</td>\n",
       "      <td>&lt;NA&gt;</td>\n",
       "      <td>internationalonesize</td>\n",
       "      <td>&lt;na&gt;&lt;na&gt;</td>\n",
       "    </tr>\n",
       "    <tr>\n",
       "      <th>1</th>\n",
       "      <td>ph</td>\n",
       "      <td>251645722</td>\n",
       "      <td>CH672SH32LPNPH</td>\n",
       "      <td>too_small</td>\n",
       "      <td>us</td>\n",
       "      <td>7</td>\n",
       "      <td>&lt;NA&gt;</td>\n",
       "      <td>&lt;NA&gt;</td>\n",
       "      <td>us7</td>\n",
       "      <td>&lt;na&gt;&lt;na&gt;</td>\n",
       "    </tr>\n",
       "    <tr>\n",
       "      <th>2</th>\n",
       "      <td>ph</td>\n",
       "      <td>235646762</td>\n",
       "      <td>EM520AC06VDDPH</td>\n",
       "      <td>too_large</td>\n",
       "      <td>international</td>\n",
       "      <td>onesize</td>\n",
       "      <td>&lt;NA&gt;</td>\n",
       "      <td>&lt;NA&gt;</td>\n",
       "      <td>internationalonesize</td>\n",
       "      <td>&lt;na&gt;&lt;na&gt;</td>\n",
       "    </tr>\n",
       "    <tr>\n",
       "      <th>3</th>\n",
       "      <td>ph</td>\n",
       "      <td>275962462</td>\n",
       "      <td>RU506SH93IHUMY</td>\n",
       "      <td>too_large</td>\n",
       "      <td>eu</td>\n",
       "      <td>36</td>\n",
       "      <td>&lt;NA&gt;</td>\n",
       "      <td>&lt;NA&gt;</td>\n",
       "      <td>eu36</td>\n",
       "      <td>&lt;na&gt;&lt;na&gt;</td>\n",
       "    </tr>\n",
       "    <tr>\n",
       "      <th>4</th>\n",
       "      <td>ph</td>\n",
       "      <td>259521762</td>\n",
       "      <td>MC141AC39HVKPH</td>\n",
       "      <td>too_small</td>\n",
       "      <td>us</td>\n",
       "      <td>m</td>\n",
       "      <td>&lt;NA&gt;</td>\n",
       "      <td>&lt;NA&gt;</td>\n",
       "      <td>usm</td>\n",
       "      <td>&lt;na&gt;&lt;na&gt;</td>\n",
       "    </tr>\n",
       "  </tbody>\n",
       "</table>\n",
       "</div>"
      ],
      "text/plain": [
       "  Country   Order nr          SKU ID Reason Name original_size_system_name  \\\n",
       "0      ph  239748222  EV032US96WVNPH   too_large             international   \n",
       "1      ph  251645722  CH672SH32LPNPH   too_small                        us   \n",
       "2      ph  235646762  EM520AC06VDDPH   too_large             international   \n",
       "3      ph  275962462  RU506SH93IHUMY   too_large                        eu   \n",
       "4      ph  259521762  MC141AC39HVKPH   too_small                        us   \n",
       "\n",
       "  original_size_name exchanged_size_system_name exchanged_size_name  \\\n",
       "0            onesize                       <NA>                <NA>   \n",
       "1                  7                       <NA>                <NA>   \n",
       "2            onesize                       <NA>                <NA>   \n",
       "3                 36                       <NA>                <NA>   \n",
       "4                  m                       <NA>                <NA>   \n",
       "\n",
       "          original_size exchanged_size  \n",
       "0  internationalonesize       <na><na>  \n",
       "1                   us7       <na><na>  \n",
       "2  internationalonesize       <na><na>  \n",
       "3                  eu36       <na><na>  \n",
       "4                   usm       <na><na>  "
      ]
     },
     "execution_count": 48,
     "metadata": {},
     "output_type": "execute_result"
    }
   ],
   "source": [
    "DATA_EXCHANGE_RETURNS.head()"
   ]
  },
  {
   "cell_type": "markdown",
   "metadata": {},
   "source": [
    "## Columns of interest"
   ]
  },
  {
   "cell_type": "code",
   "execution_count": 51,
   "metadata": {},
   "outputs": [],
   "source": [
    "DATA_EXCHANGE_RETURNS = DATA_EXCHANGE_RETURNS[[\n",
    "    'Order nr',\n",
    "    'SKU ID',\n",
    "    'Reason Name',\n",
    "    'original_size',\n",
    "    'exchanged_size'\n",
    "]]"
   ]
  },
  {
   "cell_type": "markdown",
   "metadata": {},
   "source": [
    "## Consolidating unique records"
   ]
  },
  {
   "cell_type": "code",
   "execution_count": 54,
   "metadata": {},
   "outputs": [
    {
     "data": {
      "text/html": [
       "<div>\n",
       "<style scoped>\n",
       "    .dataframe tbody tr th:only-of-type {\n",
       "        vertical-align: middle;\n",
       "    }\n",
       "\n",
       "    .dataframe tbody tr th {\n",
       "        vertical-align: top;\n",
       "    }\n",
       "\n",
       "    .dataframe thead th {\n",
       "        text-align: right;\n",
       "    }\n",
       "</style>\n",
       "<table border=\"1\" class=\"dataframe\">\n",
       "  <thead>\n",
       "    <tr style=\"text-align: right;\">\n",
       "      <th></th>\n",
       "      <th>Order nr</th>\n",
       "      <th>SKU ID</th>\n",
       "      <th>Reason Name</th>\n",
       "      <th>original_size</th>\n",
       "      <th>exchanged_size</th>\n",
       "    </tr>\n",
       "  </thead>\n",
       "  <tbody>\n",
       "    <tr>\n",
       "      <th>0</th>\n",
       "      <td>239748222</td>\n",
       "      <td>EV032US96WVNPH</td>\n",
       "      <td>too_large</td>\n",
       "      <td>internationalonesize</td>\n",
       "      <td>&lt;na&gt;&lt;na&gt;</td>\n",
       "    </tr>\n",
       "    <tr>\n",
       "      <th>1</th>\n",
       "      <td>251645722</td>\n",
       "      <td>CH672SH32LPNPH</td>\n",
       "      <td>too_small</td>\n",
       "      <td>us7</td>\n",
       "      <td>&lt;na&gt;&lt;na&gt;</td>\n",
       "    </tr>\n",
       "    <tr>\n",
       "      <th>2</th>\n",
       "      <td>235646762</td>\n",
       "      <td>EM520AC06VDDPH</td>\n",
       "      <td>too_large</td>\n",
       "      <td>internationalonesize</td>\n",
       "      <td>&lt;na&gt;&lt;na&gt;</td>\n",
       "    </tr>\n",
       "    <tr>\n",
       "      <th>3</th>\n",
       "      <td>275962462</td>\n",
       "      <td>RU506SH93IHUMY</td>\n",
       "      <td>too_large</td>\n",
       "      <td>eu36</td>\n",
       "      <td>&lt;na&gt;&lt;na&gt;</td>\n",
       "    </tr>\n",
       "    <tr>\n",
       "      <th>4</th>\n",
       "      <td>259521762</td>\n",
       "      <td>MC141AC39HVKPH</td>\n",
       "      <td>too_small</td>\n",
       "      <td>usm</td>\n",
       "      <td>&lt;na&gt;&lt;na&gt;</td>\n",
       "    </tr>\n",
       "    <tr>\n",
       "      <th>5</th>\n",
       "      <td>231545122</td>\n",
       "      <td>SP132SH0IJXLPH</td>\n",
       "      <td>too_small</td>\n",
       "      <td>us9</td>\n",
       "      <td>&lt;na&gt;&lt;na&gt;</td>\n",
       "    </tr>\n",
       "    <tr>\n",
       "      <th>6</th>\n",
       "      <td>228331822</td>\n",
       "      <td>CH672SH99QBCPH</td>\n",
       "      <td>too_small</td>\n",
       "      <td>us8</td>\n",
       "      <td>&lt;na&gt;&lt;na&gt;</td>\n",
       "    </tr>\n",
       "    <tr>\n",
       "      <th>7</th>\n",
       "      <td>276191162</td>\n",
       "      <td>LO601AA67KQUPH</td>\n",
       "      <td>too_small</td>\n",
       "      <td>internationalxl</td>\n",
       "      <td>&lt;na&gt;&lt;na&gt;</td>\n",
       "    </tr>\n",
       "    <tr>\n",
       "      <th>8</th>\n",
       "      <td>282982362</td>\n",
       "      <td>F1525AA74BFHPH</td>\n",
       "      <td>too_large</td>\n",
       "      <td>internationalonesize</td>\n",
       "      <td>&lt;na&gt;&lt;na&gt;</td>\n",
       "    </tr>\n",
       "    <tr>\n",
       "      <th>9</th>\n",
       "      <td>282982362</td>\n",
       "      <td>F1525AA74BFHPH</td>\n",
       "      <td>too_large</td>\n",
       "      <td>internationalonesize</td>\n",
       "      <td>&lt;na&gt;&lt;na&gt;</td>\n",
       "    </tr>\n",
       "  </tbody>\n",
       "</table>\n",
       "</div>"
      ],
      "text/plain": [
       "    Order nr          SKU ID Reason Name         original_size exchanged_size\n",
       "0  239748222  EV032US96WVNPH   too_large  internationalonesize       <na><na>\n",
       "1  251645722  CH672SH32LPNPH   too_small                   us7       <na><na>\n",
       "2  235646762  EM520AC06VDDPH   too_large  internationalonesize       <na><na>\n",
       "3  275962462  RU506SH93IHUMY   too_large                  eu36       <na><na>\n",
       "4  259521762  MC141AC39HVKPH   too_small                   usm       <na><na>\n",
       "5  231545122  SP132SH0IJXLPH   too_small                   us9       <na><na>\n",
       "6  228331822  CH672SH99QBCPH   too_small                   us8       <na><na>\n",
       "7  276191162  LO601AA67KQUPH   too_small       internationalxl       <na><na>\n",
       "8  282982362  F1525AA74BFHPH   too_large  internationalonesize       <na><na>\n",
       "9  282982362  F1525AA74BFHPH   too_large  internationalonesize       <na><na>"
      ]
     },
     "execution_count": 54,
     "metadata": {},
     "output_type": "execute_result"
    }
   ],
   "source": [
    "DATA_EXCHANGE_RETURNS.head(10)"
   ]
  },
  {
   "cell_type": "markdown",
   "metadata": {},
   "source": [
    "Each exchange/return record shall be uniquely identified by\n",
    "\n",
    "* **Transaction ID** -- *Order nr*\n",
    "* **Product ID purchased in that Transaction** -- *SKU ID*\n",
    "* **Size of Product Purchased for that Product ID** -- *original_size*"
   ]
  },
  {
   "cell_type": "markdown",
   "metadata": {},
   "source": [
    "### Remove duplicate records"
   ]
  },
  {
   "cell_type": "code",
   "execution_count": 65,
   "metadata": {},
   "outputs": [
    {
     "name": "stdout",
     "output_type": "stream",
     "text": [
      "467 out of 91242 rows are duplicate records (0.51%)\n"
     ]
    }
   ],
   "source": [
    "print('{0} out of {1} rows are duplicate records ({2}%)'.format(\n",
    "    DATA_EXCHANGE_RETURNS.duplicated(keep='first').sum(),\n",
    "    DATA_EXCHANGE_RETURNS.shape[0],\n",
    "    round(100*DATA_EXCHANGE_RETURNS.duplicated(keep='first').sum()/DATA_EXCHANGE_RETURNS.shape[0],2)\n",
    "))"
   ]
  },
  {
   "cell_type": "code",
   "execution_count": 66,
   "metadata": {},
   "outputs": [],
   "source": [
    "DATA_EXCHANGE_RETURNS = DATA_EXCHANGE_RETURNS[~DATA_EXCHANGE_RETURNS.duplicated(keep='first')]"
   ]
  },
  {
   "cell_type": "code",
   "execution_count": 68,
   "metadata": {},
   "outputs": [
    {
     "data": {
      "text/plain": [
       "(90775, 5)"
      ]
     },
     "execution_count": 68,
     "metadata": {},
     "output_type": "execute_result"
    }
   ],
   "source": [
    "DATA_EXCHANGE_RETURNS.shape"
   ]
  },
  {
   "cell_type": "markdown",
   "metadata": {},
   "source": [
    "### For each unique exchange/return record, concatenate all the associated **Reason Names** and **Exchanged Sizes** if there are more than 1 "
   ]
  },
  {
   "cell_type": "code",
   "execution_count": 69,
   "metadata": {},
   "outputs": [],
   "source": [
    "DATA_EXCHANGE_RETURNS = DATA_EXCHANGE_RETURNS\\\n",
    "  .groupby(['Order nr','SKU ID','original_size'])\\\n",
    "  .agg({\n",
    "    'Reason Name' : lambda x: '__AND__'.join(sorted(list(set(x)))),\n",
    "    'exchanged_size' : lambda x: '__AND__'.join(sorted(list(set(x))))\n",
    "  })\\\n",
    "  .reset_index()"
   ]
  },
  {
   "cell_type": "code",
   "execution_count": 71,
   "metadata": {},
   "outputs": [
    {
     "data": {
      "text/plain": [
       "(90740, 5)"
      ]
     },
     "execution_count": 71,
     "metadata": {},
     "output_type": "execute_result"
    }
   ],
   "source": [
    "DATA_EXCHANGE_RETURNS.shape"
   ]
  },
  {
   "cell_type": "code",
   "execution_count": 72,
   "metadata": {},
   "outputs": [
    {
     "data": {
      "text/html": [
       "<div>\n",
       "<style scoped>\n",
       "    .dataframe tbody tr th:only-of-type {\n",
       "        vertical-align: middle;\n",
       "    }\n",
       "\n",
       "    .dataframe tbody tr th {\n",
       "        vertical-align: top;\n",
       "    }\n",
       "\n",
       "    .dataframe thead th {\n",
       "        text-align: right;\n",
       "    }\n",
       "</style>\n",
       "<table border=\"1\" class=\"dataframe\">\n",
       "  <thead>\n",
       "    <tr style=\"text-align: right;\">\n",
       "      <th></th>\n",
       "      <th>Order nr</th>\n",
       "      <th>SKU ID</th>\n",
       "      <th>original_size</th>\n",
       "      <th>Reason Name</th>\n",
       "      <th>exchanged_size</th>\n",
       "    </tr>\n",
       "  </thead>\n",
       "  <tbody>\n",
       "    <tr>\n",
       "      <th>0</th>\n",
       "      <td>211113522</td>\n",
       "      <td>CBF67AA8DA5D5EGS</td>\n",
       "      <td>internationals</td>\n",
       "      <td>too_large</td>\n",
       "      <td>&lt;na&gt;&lt;na&gt;</td>\n",
       "    </tr>\n",
       "    <tr>\n",
       "      <th>1</th>\n",
       "      <td>211113662</td>\n",
       "      <td>AE351AA0039298GS</td>\n",
       "      <td>internationall</td>\n",
       "      <td>too_small</td>\n",
       "      <td>&lt;na&gt;&lt;na&gt;</td>\n",
       "    </tr>\n",
       "    <tr>\n",
       "      <th>2</th>\n",
       "      <td>211113822</td>\n",
       "      <td>BI090SH55HNOMY</td>\n",
       "      <td>eu39</td>\n",
       "      <td>too_large</td>\n",
       "      <td>&lt;na&gt;&lt;na&gt;</td>\n",
       "    </tr>\n",
       "    <tr>\n",
       "      <th>3</th>\n",
       "      <td>211114862</td>\n",
       "      <td>C8695AAD6F487CGS</td>\n",
       "      <td>eu38</td>\n",
       "      <td>too_small</td>\n",
       "      <td>&lt;na&gt;&lt;na&gt;</td>\n",
       "    </tr>\n",
       "    <tr>\n",
       "      <th>4</th>\n",
       "      <td>211114922</td>\n",
       "      <td>5E1B9AA609044BGS</td>\n",
       "      <td>internationalm</td>\n",
       "      <td>too_large</td>\n",
       "      <td>&lt;na&gt;&lt;na&gt;</td>\n",
       "    </tr>\n",
       "  </tbody>\n",
       "</table>\n",
       "</div>"
      ],
      "text/plain": [
       "    Order nr            SKU ID   original_size Reason Name exchanged_size\n",
       "0  211113522  CBF67AA8DA5D5EGS  internationals   too_large       <na><na>\n",
       "1  211113662  AE351AA0039298GS  internationall   too_small       <na><na>\n",
       "2  211113822    BI090SH55HNOMY            eu39   too_large       <na><na>\n",
       "3  211114862  C8695AAD6F487CGS            eu38   too_small       <na><na>\n",
       "4  211114922  5E1B9AA609044BGS  internationalm   too_large       <na><na>"
      ]
     },
     "execution_count": 72,
     "metadata": {},
     "output_type": "execute_result"
    }
   ],
   "source": [
    "DATA_EXCHANGE_RETURNS.head()"
   ]
  },
  {
   "cell_type": "code",
   "execution_count": 83,
   "metadata": {},
   "outputs": [
    {
     "data": {
      "text/plain": [
       "(35, 5)"
      ]
     },
     "execution_count": 83,
     "metadata": {},
     "output_type": "execute_result"
    }
   ],
   "source": [
    "## 35 records with more than 1 Reason Names (includes both too large and too small)\n",
    "DATA_EXCHANGE_RETURNS[DATA_EXCHANGE_RETURNS['Reason Name'].apply(\n",
    "    lambda x: True if re.search(pattern='_AND_',string=x) else False\n",
    ")].shape"
   ]
  },
  {
   "cell_type": "markdown",
   "metadata": {},
   "source": [
    "## Summary of data processing steps\n",
    "\n",
    "1. Filter for 'size_does_not_fit' related reason names\n",
    "  * Original row count : 387055 ==> New row count : 91242\n",
    "\n",
    "\n",
    "2. Get original and exchanged sizes (system_name concat with size_name)\n",
    "\n",
    "\n",
    "3. Normalize original / exchanged size strings\n",
    "  * strip whitespace\n",
    "  * lowercasing\n",
    "\n",
    "\n",
    "4. Removing duplicates\n",
    "  * Original row count : 91242 ==> New row count : 90775\n",
    "  \n",
    "  \n",
    "5. Consolidate Reason Names and Exchanged sizes for each unique exchange/return record\n",
    "  * Original row count : 90775 ==> New row count : 90740"
   ]
  },
  {
   "cell_type": "markdown",
   "metadata": {},
   "source": [
    "# Data on Conversions"
   ]
  },
  {
   "cell_type": "markdown",
   "metadata": {},
   "source": [
    "## Read in Conversions data (data dump from json stream, 1 line per record)"
   ]
  },
  {
   "cell_type": "code",
   "execution_count": 128,
   "metadata": {},
   "outputs": [],
   "source": [
    "JSON_DUMP = []"
   ]
  },
  {
   "cell_type": "code",
   "execution_count": 129,
   "metadata": {},
   "outputs": [],
   "source": [
    "with open(FILEPATH_DATA_CONVERSIONS) as f:\n",
    "    for line in f.readlines():\n",
    "        JSON_DUMP.append(json.loads(line))"
   ]
  },
  {
   "cell_type": "code",
   "execution_count": 130,
   "metadata": {},
   "outputs": [
    {
     "data": {
      "text/plain": [
       "62482"
      ]
     },
     "execution_count": 130,
     "metadata": {},
     "output_type": "execute_result"
    }
   ],
   "source": [
    "len(JSON_DUMP)"
   ]
  },
  {
   "cell_type": "code",
   "execution_count": 131,
   "metadata": {},
   "outputs": [
    {
     "data": {
      "text/plain": [
       "[{'_index': 'tracking_prod',\n",
       "  '_type': 'conversion',\n",
       "  '_id': '8a8b6404-e312-4bef-98cd-df3637d09b2f',\n",
       "  '_score': 7.5778923,\n",
       "  '_source': {'uid': 'unknown',\n",
       "   'amount': '1394',\n",
       "   'clientId': 'ubu8zhxrh8hg',\n",
       "   'currency': 'PHP',\n",
       "   'transaction': '257871622',\n",
       "   'products': [{'quantity': 1,\n",
       "     'size': 'International L',\n",
       "     'price': '413.59',\n",
       "     'sku': '3AE72AA36B07C6GS'},\n",
       "    {'quantity': 1,\n",
       "     'size': 'International M',\n",
       "     'price': '465.36',\n",
       "     'sku': 'B9586AA24B4E70GS'},\n",
       "    {'quantity': 1,\n",
       "     'size': 'International M',\n",
       "     'price': '515.05',\n",
       "     'sku': '079A3AAEAB518DGS'}],\n",
       "   'timestamp': '2018-11-09T05:59:08.254Z'}}]"
      ]
     },
     "execution_count": 131,
     "metadata": {},
     "output_type": "execute_result"
    }
   ],
   "source": [
    "JSON_DUMP[:1]"
   ]
  },
  {
   "cell_type": "markdown",
   "metadata": {},
   "source": [
    "The data we are interested in is nested inside the **_source** key in the record"
   ]
  },
  {
   "cell_type": "code",
   "execution_count": 132,
   "metadata": {},
   "outputs": [],
   "source": [
    "DATA_CONVERSIONS = pd.DataFrame.from_records([\n",
    "    record['_source'] for record in JSON_DUMP\n",
    "])"
   ]
  },
  {
   "cell_type": "code",
   "execution_count": 133,
   "metadata": {},
   "outputs": [
    {
     "data": {
      "text/html": [
       "<div>\n",
       "<style scoped>\n",
       "    .dataframe tbody tr th:only-of-type {\n",
       "        vertical-align: middle;\n",
       "    }\n",
       "\n",
       "    .dataframe tbody tr th {\n",
       "        vertical-align: top;\n",
       "    }\n",
       "\n",
       "    .dataframe thead th {\n",
       "        text-align: right;\n",
       "    }\n",
       "</style>\n",
       "<table border=\"1\" class=\"dataframe\">\n",
       "  <thead>\n",
       "    <tr style=\"text-align: right;\">\n",
       "      <th></th>\n",
       "      <th>amount</th>\n",
       "      <th>clientId</th>\n",
       "      <th>currency</th>\n",
       "      <th>products</th>\n",
       "      <th>timestamp</th>\n",
       "      <th>transaction</th>\n",
       "      <th>uid</th>\n",
       "    </tr>\n",
       "  </thead>\n",
       "  <tbody>\n",
       "    <tr>\n",
       "      <th>0</th>\n",
       "      <td>1394</td>\n",
       "      <td>ubu8zhxrh8hg</td>\n",
       "      <td>PHP</td>\n",
       "      <td>[{'quantity': 1, 'size': 'International L', 'p...</td>\n",
       "      <td>2018-11-09T05:59:08.254Z</td>\n",
       "      <td>257871622</td>\n",
       "      <td>unknown</td>\n",
       "    </tr>\n",
       "    <tr>\n",
       "      <th>1</th>\n",
       "      <td>299</td>\n",
       "      <td>ubu8zhxrh8hg</td>\n",
       "      <td>PHP</td>\n",
       "      <td>[{'quantity': 1, 'size': 'International One Si...</td>\n",
       "      <td>2018-11-09T06:32:29.749Z</td>\n",
       "      <td>265371622</td>\n",
       "      <td>0fc636a4-a03f-493d-8122-64f98c12e6df</td>\n",
       "    </tr>\n",
       "    <tr>\n",
       "      <th>2</th>\n",
       "      <td>24000</td>\n",
       "      <td>ubu8zhxrh8hg</td>\n",
       "      <td>PHP</td>\n",
       "      <td>[{'quantity': 12, 'size': 'International One S...</td>\n",
       "      <td>2018-11-09T08:40:44.673Z</td>\n",
       "      <td>231351622</td>\n",
       "      <td>3c3c50b0-99a2-494e-8228-b559eafccc02</td>\n",
       "    </tr>\n",
       "    <tr>\n",
       "      <th>3</th>\n",
       "      <td>1299</td>\n",
       "      <td>ubu8zhxrh8hg</td>\n",
       "      <td>PHP</td>\n",
       "      <td>[{'quantity': 1, 'size': 'Brazil 37/38', 'pric...</td>\n",
       "      <td>2018-11-09T11:52:16.426Z</td>\n",
       "      <td>294431622</td>\n",
       "      <td>unknown</td>\n",
       "    </tr>\n",
       "    <tr>\n",
       "      <th>4</th>\n",
       "      <td>2091.56</td>\n",
       "      <td>ubu8zhxrh8hg</td>\n",
       "      <td>PHP</td>\n",
       "      <td>[{'quantity': 1, 'size': 'International L', 'p...</td>\n",
       "      <td>2018-11-09T12:55:39.748Z</td>\n",
       "      <td>218931622</td>\n",
       "      <td>unknown</td>\n",
       "    </tr>\n",
       "  </tbody>\n",
       "</table>\n",
       "</div>"
      ],
      "text/plain": [
       "    amount      clientId currency  \\\n",
       "0     1394  ubu8zhxrh8hg      PHP   \n",
       "1      299  ubu8zhxrh8hg      PHP   \n",
       "2    24000  ubu8zhxrh8hg      PHP   \n",
       "3     1299  ubu8zhxrh8hg      PHP   \n",
       "4  2091.56  ubu8zhxrh8hg      PHP   \n",
       "\n",
       "                                            products  \\\n",
       "0  [{'quantity': 1, 'size': 'International L', 'p...   \n",
       "1  [{'quantity': 1, 'size': 'International One Si...   \n",
       "2  [{'quantity': 12, 'size': 'International One S...   \n",
       "3  [{'quantity': 1, 'size': 'Brazil 37/38', 'pric...   \n",
       "4  [{'quantity': 1, 'size': 'International L', 'p...   \n",
       "\n",
       "                  timestamp transaction                                   uid  \n",
       "0  2018-11-09T05:59:08.254Z   257871622                               unknown  \n",
       "1  2018-11-09T06:32:29.749Z   265371622  0fc636a4-a03f-493d-8122-64f98c12e6df  \n",
       "2  2018-11-09T08:40:44.673Z   231351622  3c3c50b0-99a2-494e-8228-b559eafccc02  \n",
       "3  2018-11-09T11:52:16.426Z   294431622                               unknown  \n",
       "4  2018-11-09T12:55:39.748Z   218931622                               unknown  "
      ]
     },
     "execution_count": 133,
     "metadata": {},
     "output_type": "execute_result"
    }
   ],
   "source": [
    "DATA_CONVERSIONS.head()"
   ]
  },
  {
   "cell_type": "markdown",
   "metadata": {},
   "source": [
    "## Parse Date Time"
   ]
  },
  {
   "cell_type": "code",
   "execution_count": 134,
   "metadata": {},
   "outputs": [],
   "source": [
    "DATA_CONVERSIONS['timestamp_parsed'] = DATA_CONVERSIONS['timestamp'].map(\n",
    "    lambda x: datetime.datetime.strptime(x,'%Y-%m-%dT%H:%M:%S.%fz')\n",
    ")"
   ]
  },
  {
   "cell_type": "markdown",
   "metadata": {},
   "source": [
    "## Filter for transactions falling within date range of interest"
   ]
  },
  {
   "cell_type": "code",
   "execution_count": 135,
   "metadata": {},
   "outputs": [],
   "source": [
    "DATA_CONVERSIONS = DATA_CONVERSIONS[DATA_CONVERSIONS['timestamp_parsed'].map(lambda x: x.date() >= ORDER_START_DATE)]\n",
    "DATA_CONVERSIONS = DATA_CONVERSIONS[DATA_CONVERSIONS['timestamp_parsed'].map(lambda x: x.date() <= ORDER_END_DATE)]"
   ]
  },
  {
   "cell_type": "code",
   "execution_count": 136,
   "metadata": {},
   "outputs": [
    {
     "name": "stdout",
     "output_type": "stream",
     "text": [
      "<class 'pandas.core.frame.DataFrame'>\n",
      "Int64Index: 4705 entries, 5185 to 56886\n",
      "Data columns (total 8 columns):\n",
      "amount              4705 non-null object\n",
      "clientId            4705 non-null object\n",
      "currency            4705 non-null object\n",
      "products            4705 non-null object\n",
      "timestamp           4705 non-null object\n",
      "transaction         4705 non-null object\n",
      "uid                 4705 non-null object\n",
      "timestamp_parsed    4705 non-null datetime64[ns]\n",
      "dtypes: datetime64[ns](1), object(7)\n",
      "memory usage: 330.8+ KB\n"
     ]
    }
   ],
   "source": [
    "DATA_CONVERSIONS.info()"
   ]
  },
  {
   "cell_type": "code",
   "execution_count": 137,
   "metadata": {},
   "outputs": [
    {
     "name": "stdout",
     "output_type": "stream",
     "text": [
      "2019-02-01 00:03:44.419000\n",
      "2019-02-28 23:51:17.679000\n"
     ]
    }
   ],
   "source": [
    "print(np.min(DATA_CONVERSIONS['timestamp_parsed']))\n",
    "print(np.max(DATA_CONVERSIONS['timestamp_parsed']))"
   ]
  },
  {
   "cell_type": "code",
   "execution_count": 138,
   "metadata": {},
   "outputs": [
    {
     "data": {
      "text/html": [
       "<div>\n",
       "<style scoped>\n",
       "    .dataframe tbody tr th:only-of-type {\n",
       "        vertical-align: middle;\n",
       "    }\n",
       "\n",
       "    .dataframe tbody tr th {\n",
       "        vertical-align: top;\n",
       "    }\n",
       "\n",
       "    .dataframe thead th {\n",
       "        text-align: right;\n",
       "    }\n",
       "</style>\n",
       "<table border=\"1\" class=\"dataframe\">\n",
       "  <thead>\n",
       "    <tr style=\"text-align: right;\">\n",
       "      <th></th>\n",
       "      <th>amount</th>\n",
       "      <th>clientId</th>\n",
       "      <th>currency</th>\n",
       "      <th>products</th>\n",
       "      <th>timestamp</th>\n",
       "      <th>transaction</th>\n",
       "      <th>uid</th>\n",
       "      <th>timestamp_parsed</th>\n",
       "    </tr>\n",
       "  </thead>\n",
       "  <tbody>\n",
       "    <tr>\n",
       "      <th>5185</th>\n",
       "      <td>1143.12</td>\n",
       "      <td>ubu8zhxrh8hg</td>\n",
       "      <td>PHP</td>\n",
       "      <td>[{'quantity': 1, 'size': 'International S', 'p...</td>\n",
       "      <td>2019-02-07T08:29:55.536Z</td>\n",
       "      <td>215125962</td>\n",
       "      <td>unknown</td>\n",
       "      <td>2019-02-07 08:29:55.536</td>\n",
       "    </tr>\n",
       "    <tr>\n",
       "      <th>5186</th>\n",
       "      <td>1150</td>\n",
       "      <td>ubu8zhxrh8hg</td>\n",
       "      <td>PHP</td>\n",
       "      <td>[{'quantity': 1, 'size': 'UK 10', 'price': '11...</td>\n",
       "      <td>2019-02-07T08:49:49.141Z</td>\n",
       "      <td>215325962</td>\n",
       "      <td>f6fb8346-1b77-4e7f-a631-cfb4b571ceb6</td>\n",
       "      <td>2019-02-07 08:49:49.141</td>\n",
       "    </tr>\n",
       "    <tr>\n",
       "      <th>5187</th>\n",
       "      <td>1996</td>\n",
       "      <td>ubu8zhxrh8hg</td>\n",
       "      <td>PHP</td>\n",
       "      <td>[{'quantity': 2, 'size': 'International XXXL',...</td>\n",
       "      <td>2019-02-07T10:04:50.854Z</td>\n",
       "      <td>279965962</td>\n",
       "      <td>c5c23898-6998-4ae3-b4e9-9f4477ecd6bf</td>\n",
       "      <td>2019-02-07 10:04:50.854</td>\n",
       "    </tr>\n",
       "    <tr>\n",
       "      <th>5188</th>\n",
       "      <td>3650</td>\n",
       "      <td>ubu8zhxrh8hg</td>\n",
       "      <td>PHP</td>\n",
       "      <td>[{'quantity': 1, 'size': 'International One Si...</td>\n",
       "      <td>2019-02-07T17:41:34.990Z</td>\n",
       "      <td>267385962</td>\n",
       "      <td>a695c21f-e7ea-4a80-8719-a658a9af045e</td>\n",
       "      <td>2019-02-07 17:41:34.990</td>\n",
       "    </tr>\n",
       "    <tr>\n",
       "      <th>5189</th>\n",
       "      <td>1750</td>\n",
       "      <td>ubu8zhxrh8hg</td>\n",
       "      <td>PHP</td>\n",
       "      <td>[{'quantity': 1, 'size': 'International One Si...</td>\n",
       "      <td>2019-02-08T01:31:22.243Z</td>\n",
       "      <td>273455962</td>\n",
       "      <td>unknown</td>\n",
       "      <td>2019-02-08 01:31:22.243</td>\n",
       "    </tr>\n",
       "  </tbody>\n",
       "</table>\n",
       "</div>"
      ],
      "text/plain": [
       "       amount      clientId currency  \\\n",
       "5185  1143.12  ubu8zhxrh8hg      PHP   \n",
       "5186     1150  ubu8zhxrh8hg      PHP   \n",
       "5187     1996  ubu8zhxrh8hg      PHP   \n",
       "5188     3650  ubu8zhxrh8hg      PHP   \n",
       "5189     1750  ubu8zhxrh8hg      PHP   \n",
       "\n",
       "                                               products  \\\n",
       "5185  [{'quantity': 1, 'size': 'International S', 'p...   \n",
       "5186  [{'quantity': 1, 'size': 'UK 10', 'price': '11...   \n",
       "5187  [{'quantity': 2, 'size': 'International XXXL',...   \n",
       "5188  [{'quantity': 1, 'size': 'International One Si...   \n",
       "5189  [{'quantity': 1, 'size': 'International One Si...   \n",
       "\n",
       "                     timestamp transaction  \\\n",
       "5185  2019-02-07T08:29:55.536Z   215125962   \n",
       "5186  2019-02-07T08:49:49.141Z   215325962   \n",
       "5187  2019-02-07T10:04:50.854Z   279965962   \n",
       "5188  2019-02-07T17:41:34.990Z   267385962   \n",
       "5189  2019-02-08T01:31:22.243Z   273455962   \n",
       "\n",
       "                                       uid        timestamp_parsed  \n",
       "5185                               unknown 2019-02-07 08:29:55.536  \n",
       "5186  f6fb8346-1b77-4e7f-a631-cfb4b571ceb6 2019-02-07 08:49:49.141  \n",
       "5187  c5c23898-6998-4ae3-b4e9-9f4477ecd6bf 2019-02-07 10:04:50.854  \n",
       "5188  a695c21f-e7ea-4a80-8719-a658a9af045e 2019-02-07 17:41:34.990  \n",
       "5189                               unknown 2019-02-08 01:31:22.243  "
      ]
     },
     "execution_count": 138,
     "metadata": {},
     "output_type": "execute_result"
    }
   ],
   "source": [
    "DATA_CONVERSIONS.head()"
   ]
  },
  {
   "cell_type": "markdown",
   "metadata": {},
   "source": [
    "## Extract Products in Transactions"
   ]
  },
  {
   "cell_type": "code",
   "execution_count": 143,
   "metadata": {},
   "outputs": [
    {
     "data": {
      "text/plain": [
       "4705"
      ]
     },
     "execution_count": 143,
     "metadata": {},
     "output_type": "execute_result"
    }
   ],
   "source": [
    "# Number of unique transaction IDs\n",
    "len(DATA_CONVERSIONS.transaction.unique())"
   ]
  },
  {
   "cell_type": "code",
   "execution_count": 144,
   "metadata": {},
   "outputs": [
    {
     "data": {
      "text/plain": [
       "4705"
      ]
     },
     "execution_count": 144,
     "metadata": {},
     "output_type": "execute_result"
    }
   ],
   "source": [
    "# Number of rows\n",
    "DATA_CONVERSIONS.shape[0]"
   ]
  },
  {
   "cell_type": "markdown",
   "metadata": {},
   "source": [
    "Each data conversion record corresponds to 1 unique transaction ID"
   ]
  },
  {
   "cell_type": "code",
   "execution_count": 147,
   "metadata": {},
   "outputs": [],
   "source": [
    "DATA_CONVERSION_PRODUCTS = DATA_CONVERSIONS['products'].tolist()"
   ]
  },
  {
   "cell_type": "code",
   "execution_count": 148,
   "metadata": {},
   "outputs": [],
   "source": [
    "# For each product object in each transaction record, append the transaction id\n",
    "# This is to facilitate conversion to dataframe later on\n",
    "for i in range(DATA_CONVERSIONS.shape[0]):\n",
    "    for obj in DATA_CONVERSION_PRODUCTS[i]:\n",
    "        obj['transaction'] = DATA_CONVERSIONS['transaction'].tolist()[i]"
   ]
  },
  {
   "cell_type": "code",
   "execution_count": 149,
   "metadata": {},
   "outputs": [],
   "source": [
    "# flatten / unnest list of records\n",
    "DATA_CONVERSION_PRODUCTS = list(itertools.chain.from_iterable(DATA_CONVERSION_PRODUCTS))"
   ]
  },
  {
   "cell_type": "code",
   "execution_count": 150,
   "metadata": {},
   "outputs": [],
   "source": [
    "# format data into pandas dataframe\n",
    "DATA_CONVERSION_PRODUCTS = pd.DataFrame.from_records(DATA_CONVERSION_PRODUCTS)"
   ]
  },
  {
   "cell_type": "code",
   "execution_count": 151,
   "metadata": {},
   "outputs": [],
   "source": [
    "# remove records where sku is undefined\n",
    "DATA_CONVERSION_PRODUCTS = DATA_CONVERSION_PRODUCTS[~(DATA_CONVERSION_PRODUCTS['sku']=='undefined')]"
   ]
  },
  {
   "cell_type": "code",
   "execution_count": 152,
   "metadata": {},
   "outputs": [
    {
     "name": "stdout",
     "output_type": "stream",
     "text": [
      "<class 'pandas.core.frame.DataFrame'>\n",
      "Int64Index: 8578 entries, 0 to 8599\n",
      "Data columns (total 5 columns):\n",
      "price          8578 non-null object\n",
      "quantity       8578 non-null float64\n",
      "size           8578 non-null object\n",
      "sku            8578 non-null object\n",
      "transaction    8578 non-null object\n",
      "dtypes: float64(1), object(4)\n",
      "memory usage: 402.1+ KB\n"
     ]
    }
   ],
   "source": [
    "DATA_CONVERSION_PRODUCTS.info()"
   ]
  },
  {
   "cell_type": "code",
   "execution_count": 191,
   "metadata": {},
   "outputs": [
    {
     "data": {
      "text/html": [
       "<div>\n",
       "<style scoped>\n",
       "    .dataframe tbody tr th:only-of-type {\n",
       "        vertical-align: middle;\n",
       "    }\n",
       "\n",
       "    .dataframe tbody tr th {\n",
       "        vertical-align: top;\n",
       "    }\n",
       "\n",
       "    .dataframe thead th {\n",
       "        text-align: right;\n",
       "    }\n",
       "</style>\n",
       "<table border=\"1\" class=\"dataframe\">\n",
       "  <thead>\n",
       "    <tr style=\"text-align: right;\">\n",
       "      <th></th>\n",
       "      <th>price</th>\n",
       "      <th>quantity</th>\n",
       "      <th>size</th>\n",
       "      <th>sku</th>\n",
       "      <th>transaction</th>\n",
       "      <th>size_name</th>\n",
       "    </tr>\n",
       "  </thead>\n",
       "  <tbody>\n",
       "    <tr>\n",
       "      <th>0</th>\n",
       "      <td>1143.12</td>\n",
       "      <td>1.0</td>\n",
       "      <td>International S</td>\n",
       "      <td>04BF2AA2B31011GS</td>\n",
       "      <td>215125962</td>\n",
       "      <td>internationals</td>\n",
       "    </tr>\n",
       "    <tr>\n",
       "      <th>1</th>\n",
       "      <td>1150</td>\n",
       "      <td>1.0</td>\n",
       "      <td>UK 10</td>\n",
       "      <td>79CE8US7578ECEGS</td>\n",
       "      <td>215325962</td>\n",
       "      <td>uk10</td>\n",
       "    </tr>\n",
       "    <tr>\n",
       "      <th>2</th>\n",
       "      <td>998</td>\n",
       "      <td>2.0</td>\n",
       "      <td>International XXXL</td>\n",
       "      <td>6C34EAAE0207FDGS</td>\n",
       "      <td>279965962</td>\n",
       "      <td>internationalxxxl</td>\n",
       "    </tr>\n",
       "    <tr>\n",
       "      <th>3</th>\n",
       "      <td>3650</td>\n",
       "      <td>1.0</td>\n",
       "      <td>International One Size</td>\n",
       "      <td>4524FAC279C76EGS</td>\n",
       "      <td>267385962</td>\n",
       "      <td>internationalonesize</td>\n",
       "    </tr>\n",
       "    <tr>\n",
       "      <th>4</th>\n",
       "      <td>1750</td>\n",
       "      <td>1.0</td>\n",
       "      <td>International One Size</td>\n",
       "      <td>DB581ACD3B11F1GS</td>\n",
       "      <td>273455962</td>\n",
       "      <td>internationalonesize</td>\n",
       "    </tr>\n",
       "  </tbody>\n",
       "</table>\n",
       "</div>"
      ],
      "text/plain": [
       "     price  quantity                    size               sku transaction  \\\n",
       "0  1143.12       1.0         International S  04BF2AA2B31011GS   215125962   \n",
       "1     1150       1.0                   UK 10  79CE8US7578ECEGS   215325962   \n",
       "2      998       2.0      International XXXL  6C34EAAE0207FDGS   279965962   \n",
       "3     3650       1.0  International One Size  4524FAC279C76EGS   267385962   \n",
       "4     1750       1.0  International One Size  DB581ACD3B11F1GS   273455962   \n",
       "\n",
       "              size_name  \n",
       "0        internationals  \n",
       "1                  uk10  \n",
       "2     internationalxxxl  \n",
       "3  internationalonesize  \n",
       "4  internationalonesize  "
      ]
     },
     "execution_count": 191,
     "metadata": {},
     "output_type": "execute_result"
    }
   ],
   "source": [
    "DATA_CONVERSION_PRODUCTS.head()"
   ]
  },
  {
   "cell_type": "markdown",
   "metadata": {},
   "source": [
    "## Check for duplicates"
   ]
  },
  {
   "cell_type": "code",
   "execution_count": 154,
   "metadata": {},
   "outputs": [
    {
     "data": {
      "text/plain": [
       "0"
      ]
     },
     "execution_count": 154,
     "metadata": {},
     "output_type": "execute_result"
    }
   ],
   "source": [
    "DATA_CONVERSION_PRODUCTS.duplicated().sum() ## No duplicates"
   ]
  },
  {
   "cell_type": "markdown",
   "metadata": {},
   "source": [
    "## Standardize size names"
   ]
  },
  {
   "cell_type": "code",
   "execution_count": 155,
   "metadata": {},
   "outputs": [],
   "source": [
    "DATA_CONVERSION_PRODUCTS['size_name'] = DATA_CONVERSION_PRODUCTS['size'].apply(normalize_string)"
   ]
  },
  {
   "cell_type": "code",
   "execution_count": 156,
   "metadata": {},
   "outputs": [
    {
     "data": {
      "text/html": [
       "<div>\n",
       "<style scoped>\n",
       "    .dataframe tbody tr th:only-of-type {\n",
       "        vertical-align: middle;\n",
       "    }\n",
       "\n",
       "    .dataframe tbody tr th {\n",
       "        vertical-align: top;\n",
       "    }\n",
       "\n",
       "    .dataframe thead th {\n",
       "        text-align: right;\n",
       "    }\n",
       "</style>\n",
       "<table border=\"1\" class=\"dataframe\">\n",
       "  <thead>\n",
       "    <tr style=\"text-align: right;\">\n",
       "      <th></th>\n",
       "      <th>price</th>\n",
       "      <th>quantity</th>\n",
       "      <th>size</th>\n",
       "      <th>sku</th>\n",
       "      <th>transaction</th>\n",
       "      <th>size_name</th>\n",
       "    </tr>\n",
       "  </thead>\n",
       "  <tbody>\n",
       "    <tr>\n",
       "      <th>0</th>\n",
       "      <td>1143.12</td>\n",
       "      <td>1.0</td>\n",
       "      <td>International S</td>\n",
       "      <td>04BF2AA2B31011GS</td>\n",
       "      <td>215125962</td>\n",
       "      <td>internationals</td>\n",
       "    </tr>\n",
       "    <tr>\n",
       "      <th>1</th>\n",
       "      <td>1150</td>\n",
       "      <td>1.0</td>\n",
       "      <td>UK 10</td>\n",
       "      <td>79CE8US7578ECEGS</td>\n",
       "      <td>215325962</td>\n",
       "      <td>uk10</td>\n",
       "    </tr>\n",
       "    <tr>\n",
       "      <th>2</th>\n",
       "      <td>998</td>\n",
       "      <td>2.0</td>\n",
       "      <td>International XXXL</td>\n",
       "      <td>6C34EAAE0207FDGS</td>\n",
       "      <td>279965962</td>\n",
       "      <td>internationalxxxl</td>\n",
       "    </tr>\n",
       "    <tr>\n",
       "      <th>3</th>\n",
       "      <td>3650</td>\n",
       "      <td>1.0</td>\n",
       "      <td>International One Size</td>\n",
       "      <td>4524FAC279C76EGS</td>\n",
       "      <td>267385962</td>\n",
       "      <td>internationalonesize</td>\n",
       "    </tr>\n",
       "    <tr>\n",
       "      <th>4</th>\n",
       "      <td>1750</td>\n",
       "      <td>1.0</td>\n",
       "      <td>International One Size</td>\n",
       "      <td>DB581ACD3B11F1GS</td>\n",
       "      <td>273455962</td>\n",
       "      <td>internationalonesize</td>\n",
       "    </tr>\n",
       "  </tbody>\n",
       "</table>\n",
       "</div>"
      ],
      "text/plain": [
       "     price  quantity                    size               sku transaction  \\\n",
       "0  1143.12       1.0         International S  04BF2AA2B31011GS   215125962   \n",
       "1     1150       1.0                   UK 10  79CE8US7578ECEGS   215325962   \n",
       "2      998       2.0      International XXXL  6C34EAAE0207FDGS   279965962   \n",
       "3     3650       1.0  International One Size  4524FAC279C76EGS   267385962   \n",
       "4     1750       1.0  International One Size  DB581ACD3B11F1GS   273455962   \n",
       "\n",
       "              size_name  \n",
       "0        internationals  \n",
       "1                  uk10  \n",
       "2     internationalxxxl  \n",
       "3  internationalonesize  \n",
       "4  internationalonesize  "
      ]
     },
     "execution_count": 156,
     "metadata": {},
     "output_type": "execute_result"
    }
   ],
   "source": [
    "DATA_CONVERSION_PRODUCTS.head()"
   ]
  },
  {
   "cell_type": "markdown",
   "metadata": {},
   "source": [
    "# Merge Exchange/Return Data with Conversion Data"
   ]
  },
  {
   "cell_type": "markdown",
   "metadata": {},
   "source": [
    "## Step 1 : Find SKU IDs of Transaction IDs that were returned, regardless of size"
   ]
  },
  {
   "cell_type": "code",
   "execution_count": 157,
   "metadata": {},
   "outputs": [],
   "source": [
    "DATA_CONVERSIONS_EXCHANGE_RETURNS = DATA_CONVERSION_PRODUCTS.merge(\n",
    "  right = DATA_EXCHANGE_RETURNS[['Order nr','SKU ID']].drop_duplicates(),\n",
    "  how = 'left',\n",
    "  left_on = ['transaction','sku'],\n",
    "  right_on = ['Order nr','SKU ID'],\n",
    "  indicator = True\n",
    ")"
   ]
  },
  {
   "cell_type": "code",
   "execution_count": 158,
   "metadata": {},
   "outputs": [],
   "source": [
    "# ind_exchangereturn is an indicator variable of whether the product (SKUID) in the transaction (transaction)\n",
    "# was exchanged/returned with a stated size related reason (too_large/too_small)\n",
    "DATA_CONVERSIONS_EXCHANGE_RETURNS = DATA_CONVERSIONS_EXCHANGE_RETURNS.rename(\n",
    "    columns={'_merge':'ind_exchangereturn'}\n",
    ")"
   ]
  },
  {
   "cell_type": "code",
   "execution_count": 159,
   "metadata": {},
   "outputs": [],
   "source": [
    "DATA_CONVERSIONS_EXCHANGE_RETURNS['ind_exchangereturn'] = \\\n",
    "    DATA_CONVERSIONS_EXCHANGE_RETURNS['ind_exchangereturn'].map({\n",
    "        'both':1,\n",
    "        'left_only':0\n",
    "    })"
   ]
  },
  {
   "cell_type": "code",
   "execution_count": 160,
   "metadata": {},
   "outputs": [
    {
     "data": {
      "text/html": [
       "<div>\n",
       "<style scoped>\n",
       "    .dataframe tbody tr th:only-of-type {\n",
       "        vertical-align: middle;\n",
       "    }\n",
       "\n",
       "    .dataframe tbody tr th {\n",
       "        vertical-align: top;\n",
       "    }\n",
       "\n",
       "    .dataframe thead th {\n",
       "        text-align: right;\n",
       "    }\n",
       "</style>\n",
       "<table border=\"1\" class=\"dataframe\">\n",
       "  <thead>\n",
       "    <tr style=\"text-align: right;\">\n",
       "      <th></th>\n",
       "      <th>price</th>\n",
       "      <th>quantity</th>\n",
       "      <th>size</th>\n",
       "      <th>sku</th>\n",
       "      <th>transaction</th>\n",
       "      <th>size_name</th>\n",
       "      <th>Order nr</th>\n",
       "      <th>SKU ID</th>\n",
       "      <th>ind_exchangereturn</th>\n",
       "    </tr>\n",
       "  </thead>\n",
       "  <tbody>\n",
       "    <tr>\n",
       "      <th>8208</th>\n",
       "      <td>831.2</td>\n",
       "      <td>1.0</td>\n",
       "      <td>International XS</td>\n",
       "      <td>68F75AA80E37FCGS</td>\n",
       "      <td>221563862</td>\n",
       "      <td>internationalxs</td>\n",
       "      <td>221563862</td>\n",
       "      <td>68F75AA80E37FCGS</td>\n",
       "      <td>1</td>\n",
       "    </tr>\n",
       "    <tr>\n",
       "      <th>5979</th>\n",
       "      <td>704.25</td>\n",
       "      <td>1.0</td>\n",
       "      <td>International XL</td>\n",
       "      <td>4ABCEAAD9A3FDBGS</td>\n",
       "      <td>262794862</td>\n",
       "      <td>internationalxl</td>\n",
       "      <td>262794862</td>\n",
       "      <td>4ABCEAAD9A3FDBGS</td>\n",
       "      <td>1</td>\n",
       "    </tr>\n",
       "    <tr>\n",
       "      <th>5978</th>\n",
       "      <td>974.25</td>\n",
       "      <td>1.0</td>\n",
       "      <td>International XL</td>\n",
       "      <td>C7503AA6E8554CGS</td>\n",
       "      <td>262794862</td>\n",
       "      <td>internationalxl</td>\n",
       "      <td>262794862</td>\n",
       "      <td>C7503AA6E8554CGS</td>\n",
       "      <td>1</td>\n",
       "    </tr>\n",
       "    <tr>\n",
       "      <th>8222</th>\n",
       "      <td>1295</td>\n",
       "      <td>1.0</td>\n",
       "      <td>International XL</td>\n",
       "      <td>E9468AA1B4AEB1GS</td>\n",
       "      <td>244553862</td>\n",
       "      <td>internationalxl</td>\n",
       "      <td>244553862</td>\n",
       "      <td>E9468AA1B4AEB1GS</td>\n",
       "      <td>1</td>\n",
       "    </tr>\n",
       "    <tr>\n",
       "      <th>2196</th>\n",
       "      <td>1049.44</td>\n",
       "      <td>1.0</td>\n",
       "      <td>International XS</td>\n",
       "      <td>F0615AA3F9EFE0GS</td>\n",
       "      <td>223818962</td>\n",
       "      <td>internationalxs</td>\n",
       "      <td>223818962</td>\n",
       "      <td>F0615AA3F9EFE0GS</td>\n",
       "      <td>1</td>\n",
       "    </tr>\n",
       "  </tbody>\n",
       "</table>\n",
       "</div>"
      ],
      "text/plain": [
       "        price  quantity              size               sku transaction  \\\n",
       "8208    831.2       1.0  International XS  68F75AA80E37FCGS   221563862   \n",
       "5979   704.25       1.0  International XL  4ABCEAAD9A3FDBGS   262794862   \n",
       "5978   974.25       1.0  International XL  C7503AA6E8554CGS   262794862   \n",
       "8222     1295       1.0  International XL  E9468AA1B4AEB1GS   244553862   \n",
       "2196  1049.44       1.0  International XS  F0615AA3F9EFE0GS   223818962   \n",
       "\n",
       "            size_name   Order nr            SKU ID  ind_exchangereturn  \n",
       "8208  internationalxs  221563862  68F75AA80E37FCGS                   1  \n",
       "5979  internationalxl  262794862  4ABCEAAD9A3FDBGS                   1  \n",
       "5978  internationalxl  262794862  C7503AA6E8554CGS                   1  \n",
       "8222  internationalxl  244553862  E9468AA1B4AEB1GS                   1  \n",
       "2196  internationalxs  223818962  F0615AA3F9EFE0GS                   1  "
      ]
     },
     "execution_count": 160,
     "metadata": {},
     "output_type": "execute_result"
    }
   ],
   "source": [
    "DATA_CONVERSIONS_EXCHANGE_RETURNS.sort_values('ind_exchangereturn').tail()"
   ]
  },
  {
   "cell_type": "code",
   "execution_count": 161,
   "metadata": {},
   "outputs": [
    {
     "data": {
      "text/plain": [
       "ind_exchangereturn\n",
       "0    8099\n",
       "1     479\n",
       "dtype: int64"
      ]
     },
     "execution_count": 161,
     "metadata": {},
     "output_type": "execute_result"
    }
   ],
   "source": [
    "DATA_CONVERSIONS_EXCHANGE_RETURNS.groupby('ind_exchangereturn').size()"
   ]
  },
  {
   "cell_type": "code",
   "execution_count": 162,
   "metadata": {},
   "outputs": [],
   "source": [
    "DATA_CONVERSIONS_EXCHANGE_RETURNS.drop(columns=['Order nr','SKU ID'],inplace=True)"
   ]
  },
  {
   "cell_type": "markdown",
   "metadata": {},
   "source": [
    "## Step 2 : Append Return Reason if available by matching based on transaction id, sku id and size"
   ]
  },
  {
   "cell_type": "code",
   "execution_count": 163,
   "metadata": {},
   "outputs": [],
   "source": [
    "DATA_CONVERSIONS_EXCHANGE_RETURNS = DATA_CONVERSIONS_EXCHANGE_RETURNS.merge(\n",
    "  right = DATA_EXCHANGE_RETURNS,\n",
    "  how = 'left',\n",
    "  left_on = ['transaction','sku','size_name'],\n",
    "  right_on = ['Order nr','SKU ID','original_size']\n",
    ")"
   ]
  },
  {
   "cell_type": "code",
   "execution_count": 164,
   "metadata": {},
   "outputs": [],
   "source": [
    "DATA_CONVERSIONS_EXCHANGE_RETURNS = DATA_CONVERSIONS_EXCHANGE_RETURNS.drop(columns=[\n",
    "    'Order nr',\n",
    "    'SKU ID',\n",
    "    'original_size'\n",
    "])"
   ]
  },
  {
   "cell_type": "code",
   "execution_count": 165,
   "metadata": {
    "scrolled": false
   },
   "outputs": [
    {
     "data": {
      "text/html": [
       "<div>\n",
       "<style scoped>\n",
       "    .dataframe tbody tr th:only-of-type {\n",
       "        vertical-align: middle;\n",
       "    }\n",
       "\n",
       "    .dataframe tbody tr th {\n",
       "        vertical-align: top;\n",
       "    }\n",
       "\n",
       "    .dataframe thead th {\n",
       "        text-align: right;\n",
       "    }\n",
       "</style>\n",
       "<table border=\"1\" class=\"dataframe\">\n",
       "  <thead>\n",
       "    <tr style=\"text-align: right;\">\n",
       "      <th></th>\n",
       "      <th>price</th>\n",
       "      <th>quantity</th>\n",
       "      <th>size</th>\n",
       "      <th>sku</th>\n",
       "      <th>transaction</th>\n",
       "      <th>size_name</th>\n",
       "      <th>ind_exchangereturn</th>\n",
       "      <th>Reason Name</th>\n",
       "      <th>exchanged_size</th>\n",
       "    </tr>\n",
       "  </thead>\n",
       "  <tbody>\n",
       "    <tr>\n",
       "      <th>30</th>\n",
       "      <td>438</td>\n",
       "      <td>1.0</td>\n",
       "      <td>International L</td>\n",
       "      <td>4F639AA908FCCAGS</td>\n",
       "      <td>299595962</td>\n",
       "      <td>internationall</td>\n",
       "      <td>1</td>\n",
       "      <td>too_large</td>\n",
       "      <td>&lt;na&gt;&lt;na&gt;</td>\n",
       "    </tr>\n",
       "    <tr>\n",
       "      <th>6146</th>\n",
       "      <td>0</td>\n",
       "      <td>1.0</td>\n",
       "      <td>International M</td>\n",
       "      <td>ED28EAADEF2243GS</td>\n",
       "      <td>292799862</td>\n",
       "      <td>internationalm</td>\n",
       "      <td>1</td>\n",
       "      <td>too_large</td>\n",
       "      <td>&lt;na&gt;&lt;na&gt;</td>\n",
       "    </tr>\n",
       "    <tr>\n",
       "      <th>6066</th>\n",
       "      <td>1959.2</td>\n",
       "      <td>1.0</td>\n",
       "      <td>International L</td>\n",
       "      <td>EF930AA374ED11GS</td>\n",
       "      <td>231936862</td>\n",
       "      <td>internationall</td>\n",
       "      <td>1</td>\n",
       "      <td>too_large</td>\n",
       "      <td>&lt;na&gt;&lt;na&gt;</td>\n",
       "    </tr>\n",
       "    <tr>\n",
       "      <th>6057</th>\n",
       "      <td>831.36</td>\n",
       "      <td>1.0</td>\n",
       "      <td>EU 38</td>\n",
       "      <td>5E3E4SH1951D33GS</td>\n",
       "      <td>223128862</td>\n",
       "      <td>eu38</td>\n",
       "      <td>1</td>\n",
       "      <td>too_small</td>\n",
       "      <td>&lt;na&gt;&lt;na&gt;</td>\n",
       "    </tr>\n",
       "    <tr>\n",
       "      <th>6033</th>\n",
       "      <td>898.5</td>\n",
       "      <td>1.0</td>\n",
       "      <td>International L</td>\n",
       "      <td>9E0D0AAD9B0E23GS</td>\n",
       "      <td>235329862</td>\n",
       "      <td>internationall</td>\n",
       "      <td>1</td>\n",
       "      <td>too_large</td>\n",
       "      <td>&lt;na&gt;&lt;na&gt;</td>\n",
       "    </tr>\n",
       "  </tbody>\n",
       "</table>\n",
       "</div>"
      ],
      "text/plain": [
       "       price  quantity             size               sku transaction  \\\n",
       "30       438       1.0  International L  4F639AA908FCCAGS   299595962   \n",
       "6146       0       1.0  International M  ED28EAADEF2243GS   292799862   \n",
       "6066  1959.2       1.0  International L  EF930AA374ED11GS   231936862   \n",
       "6057  831.36       1.0            EU 38  5E3E4SH1951D33GS   223128862   \n",
       "6033   898.5       1.0  International L  9E0D0AAD9B0E23GS   235329862   \n",
       "\n",
       "           size_name  ind_exchangereturn Reason Name exchanged_size  \n",
       "30    internationall                   1   too_large       <na><na>  \n",
       "6146  internationalm                   1   too_large       <na><na>  \n",
       "6066  internationall                   1   too_large       <na><na>  \n",
       "6057            eu38                   1   too_small       <na><na>  \n",
       "6033  internationall                   1   too_large       <na><na>  "
      ]
     },
     "execution_count": 165,
     "metadata": {},
     "output_type": "execute_result"
    }
   ],
   "source": [
    "DATA_CONVERSIONS_EXCHANGE_RETURNS.sort_values('exchanged_size').head()"
   ]
  },
  {
   "cell_type": "code",
   "execution_count": 166,
   "metadata": {},
   "outputs": [],
   "source": [
    "DATA_CONVERSIONS_EXCHANGE_RETURNS['Reason Name'].fillna('<No size match>',inplace=True)"
   ]
  },
  {
   "cell_type": "code",
   "execution_count": 167,
   "metadata": {},
   "outputs": [
    {
     "data": {
      "text/html": [
       "<div>\n",
       "<style scoped>\n",
       "    .dataframe tbody tr th:only-of-type {\n",
       "        vertical-align: middle;\n",
       "    }\n",
       "\n",
       "    .dataframe tbody tr th {\n",
       "        vertical-align: top;\n",
       "    }\n",
       "\n",
       "    .dataframe thead th {\n",
       "        text-align: right;\n",
       "    }\n",
       "</style>\n",
       "<table border=\"1\" class=\"dataframe\">\n",
       "  <thead>\n",
       "    <tr style=\"text-align: right;\">\n",
       "      <th></th>\n",
       "      <th>ind_exchangereturn</th>\n",
       "      <th>Reason Name</th>\n",
       "      <th>0</th>\n",
       "    </tr>\n",
       "  </thead>\n",
       "  <tbody>\n",
       "    <tr>\n",
       "      <th>0</th>\n",
       "      <td>0</td>\n",
       "      <td>&lt;No size match&gt;</td>\n",
       "      <td>8099</td>\n",
       "    </tr>\n",
       "    <tr>\n",
       "      <th>1</th>\n",
       "      <td>1</td>\n",
       "      <td>&lt;No size match&gt;</td>\n",
       "      <td>86</td>\n",
       "    </tr>\n",
       "    <tr>\n",
       "      <th>2</th>\n",
       "      <td>1</td>\n",
       "      <td>too_large</td>\n",
       "      <td>222</td>\n",
       "    </tr>\n",
       "    <tr>\n",
       "      <th>3</th>\n",
       "      <td>1</td>\n",
       "      <td>too_small</td>\n",
       "      <td>171</td>\n",
       "    </tr>\n",
       "  </tbody>\n",
       "</table>\n",
       "</div>"
      ],
      "text/plain": [
       "   ind_exchangereturn      Reason Name     0\n",
       "0                   0  <No size match>  8099\n",
       "1                   1  <No size match>    86\n",
       "2                   1        too_large   222\n",
       "3                   1        too_small   171"
      ]
     },
     "execution_count": 167,
     "metadata": {},
     "output_type": "execute_result"
    }
   ],
   "source": [
    "DATA_CONVERSIONS_EXCHANGE_RETURNS.groupby(['ind_exchangereturn','Reason Name']).size().reset_index()"
   ]
  },
  {
   "cell_type": "markdown",
   "metadata": {},
   "source": [
    "86 out of the 479 product-transaction records that had product exchanges/returns have no size match "
   ]
  },
  {
   "cell_type": "markdown",
   "metadata": {},
   "source": [
    "## Examine unmatched size names"
   ]
  },
  {
   "cell_type": "code",
   "execution_count": 186,
   "metadata": {},
   "outputs": [],
   "source": [
    "unmatched_purchased_sizenames = set(DATA_CONVERSIONS_EXCHANGE_RETURNS[\n",
    "    (DATA_CONVERSIONS_EXCHANGE_RETURNS.ind_exchangereturn==1) &\n",
    "    (DATA_CONVERSIONS_EXCHANGE_RETURNS['Reason Name']=='<No size match>')\n",
    "]['size_name'])"
   ]
  },
  {
   "cell_type": "code",
   "execution_count": null,
   "metadata": {},
   "outputs": [],
   "source": []
  }
 ],
 "metadata": {
  "kernelspec": {
   "display_name": "Python 3",
   "language": "python",
   "name": "python3"
  },
  "language_info": {
   "codemirror_mode": {
    "name": "ipython",
    "version": 3
   },
   "file_extension": ".py",
   "mimetype": "text/x-python",
   "name": "python",
   "nbconvert_exporter": "python",
   "pygments_lexer": "ipython3",
   "version": "3.6.8"
  }
 },
 "nbformat": 4,
 "nbformat_minor": 2
}
