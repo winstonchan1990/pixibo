{
 "cells": [
  {
   "cell_type": "code",
   "execution_count": 1,
   "metadata": {},
   "outputs": [
    {
     "data": {
      "text/html": [
       "\n",
       "<style>\n",
       "    h1{background-color:black; color:white; padding: 10px 10px 10px 10px}\n",
       "    h2{background-color:green; color:white;  padding: 5px 5px 5px 5px}\n",
       "</style>\n"
      ],
      "text/plain": [
       "<IPython.core.display.HTML object>"
      ]
     },
     "execution_count": 1,
     "metadata": {},
     "output_type": "execute_result"
    }
   ],
   "source": [
    "from IPython.core.display import HTML\n",
    "HTML(\"\"\"\n",
    "<style>\n",
    "    h1{background-color:black; color:white; padding: 10px 10px 10px 10px}\n",
    "    h2{background-color:green; color:white;  padding: 5px 5px 5px 5px}\n",
    "</style>\n",
    "\"\"\")"
   ]
  },
  {
   "cell_type": "code",
   "execution_count": 2,
   "metadata": {},
   "outputs": [],
   "source": [
    "import pandas as pd\n",
    "import numpy as np\n",
    "import json\n",
    "import datetime\n",
    "import itertools\n",
    "import re"
   ]
  },
  {
   "cell_type": "markdown",
   "metadata": {},
   "source": [
    "# Config Parameters"
   ]
  },
  {
   "cell_type": "code",
   "execution_count": 3,
   "metadata": {},
   "outputs": [],
   "source": [
    "## Data on Exchanges and Returns\n",
    "FILEPATH_DATA_EXCHANGES_RETURNS = '../data/data_science_exchanges_returns.file'\n",
    "\n",
    "## Data Conversions\n",
    "FILEPATH_DATA_CONVERSIONS = '../data/data_science_test_conversions.file'\n",
    "\n",
    "## Data Events\n",
    "## Note : had to download in 2 parts and join together due to network timeout issues faced \n",
    "## when downloading whole dataset directly.\n",
    "FILEPATH_DATA_EVENTS = '../data/data_science_test_events_FULL.json'\n",
    "\n",
    "## Period Range for analysis\n",
    "ORDER_START_DATE = datetime.date(2019,2,1)\n",
    "ORDER_END_DATE = datetime.date(2019,2,28)"
   ]
  },
  {
   "cell_type": "markdown",
   "metadata": {},
   "source": [
    "# Utility Functions"
   ]
  },
  {
   "cell_type": "code",
   "execution_count": 4,
   "metadata": {},
   "outputs": [],
   "source": [
    "## Function to normalize character string\n",
    "## - replace NaN with '<NA>'\n",
    "## - convert to lowercase\n",
    "## - remove white space\n",
    "def normalize_string(string):\n",
    "    return '<NA>' if type(string) is not str else ''.join(string.lower().strip().split())"
   ]
  },
  {
   "cell_type": "markdown",
   "metadata": {},
   "source": [
    "# Data on Exchanges / Returns"
   ]
  },
  {
   "cell_type": "markdown",
   "metadata": {},
   "source": [
    "## Read in dataset"
   ]
  },
  {
   "cell_type": "code",
   "execution_count": 5,
   "metadata": {},
   "outputs": [
    {
     "name": "stderr",
     "output_type": "stream",
     "text": [
      "/home/winston/anaconda3/lib/python3.6/site-packages/IPython/core/interactiveshell.py:2785: DtypeWarning: Columns (3,6,7) have mixed types. Specify dtype option on import or set low_memory=False.\n",
      "  interactivity=interactivity, compiler=compiler, result=result)\n"
     ]
    }
   ],
   "source": [
    "DATA_EXCHANGE_RETURNS = pd.read_table(\n",
    "    FILEPATH_DATA_EXCHANGES_RETURNS,\n",
    "    delimiter='\\t',\n",
    "    dtype = {'Order nr':'object'}\n",
    ")"
   ]
  },
  {
   "cell_type": "code",
   "execution_count": 6,
   "metadata": {},
   "outputs": [
    {
     "data": {
      "text/html": [
       "<div>\n",
       "<style scoped>\n",
       "    .dataframe tbody tr th:only-of-type {\n",
       "        vertical-align: middle;\n",
       "    }\n",
       "\n",
       "    .dataframe tbody tr th {\n",
       "        vertical-align: top;\n",
       "    }\n",
       "\n",
       "    .dataframe thead th {\n",
       "        text-align: right;\n",
       "    }\n",
       "</style>\n",
       "<table border=\"1\" class=\"dataframe\">\n",
       "  <thead>\n",
       "    <tr style=\"text-align: right;\">\n",
       "      <th></th>\n",
       "      <th>Country</th>\n",
       "      <th>Order nr</th>\n",
       "      <th>SKU ID</th>\n",
       "      <th>Reason Name</th>\n",
       "      <th>original_size_system_name</th>\n",
       "      <th>original_size_name</th>\n",
       "      <th>exchanged_size_system_name</th>\n",
       "      <th>exchanged_size_name</th>\n",
       "    </tr>\n",
       "  </thead>\n",
       "  <tbody>\n",
       "    <tr>\n",
       "      <th>0</th>\n",
       "      <td>ph</td>\n",
       "      <td>239748222</td>\n",
       "      <td>EV032US96WVNPH</td>\n",
       "      <td>1._size_does_not_fit_-_too_large</td>\n",
       "      <td>International</td>\n",
       "      <td>One Size</td>\n",
       "      <td>NaN</td>\n",
       "      <td>NaN</td>\n",
       "    </tr>\n",
       "    <tr>\n",
       "      <th>1</th>\n",
       "      <td>ph</td>\n",
       "      <td>251645722</td>\n",
       "      <td>CH672SH32LPNPH</td>\n",
       "      <td>2._size_does_not_fit_-_too_small</td>\n",
       "      <td>US</td>\n",
       "      <td>7</td>\n",
       "      <td>NaN</td>\n",
       "      <td>NaN</td>\n",
       "    </tr>\n",
       "    <tr>\n",
       "      <th>2</th>\n",
       "      <td>ph</td>\n",
       "      <td>235646762</td>\n",
       "      <td>EM520AC06VDDPH</td>\n",
       "      <td>1._size_does_not_fit_-_too_large</td>\n",
       "      <td>International</td>\n",
       "      <td>One Size</td>\n",
       "      <td>NaN</td>\n",
       "      <td>NaN</td>\n",
       "    </tr>\n",
       "    <tr>\n",
       "      <th>3</th>\n",
       "      <td>ph</td>\n",
       "      <td>275962462</td>\n",
       "      <td>RU506SH93IHUMY</td>\n",
       "      <td>1._size_does_not_fit_-_too_large</td>\n",
       "      <td>EU</td>\n",
       "      <td>36</td>\n",
       "      <td>NaN</td>\n",
       "      <td>NaN</td>\n",
       "    </tr>\n",
       "    <tr>\n",
       "      <th>4</th>\n",
       "      <td>ph</td>\n",
       "      <td>259521762</td>\n",
       "      <td>MC141AC39HVKPH</td>\n",
       "      <td>2._size_does_not_fit_-_too_small</td>\n",
       "      <td>US</td>\n",
       "      <td>M</td>\n",
       "      <td>NaN</td>\n",
       "      <td>NaN</td>\n",
       "    </tr>\n",
       "  </tbody>\n",
       "</table>\n",
       "</div>"
      ],
      "text/plain": [
       "  Country   Order nr          SKU ID                       Reason Name  \\\n",
       "0      ph  239748222  EV032US96WVNPH  1._size_does_not_fit_-_too_large   \n",
       "1      ph  251645722  CH672SH32LPNPH  2._size_does_not_fit_-_too_small   \n",
       "2      ph  235646762  EM520AC06VDDPH  1._size_does_not_fit_-_too_large   \n",
       "3      ph  275962462  RU506SH93IHUMY  1._size_does_not_fit_-_too_large   \n",
       "4      ph  259521762  MC141AC39HVKPH  2._size_does_not_fit_-_too_small   \n",
       "\n",
       "  original_size_system_name original_size_name exchanged_size_system_name  \\\n",
       "0             International           One Size                        NaN   \n",
       "1                        US                  7                        NaN   \n",
       "2             International           One Size                        NaN   \n",
       "3                        EU                 36                        NaN   \n",
       "4                        US                  M                        NaN   \n",
       "\n",
       "  exchanged_size_name  \n",
       "0                 NaN  \n",
       "1                 NaN  \n",
       "2                 NaN  \n",
       "3                 NaN  \n",
       "4                 NaN  "
      ]
     },
     "execution_count": 6,
     "metadata": {},
     "output_type": "execute_result"
    }
   ],
   "source": [
    "DATA_EXCHANGE_RETURNS.head()"
   ]
  },
  {
   "cell_type": "code",
   "execution_count": 7,
   "metadata": {},
   "outputs": [
    {
     "name": "stdout",
     "output_type": "stream",
     "text": [
      "<class 'pandas.core.frame.DataFrame'>\n",
      "RangeIndex: 387055 entries, 0 to 387054\n",
      "Data columns (total 8 columns):\n",
      "Country                       387055 non-null object\n",
      "Order nr                      386344 non-null object\n",
      "SKU ID                        387055 non-null object\n",
      "Reason Name                   91242 non-null object\n",
      "original_size_system_name     385998 non-null object\n",
      "original_size_name            386344 non-null object\n",
      "exchanged_size_system_name    295813 non-null object\n",
      "exchanged_size_name           295813 non-null object\n",
      "dtypes: object(8)\n",
      "memory usage: 23.6+ MB\n"
     ]
    }
   ],
   "source": [
    "DATA_EXCHANGE_RETURNS.info()"
   ]
  },
  {
   "cell_type": "markdown",
   "metadata": {},
   "source": [
    "## Filter for 'size_does_not_fit' reasons"
   ]
  },
  {
   "cell_type": "code",
   "execution_count": 8,
   "metadata": {},
   "outputs": [
    {
     "data": {
      "text/plain": [
       "array(['1._size_does_not_fit_-_too_large',\n",
       "       '2._size_does_not_fit_-_too_small', nan], dtype=object)"
      ]
     },
     "execution_count": 8,
     "metadata": {},
     "output_type": "execute_result"
    }
   ],
   "source": [
    "DATA_EXCHANGE_RETURNS['Reason Name'].unique()"
   ]
  },
  {
   "cell_type": "code",
   "execution_count": 9,
   "metadata": {},
   "outputs": [],
   "source": [
    "selected_reasons = {\n",
    "    '1._size_does_not_fit_-_too_large':'too_large',\n",
    "    '2._size_does_not_fit_-_too_small':'too_small'\n",
    "}"
   ]
  },
  {
   "cell_type": "code",
   "execution_count": 10,
   "metadata": {},
   "outputs": [],
   "source": [
    "DATA_EXCHANGE_RETURNS = DATA_EXCHANGE_RETURNS[\n",
    "    DATA_EXCHANGE_RETURNS['Reason Name'].map(lambda x: x in list(selected_reasons.keys()))\n",
    "]"
   ]
  },
  {
   "cell_type": "code",
   "execution_count": 11,
   "metadata": {},
   "outputs": [
    {
     "name": "stdout",
     "output_type": "stream",
     "text": [
      "<class 'pandas.core.frame.DataFrame'>\n",
      "Int64Index: 91242 entries, 0 to 98282\n",
      "Data columns (total 8 columns):\n",
      "Country                       91242 non-null object\n",
      "Order nr                      91242 non-null object\n",
      "SKU ID                        91242 non-null object\n",
      "Reason Name                   91242 non-null object\n",
      "original_size_system_name     90896 non-null object\n",
      "original_size_name            91242 non-null object\n",
      "exchanged_size_system_name    0 non-null object\n",
      "exchanged_size_name           0 non-null object\n",
      "dtypes: object(8)\n",
      "memory usage: 6.3+ MB\n"
     ]
    }
   ],
   "source": [
    "DATA_EXCHANGE_RETURNS.info()"
   ]
  },
  {
   "cell_type": "markdown",
   "metadata": {},
   "source": [
    "## Simplify Reason Names"
   ]
  },
  {
   "cell_type": "code",
   "execution_count": 12,
   "metadata": {},
   "outputs": [],
   "source": [
    "DATA_EXCHANGE_RETURNS['Reason Name'] = DATA_EXCHANGE_RETURNS['Reason Name'].map(selected_reasons)"
   ]
  },
  {
   "cell_type": "markdown",
   "metadata": {},
   "source": [
    "## Normalize strings for size system names and size names"
   ]
  },
  {
   "cell_type": "code",
   "execution_count": 13,
   "metadata": {},
   "outputs": [],
   "source": [
    "for sizetype in ['original','exchanged']:\n",
    "    for sizenametype in ['size_system_name','size_name']:\n",
    "        DATA_EXCHANGE_RETURNS[f'{sizetype}_{sizenametype}'] = \\\n",
    "          DATA_EXCHANGE_RETURNS[f'{sizetype}_{sizenametype}'].apply(normalize_string)"
   ]
  },
  {
   "cell_type": "markdown",
   "metadata": {},
   "source": [
    "## Get original and exchanged sizes by joining size system name with size name"
   ]
  },
  {
   "cell_type": "code",
   "execution_count": 14,
   "metadata": {},
   "outputs": [],
   "source": [
    "for sizetype in ['original','exchanged']:\n",
    "    DATA_EXCHANGE_RETURNS[f'{sizetype}_size'] = [\n",
    "        str(sys_name) + ' ' + str(name) \n",
    "        for sys_name,name in zip(\n",
    "            DATA_EXCHANGE_RETURNS[f'{sizetype}_size_system_name'],\n",
    "            DATA_EXCHANGE_RETURNS[f'{sizetype}_size_name']\n",
    "        )\n",
    "    ]\n",
    "    \n",
    "    DATA_EXCHANGE_RETURNS[f'{sizetype}_size'] = DATA_EXCHANGE_RETURNS[f'{sizetype}_size'].apply(normalize_string)"
   ]
  },
  {
   "cell_type": "code",
   "execution_count": 15,
   "metadata": {},
   "outputs": [
    {
     "data": {
      "text/plain": [
       "(91242, 10)"
      ]
     },
     "execution_count": 15,
     "metadata": {},
     "output_type": "execute_result"
    }
   ],
   "source": [
    "DATA_EXCHANGE_RETURNS.shape"
   ]
  },
  {
   "cell_type": "code",
   "execution_count": 16,
   "metadata": {},
   "outputs": [
    {
     "data": {
      "text/html": [
       "<div>\n",
       "<style scoped>\n",
       "    .dataframe tbody tr th:only-of-type {\n",
       "        vertical-align: middle;\n",
       "    }\n",
       "\n",
       "    .dataframe tbody tr th {\n",
       "        vertical-align: top;\n",
       "    }\n",
       "\n",
       "    .dataframe thead th {\n",
       "        text-align: right;\n",
       "    }\n",
       "</style>\n",
       "<table border=\"1\" class=\"dataframe\">\n",
       "  <thead>\n",
       "    <tr style=\"text-align: right;\">\n",
       "      <th></th>\n",
       "      <th>Country</th>\n",
       "      <th>Order nr</th>\n",
       "      <th>SKU ID</th>\n",
       "      <th>Reason Name</th>\n",
       "      <th>original_size_system_name</th>\n",
       "      <th>original_size_name</th>\n",
       "      <th>exchanged_size_system_name</th>\n",
       "      <th>exchanged_size_name</th>\n",
       "      <th>original_size</th>\n",
       "      <th>exchanged_size</th>\n",
       "    </tr>\n",
       "  </thead>\n",
       "  <tbody>\n",
       "    <tr>\n",
       "      <th>0</th>\n",
       "      <td>ph</td>\n",
       "      <td>239748222</td>\n",
       "      <td>EV032US96WVNPH</td>\n",
       "      <td>too_large</td>\n",
       "      <td>international</td>\n",
       "      <td>onesize</td>\n",
       "      <td>&lt;NA&gt;</td>\n",
       "      <td>&lt;NA&gt;</td>\n",
       "      <td>internationalonesize</td>\n",
       "      <td>&lt;na&gt;&lt;na&gt;</td>\n",
       "    </tr>\n",
       "    <tr>\n",
       "      <th>1</th>\n",
       "      <td>ph</td>\n",
       "      <td>251645722</td>\n",
       "      <td>CH672SH32LPNPH</td>\n",
       "      <td>too_small</td>\n",
       "      <td>us</td>\n",
       "      <td>7</td>\n",
       "      <td>&lt;NA&gt;</td>\n",
       "      <td>&lt;NA&gt;</td>\n",
       "      <td>us7</td>\n",
       "      <td>&lt;na&gt;&lt;na&gt;</td>\n",
       "    </tr>\n",
       "    <tr>\n",
       "      <th>2</th>\n",
       "      <td>ph</td>\n",
       "      <td>235646762</td>\n",
       "      <td>EM520AC06VDDPH</td>\n",
       "      <td>too_large</td>\n",
       "      <td>international</td>\n",
       "      <td>onesize</td>\n",
       "      <td>&lt;NA&gt;</td>\n",
       "      <td>&lt;NA&gt;</td>\n",
       "      <td>internationalonesize</td>\n",
       "      <td>&lt;na&gt;&lt;na&gt;</td>\n",
       "    </tr>\n",
       "    <tr>\n",
       "      <th>3</th>\n",
       "      <td>ph</td>\n",
       "      <td>275962462</td>\n",
       "      <td>RU506SH93IHUMY</td>\n",
       "      <td>too_large</td>\n",
       "      <td>eu</td>\n",
       "      <td>36</td>\n",
       "      <td>&lt;NA&gt;</td>\n",
       "      <td>&lt;NA&gt;</td>\n",
       "      <td>eu36</td>\n",
       "      <td>&lt;na&gt;&lt;na&gt;</td>\n",
       "    </tr>\n",
       "    <tr>\n",
       "      <th>4</th>\n",
       "      <td>ph</td>\n",
       "      <td>259521762</td>\n",
       "      <td>MC141AC39HVKPH</td>\n",
       "      <td>too_small</td>\n",
       "      <td>us</td>\n",
       "      <td>m</td>\n",
       "      <td>&lt;NA&gt;</td>\n",
       "      <td>&lt;NA&gt;</td>\n",
       "      <td>usm</td>\n",
       "      <td>&lt;na&gt;&lt;na&gt;</td>\n",
       "    </tr>\n",
       "  </tbody>\n",
       "</table>\n",
       "</div>"
      ],
      "text/plain": [
       "  Country   Order nr          SKU ID Reason Name original_size_system_name  \\\n",
       "0      ph  239748222  EV032US96WVNPH   too_large             international   \n",
       "1      ph  251645722  CH672SH32LPNPH   too_small                        us   \n",
       "2      ph  235646762  EM520AC06VDDPH   too_large             international   \n",
       "3      ph  275962462  RU506SH93IHUMY   too_large                        eu   \n",
       "4      ph  259521762  MC141AC39HVKPH   too_small                        us   \n",
       "\n",
       "  original_size_name exchanged_size_system_name exchanged_size_name  \\\n",
       "0            onesize                       <NA>                <NA>   \n",
       "1                  7                       <NA>                <NA>   \n",
       "2            onesize                       <NA>                <NA>   \n",
       "3                 36                       <NA>                <NA>   \n",
       "4                  m                       <NA>                <NA>   \n",
       "\n",
       "          original_size exchanged_size  \n",
       "0  internationalonesize       <na><na>  \n",
       "1                   us7       <na><na>  \n",
       "2  internationalonesize       <na><na>  \n",
       "3                  eu36       <na><na>  \n",
       "4                   usm       <na><na>  "
      ]
     },
     "execution_count": 16,
     "metadata": {},
     "output_type": "execute_result"
    }
   ],
   "source": [
    "DATA_EXCHANGE_RETURNS.head()"
   ]
  },
  {
   "cell_type": "markdown",
   "metadata": {},
   "source": [
    "## Columns of interest"
   ]
  },
  {
   "cell_type": "code",
   "execution_count": 17,
   "metadata": {},
   "outputs": [],
   "source": [
    "DATA_EXCHANGE_RETURNS = DATA_EXCHANGE_RETURNS[[\n",
    "    'Order nr',\n",
    "    'SKU ID',\n",
    "    'Reason Name',\n",
    "    'original_size',\n",
    "    'exchanged_size'\n",
    "]]"
   ]
  },
  {
   "cell_type": "markdown",
   "metadata": {},
   "source": [
    "## Consolidating unique records"
   ]
  },
  {
   "cell_type": "code",
   "execution_count": 18,
   "metadata": {},
   "outputs": [
    {
     "data": {
      "text/html": [
       "<div>\n",
       "<style scoped>\n",
       "    .dataframe tbody tr th:only-of-type {\n",
       "        vertical-align: middle;\n",
       "    }\n",
       "\n",
       "    .dataframe tbody tr th {\n",
       "        vertical-align: top;\n",
       "    }\n",
       "\n",
       "    .dataframe thead th {\n",
       "        text-align: right;\n",
       "    }\n",
       "</style>\n",
       "<table border=\"1\" class=\"dataframe\">\n",
       "  <thead>\n",
       "    <tr style=\"text-align: right;\">\n",
       "      <th></th>\n",
       "      <th>Order nr</th>\n",
       "      <th>SKU ID</th>\n",
       "      <th>Reason Name</th>\n",
       "      <th>original_size</th>\n",
       "      <th>exchanged_size</th>\n",
       "    </tr>\n",
       "  </thead>\n",
       "  <tbody>\n",
       "    <tr>\n",
       "      <th>0</th>\n",
       "      <td>239748222</td>\n",
       "      <td>EV032US96WVNPH</td>\n",
       "      <td>too_large</td>\n",
       "      <td>internationalonesize</td>\n",
       "      <td>&lt;na&gt;&lt;na&gt;</td>\n",
       "    </tr>\n",
       "    <tr>\n",
       "      <th>1</th>\n",
       "      <td>251645722</td>\n",
       "      <td>CH672SH32LPNPH</td>\n",
       "      <td>too_small</td>\n",
       "      <td>us7</td>\n",
       "      <td>&lt;na&gt;&lt;na&gt;</td>\n",
       "    </tr>\n",
       "    <tr>\n",
       "      <th>2</th>\n",
       "      <td>235646762</td>\n",
       "      <td>EM520AC06VDDPH</td>\n",
       "      <td>too_large</td>\n",
       "      <td>internationalonesize</td>\n",
       "      <td>&lt;na&gt;&lt;na&gt;</td>\n",
       "    </tr>\n",
       "    <tr>\n",
       "      <th>3</th>\n",
       "      <td>275962462</td>\n",
       "      <td>RU506SH93IHUMY</td>\n",
       "      <td>too_large</td>\n",
       "      <td>eu36</td>\n",
       "      <td>&lt;na&gt;&lt;na&gt;</td>\n",
       "    </tr>\n",
       "    <tr>\n",
       "      <th>4</th>\n",
       "      <td>259521762</td>\n",
       "      <td>MC141AC39HVKPH</td>\n",
       "      <td>too_small</td>\n",
       "      <td>usm</td>\n",
       "      <td>&lt;na&gt;&lt;na&gt;</td>\n",
       "    </tr>\n",
       "    <tr>\n",
       "      <th>5</th>\n",
       "      <td>231545122</td>\n",
       "      <td>SP132SH0IJXLPH</td>\n",
       "      <td>too_small</td>\n",
       "      <td>us9</td>\n",
       "      <td>&lt;na&gt;&lt;na&gt;</td>\n",
       "    </tr>\n",
       "    <tr>\n",
       "      <th>6</th>\n",
       "      <td>228331822</td>\n",
       "      <td>CH672SH99QBCPH</td>\n",
       "      <td>too_small</td>\n",
       "      <td>us8</td>\n",
       "      <td>&lt;na&gt;&lt;na&gt;</td>\n",
       "    </tr>\n",
       "    <tr>\n",
       "      <th>7</th>\n",
       "      <td>276191162</td>\n",
       "      <td>LO601AA67KQUPH</td>\n",
       "      <td>too_small</td>\n",
       "      <td>internationalxl</td>\n",
       "      <td>&lt;na&gt;&lt;na&gt;</td>\n",
       "    </tr>\n",
       "    <tr>\n",
       "      <th>8</th>\n",
       "      <td>282982362</td>\n",
       "      <td>F1525AA74BFHPH</td>\n",
       "      <td>too_large</td>\n",
       "      <td>internationalonesize</td>\n",
       "      <td>&lt;na&gt;&lt;na&gt;</td>\n",
       "    </tr>\n",
       "    <tr>\n",
       "      <th>9</th>\n",
       "      <td>282982362</td>\n",
       "      <td>F1525AA74BFHPH</td>\n",
       "      <td>too_large</td>\n",
       "      <td>internationalonesize</td>\n",
       "      <td>&lt;na&gt;&lt;na&gt;</td>\n",
       "    </tr>\n",
       "  </tbody>\n",
       "</table>\n",
       "</div>"
      ],
      "text/plain": [
       "    Order nr          SKU ID Reason Name         original_size exchanged_size\n",
       "0  239748222  EV032US96WVNPH   too_large  internationalonesize       <na><na>\n",
       "1  251645722  CH672SH32LPNPH   too_small                   us7       <na><na>\n",
       "2  235646762  EM520AC06VDDPH   too_large  internationalonesize       <na><na>\n",
       "3  275962462  RU506SH93IHUMY   too_large                  eu36       <na><na>\n",
       "4  259521762  MC141AC39HVKPH   too_small                   usm       <na><na>\n",
       "5  231545122  SP132SH0IJXLPH   too_small                   us9       <na><na>\n",
       "6  228331822  CH672SH99QBCPH   too_small                   us8       <na><na>\n",
       "7  276191162  LO601AA67KQUPH   too_small       internationalxl       <na><na>\n",
       "8  282982362  F1525AA74BFHPH   too_large  internationalonesize       <na><na>\n",
       "9  282982362  F1525AA74BFHPH   too_large  internationalonesize       <na><na>"
      ]
     },
     "execution_count": 18,
     "metadata": {},
     "output_type": "execute_result"
    }
   ],
   "source": [
    "DATA_EXCHANGE_RETURNS.head(10)"
   ]
  },
  {
   "cell_type": "markdown",
   "metadata": {},
   "source": [
    "Each exchange/return record shall be uniquely identified by\n",
    "\n",
    "* **Transaction ID** -- *Order nr*\n",
    "* **Product ID purchased in that Transaction** -- *SKU ID*\n",
    "* **Size of Product Purchased for that Product ID** -- *original_size*"
   ]
  },
  {
   "cell_type": "markdown",
   "metadata": {},
   "source": [
    "### Remove duplicate records"
   ]
  },
  {
   "cell_type": "code",
   "execution_count": 19,
   "metadata": {},
   "outputs": [
    {
     "name": "stdout",
     "output_type": "stream",
     "text": [
      "467 out of 91242 rows are duplicate records (0.51%)\n"
     ]
    }
   ],
   "source": [
    "print('{0} out of {1} rows are duplicate records ({2}%)'.format(\n",
    "    DATA_EXCHANGE_RETURNS.duplicated(keep='first').sum(),\n",
    "    DATA_EXCHANGE_RETURNS.shape[0],\n",
    "    round(100*DATA_EXCHANGE_RETURNS.duplicated(keep='first').sum()/DATA_EXCHANGE_RETURNS.shape[0],2)\n",
    "))"
   ]
  },
  {
   "cell_type": "code",
   "execution_count": 20,
   "metadata": {},
   "outputs": [],
   "source": [
    "DATA_EXCHANGE_RETURNS = DATA_EXCHANGE_RETURNS[~DATA_EXCHANGE_RETURNS.duplicated(keep='first')]"
   ]
  },
  {
   "cell_type": "code",
   "execution_count": 21,
   "metadata": {},
   "outputs": [
    {
     "data": {
      "text/plain": [
       "(90775, 5)"
      ]
     },
     "execution_count": 21,
     "metadata": {},
     "output_type": "execute_result"
    }
   ],
   "source": [
    "DATA_EXCHANGE_RETURNS.shape"
   ]
  },
  {
   "cell_type": "markdown",
   "metadata": {},
   "source": [
    "### For each unique exchange/return record, concatenate all the associated **Reason Names** and **Exchanged Sizes** if there are more than 1 "
   ]
  },
  {
   "cell_type": "code",
   "execution_count": 22,
   "metadata": {},
   "outputs": [],
   "source": [
    "DATA_EXCHANGE_RETURNS = DATA_EXCHANGE_RETURNS\\\n",
    "  .groupby(['Order nr','SKU ID','original_size'])\\\n",
    "  .agg({\n",
    "    'Reason Name' : lambda x: '__AND__'.join(sorted(list(set(x)))),\n",
    "    'exchanged_size' : lambda x: '__AND__'.join(sorted(list(set(x))))\n",
    "  })\\\n",
    "  .reset_index()"
   ]
  },
  {
   "cell_type": "code",
   "execution_count": 23,
   "metadata": {},
   "outputs": [
    {
     "data": {
      "text/plain": [
       "(90740, 5)"
      ]
     },
     "execution_count": 23,
     "metadata": {},
     "output_type": "execute_result"
    }
   ],
   "source": [
    "DATA_EXCHANGE_RETURNS.shape"
   ]
  },
  {
   "cell_type": "code",
   "execution_count": 24,
   "metadata": {},
   "outputs": [
    {
     "data": {
      "text/html": [
       "<div>\n",
       "<style scoped>\n",
       "    .dataframe tbody tr th:only-of-type {\n",
       "        vertical-align: middle;\n",
       "    }\n",
       "\n",
       "    .dataframe tbody tr th {\n",
       "        vertical-align: top;\n",
       "    }\n",
       "\n",
       "    .dataframe thead th {\n",
       "        text-align: right;\n",
       "    }\n",
       "</style>\n",
       "<table border=\"1\" class=\"dataframe\">\n",
       "  <thead>\n",
       "    <tr style=\"text-align: right;\">\n",
       "      <th></th>\n",
       "      <th>Order nr</th>\n",
       "      <th>SKU ID</th>\n",
       "      <th>original_size</th>\n",
       "      <th>Reason Name</th>\n",
       "      <th>exchanged_size</th>\n",
       "    </tr>\n",
       "  </thead>\n",
       "  <tbody>\n",
       "    <tr>\n",
       "      <th>0</th>\n",
       "      <td>211113522</td>\n",
       "      <td>CBF67AA8DA5D5EGS</td>\n",
       "      <td>internationals</td>\n",
       "      <td>too_large</td>\n",
       "      <td>&lt;na&gt;&lt;na&gt;</td>\n",
       "    </tr>\n",
       "    <tr>\n",
       "      <th>1</th>\n",
       "      <td>211113662</td>\n",
       "      <td>AE351AA0039298GS</td>\n",
       "      <td>internationall</td>\n",
       "      <td>too_small</td>\n",
       "      <td>&lt;na&gt;&lt;na&gt;</td>\n",
       "    </tr>\n",
       "    <tr>\n",
       "      <th>2</th>\n",
       "      <td>211113822</td>\n",
       "      <td>BI090SH55HNOMY</td>\n",
       "      <td>eu39</td>\n",
       "      <td>too_large</td>\n",
       "      <td>&lt;na&gt;&lt;na&gt;</td>\n",
       "    </tr>\n",
       "    <tr>\n",
       "      <th>3</th>\n",
       "      <td>211114862</td>\n",
       "      <td>C8695AAD6F487CGS</td>\n",
       "      <td>eu38</td>\n",
       "      <td>too_small</td>\n",
       "      <td>&lt;na&gt;&lt;na&gt;</td>\n",
       "    </tr>\n",
       "    <tr>\n",
       "      <th>4</th>\n",
       "      <td>211114922</td>\n",
       "      <td>5E1B9AA609044BGS</td>\n",
       "      <td>internationalm</td>\n",
       "      <td>too_large</td>\n",
       "      <td>&lt;na&gt;&lt;na&gt;</td>\n",
       "    </tr>\n",
       "  </tbody>\n",
       "</table>\n",
       "</div>"
      ],
      "text/plain": [
       "    Order nr            SKU ID   original_size Reason Name exchanged_size\n",
       "0  211113522  CBF67AA8DA5D5EGS  internationals   too_large       <na><na>\n",
       "1  211113662  AE351AA0039298GS  internationall   too_small       <na><na>\n",
       "2  211113822    BI090SH55HNOMY            eu39   too_large       <na><na>\n",
       "3  211114862  C8695AAD6F487CGS            eu38   too_small       <na><na>\n",
       "4  211114922  5E1B9AA609044BGS  internationalm   too_large       <na><na>"
      ]
     },
     "execution_count": 24,
     "metadata": {},
     "output_type": "execute_result"
    }
   ],
   "source": [
    "DATA_EXCHANGE_RETURNS.head()"
   ]
  },
  {
   "cell_type": "code",
   "execution_count": 25,
   "metadata": {},
   "outputs": [
    {
     "data": {
      "text/plain": [
       "(35, 5)"
      ]
     },
     "execution_count": 25,
     "metadata": {},
     "output_type": "execute_result"
    }
   ],
   "source": [
    "## 35 records with more than 1 Reason Names (includes both too large and too small)\n",
    "DATA_EXCHANGE_RETURNS[DATA_EXCHANGE_RETURNS['Reason Name'].apply(\n",
    "    lambda x: True if re.search(pattern='_AND_',string=x) else False\n",
    ")].shape"
   ]
  },
  {
   "cell_type": "markdown",
   "metadata": {},
   "source": [
    "## Summary of data processing steps\n",
    "\n",
    "1. Filter for 'size_does_not_fit' related reason names\n",
    "  * Original row count : 387055 ==> New row count : 91242\n",
    "\n",
    "\n",
    "2. Get original and exchanged sizes (system_name concat with size_name)\n",
    "\n",
    "\n",
    "3. Normalize original / exchanged size strings\n",
    "  * strip whitespace\n",
    "  * lowercasing\n",
    "\n",
    "\n",
    "4. Removing duplicates\n",
    "  * Original row count : 91242 ==> New row count : 90775\n",
    "  \n",
    "  \n",
    "5. Consolidate Reason Names and Exchanged sizes for each unique exchange/return record\n",
    "  * Original row count : 90775 ==> New row count : 90740"
   ]
  },
  {
   "cell_type": "markdown",
   "metadata": {},
   "source": [
    "# Data on Conversions"
   ]
  },
  {
   "cell_type": "markdown",
   "metadata": {},
   "source": [
    "## Read in Conversions data (data dump from json stream, 1 line per record)"
   ]
  },
  {
   "cell_type": "code",
   "execution_count": 26,
   "metadata": {},
   "outputs": [],
   "source": [
    "JSON_DUMP = []"
   ]
  },
  {
   "cell_type": "code",
   "execution_count": 27,
   "metadata": {},
   "outputs": [],
   "source": [
    "with open(FILEPATH_DATA_CONVERSIONS) as f:\n",
    "    for line in f.readlines():\n",
    "        JSON_DUMP.append(json.loads(line))"
   ]
  },
  {
   "cell_type": "code",
   "execution_count": 28,
   "metadata": {},
   "outputs": [
    {
     "data": {
      "text/plain": [
       "62482"
      ]
     },
     "execution_count": 28,
     "metadata": {},
     "output_type": "execute_result"
    }
   ],
   "source": [
    "len(JSON_DUMP)"
   ]
  },
  {
   "cell_type": "code",
   "execution_count": 29,
   "metadata": {},
   "outputs": [
    {
     "data": {
      "text/plain": [
       "[{'_index': 'tracking_prod',\n",
       "  '_type': 'conversion',\n",
       "  '_id': '8a8b6404-e312-4bef-98cd-df3637d09b2f',\n",
       "  '_score': 7.5778923,\n",
       "  '_source': {'uid': 'unknown',\n",
       "   'amount': '1394',\n",
       "   'clientId': 'ubu8zhxrh8hg',\n",
       "   'currency': 'PHP',\n",
       "   'transaction': '257871622',\n",
       "   'products': [{'quantity': 1,\n",
       "     'size': 'International L',\n",
       "     'price': '413.59',\n",
       "     'sku': '3AE72AA36B07C6GS'},\n",
       "    {'quantity': 1,\n",
       "     'size': 'International M',\n",
       "     'price': '465.36',\n",
       "     'sku': 'B9586AA24B4E70GS'},\n",
       "    {'quantity': 1,\n",
       "     'size': 'International M',\n",
       "     'price': '515.05',\n",
       "     'sku': '079A3AAEAB518DGS'}],\n",
       "   'timestamp': '2018-11-09T05:59:08.254Z'}}]"
      ]
     },
     "execution_count": 29,
     "metadata": {},
     "output_type": "execute_result"
    }
   ],
   "source": [
    "JSON_DUMP[:1]"
   ]
  },
  {
   "cell_type": "markdown",
   "metadata": {},
   "source": [
    "The data we are interested in is nested inside the **_source** key in the record"
   ]
  },
  {
   "cell_type": "code",
   "execution_count": 30,
   "metadata": {},
   "outputs": [],
   "source": [
    "DATA_CONVERSIONS = pd.DataFrame.from_records([\n",
    "    record['_source'] for record in JSON_DUMP\n",
    "])"
   ]
  },
  {
   "cell_type": "code",
   "execution_count": 31,
   "metadata": {},
   "outputs": [
    {
     "data": {
      "text/html": [
       "<div>\n",
       "<style scoped>\n",
       "    .dataframe tbody tr th:only-of-type {\n",
       "        vertical-align: middle;\n",
       "    }\n",
       "\n",
       "    .dataframe tbody tr th {\n",
       "        vertical-align: top;\n",
       "    }\n",
       "\n",
       "    .dataframe thead th {\n",
       "        text-align: right;\n",
       "    }\n",
       "</style>\n",
       "<table border=\"1\" class=\"dataframe\">\n",
       "  <thead>\n",
       "    <tr style=\"text-align: right;\">\n",
       "      <th></th>\n",
       "      <th>amount</th>\n",
       "      <th>clientId</th>\n",
       "      <th>currency</th>\n",
       "      <th>products</th>\n",
       "      <th>timestamp</th>\n",
       "      <th>transaction</th>\n",
       "      <th>uid</th>\n",
       "    </tr>\n",
       "  </thead>\n",
       "  <tbody>\n",
       "    <tr>\n",
       "      <th>0</th>\n",
       "      <td>1394</td>\n",
       "      <td>ubu8zhxrh8hg</td>\n",
       "      <td>PHP</td>\n",
       "      <td>[{'quantity': 1, 'size': 'International L', 'p...</td>\n",
       "      <td>2018-11-09T05:59:08.254Z</td>\n",
       "      <td>257871622</td>\n",
       "      <td>unknown</td>\n",
       "    </tr>\n",
       "    <tr>\n",
       "      <th>1</th>\n",
       "      <td>299</td>\n",
       "      <td>ubu8zhxrh8hg</td>\n",
       "      <td>PHP</td>\n",
       "      <td>[{'quantity': 1, 'size': 'International One Si...</td>\n",
       "      <td>2018-11-09T06:32:29.749Z</td>\n",
       "      <td>265371622</td>\n",
       "      <td>0fc636a4-a03f-493d-8122-64f98c12e6df</td>\n",
       "    </tr>\n",
       "    <tr>\n",
       "      <th>2</th>\n",
       "      <td>24000</td>\n",
       "      <td>ubu8zhxrh8hg</td>\n",
       "      <td>PHP</td>\n",
       "      <td>[{'quantity': 12, 'size': 'International One S...</td>\n",
       "      <td>2018-11-09T08:40:44.673Z</td>\n",
       "      <td>231351622</td>\n",
       "      <td>3c3c50b0-99a2-494e-8228-b559eafccc02</td>\n",
       "    </tr>\n",
       "    <tr>\n",
       "      <th>3</th>\n",
       "      <td>1299</td>\n",
       "      <td>ubu8zhxrh8hg</td>\n",
       "      <td>PHP</td>\n",
       "      <td>[{'quantity': 1, 'size': 'Brazil 37/38', 'pric...</td>\n",
       "      <td>2018-11-09T11:52:16.426Z</td>\n",
       "      <td>294431622</td>\n",
       "      <td>unknown</td>\n",
       "    </tr>\n",
       "    <tr>\n",
       "      <th>4</th>\n",
       "      <td>2091.56</td>\n",
       "      <td>ubu8zhxrh8hg</td>\n",
       "      <td>PHP</td>\n",
       "      <td>[{'quantity': 1, 'size': 'International L', 'p...</td>\n",
       "      <td>2018-11-09T12:55:39.748Z</td>\n",
       "      <td>218931622</td>\n",
       "      <td>unknown</td>\n",
       "    </tr>\n",
       "  </tbody>\n",
       "</table>\n",
       "</div>"
      ],
      "text/plain": [
       "    amount      clientId currency  \\\n",
       "0     1394  ubu8zhxrh8hg      PHP   \n",
       "1      299  ubu8zhxrh8hg      PHP   \n",
       "2    24000  ubu8zhxrh8hg      PHP   \n",
       "3     1299  ubu8zhxrh8hg      PHP   \n",
       "4  2091.56  ubu8zhxrh8hg      PHP   \n",
       "\n",
       "                                            products  \\\n",
       "0  [{'quantity': 1, 'size': 'International L', 'p...   \n",
       "1  [{'quantity': 1, 'size': 'International One Si...   \n",
       "2  [{'quantity': 12, 'size': 'International One S...   \n",
       "3  [{'quantity': 1, 'size': 'Brazil 37/38', 'pric...   \n",
       "4  [{'quantity': 1, 'size': 'International L', 'p...   \n",
       "\n",
       "                  timestamp transaction                                   uid  \n",
       "0  2018-11-09T05:59:08.254Z   257871622                               unknown  \n",
       "1  2018-11-09T06:32:29.749Z   265371622  0fc636a4-a03f-493d-8122-64f98c12e6df  \n",
       "2  2018-11-09T08:40:44.673Z   231351622  3c3c50b0-99a2-494e-8228-b559eafccc02  \n",
       "3  2018-11-09T11:52:16.426Z   294431622                               unknown  \n",
       "4  2018-11-09T12:55:39.748Z   218931622                               unknown  "
      ]
     },
     "execution_count": 31,
     "metadata": {},
     "output_type": "execute_result"
    }
   ],
   "source": [
    "DATA_CONVERSIONS.head()"
   ]
  },
  {
   "cell_type": "markdown",
   "metadata": {},
   "source": [
    "## Parse Date Time"
   ]
  },
  {
   "cell_type": "code",
   "execution_count": 32,
   "metadata": {},
   "outputs": [],
   "source": [
    "DATA_CONVERSIONS['timestamp_parsed'] = DATA_CONVERSIONS['timestamp'].map(\n",
    "    lambda x: datetime.datetime.strptime(x,'%Y-%m-%dT%H:%M:%S.%fz')\n",
    ")"
   ]
  },
  {
   "cell_type": "markdown",
   "metadata": {},
   "source": [
    "## Filter for transactions falling within date range of interest"
   ]
  },
  {
   "cell_type": "code",
   "execution_count": 33,
   "metadata": {},
   "outputs": [],
   "source": [
    "DATA_CONVERSIONS = DATA_CONVERSIONS[DATA_CONVERSIONS['timestamp_parsed'].map(lambda x: x.date() >= ORDER_START_DATE)]\n",
    "DATA_CONVERSIONS = DATA_CONVERSIONS[DATA_CONVERSIONS['timestamp_parsed'].map(lambda x: x.date() <= ORDER_END_DATE)]"
   ]
  },
  {
   "cell_type": "code",
   "execution_count": 34,
   "metadata": {},
   "outputs": [
    {
     "name": "stdout",
     "output_type": "stream",
     "text": [
      "<class 'pandas.core.frame.DataFrame'>\n",
      "Int64Index: 4705 entries, 5185 to 56886\n",
      "Data columns (total 8 columns):\n",
      "amount              4705 non-null object\n",
      "clientId            4705 non-null object\n",
      "currency            4705 non-null object\n",
      "products            4705 non-null object\n",
      "timestamp           4705 non-null object\n",
      "transaction         4705 non-null object\n",
      "uid                 4705 non-null object\n",
      "timestamp_parsed    4705 non-null datetime64[ns]\n",
      "dtypes: datetime64[ns](1), object(7)\n",
      "memory usage: 330.8+ KB\n"
     ]
    }
   ],
   "source": [
    "DATA_CONVERSIONS.info()"
   ]
  },
  {
   "cell_type": "code",
   "execution_count": 35,
   "metadata": {},
   "outputs": [
    {
     "name": "stdout",
     "output_type": "stream",
     "text": [
      "2019-02-01 00:03:44.419000\n",
      "2019-02-28 23:51:17.679000\n"
     ]
    }
   ],
   "source": [
    "print(np.min(DATA_CONVERSIONS['timestamp_parsed']))\n",
    "print(np.max(DATA_CONVERSIONS['timestamp_parsed']))"
   ]
  },
  {
   "cell_type": "code",
   "execution_count": 36,
   "metadata": {},
   "outputs": [
    {
     "data": {
      "text/html": [
       "<div>\n",
       "<style scoped>\n",
       "    .dataframe tbody tr th:only-of-type {\n",
       "        vertical-align: middle;\n",
       "    }\n",
       "\n",
       "    .dataframe tbody tr th {\n",
       "        vertical-align: top;\n",
       "    }\n",
       "\n",
       "    .dataframe thead th {\n",
       "        text-align: right;\n",
       "    }\n",
       "</style>\n",
       "<table border=\"1\" class=\"dataframe\">\n",
       "  <thead>\n",
       "    <tr style=\"text-align: right;\">\n",
       "      <th></th>\n",
       "      <th>amount</th>\n",
       "      <th>clientId</th>\n",
       "      <th>currency</th>\n",
       "      <th>products</th>\n",
       "      <th>timestamp</th>\n",
       "      <th>transaction</th>\n",
       "      <th>uid</th>\n",
       "      <th>timestamp_parsed</th>\n",
       "    </tr>\n",
       "  </thead>\n",
       "  <tbody>\n",
       "    <tr>\n",
       "      <th>5185</th>\n",
       "      <td>1143.12</td>\n",
       "      <td>ubu8zhxrh8hg</td>\n",
       "      <td>PHP</td>\n",
       "      <td>[{'quantity': 1, 'size': 'International S', 'p...</td>\n",
       "      <td>2019-02-07T08:29:55.536Z</td>\n",
       "      <td>215125962</td>\n",
       "      <td>unknown</td>\n",
       "      <td>2019-02-07 08:29:55.536</td>\n",
       "    </tr>\n",
       "    <tr>\n",
       "      <th>5186</th>\n",
       "      <td>1150</td>\n",
       "      <td>ubu8zhxrh8hg</td>\n",
       "      <td>PHP</td>\n",
       "      <td>[{'quantity': 1, 'size': 'UK 10', 'price': '11...</td>\n",
       "      <td>2019-02-07T08:49:49.141Z</td>\n",
       "      <td>215325962</td>\n",
       "      <td>f6fb8346-1b77-4e7f-a631-cfb4b571ceb6</td>\n",
       "      <td>2019-02-07 08:49:49.141</td>\n",
       "    </tr>\n",
       "    <tr>\n",
       "      <th>5187</th>\n",
       "      <td>1996</td>\n",
       "      <td>ubu8zhxrh8hg</td>\n",
       "      <td>PHP</td>\n",
       "      <td>[{'quantity': 2, 'size': 'International XXXL',...</td>\n",
       "      <td>2019-02-07T10:04:50.854Z</td>\n",
       "      <td>279965962</td>\n",
       "      <td>c5c23898-6998-4ae3-b4e9-9f4477ecd6bf</td>\n",
       "      <td>2019-02-07 10:04:50.854</td>\n",
       "    </tr>\n",
       "    <tr>\n",
       "      <th>5188</th>\n",
       "      <td>3650</td>\n",
       "      <td>ubu8zhxrh8hg</td>\n",
       "      <td>PHP</td>\n",
       "      <td>[{'quantity': 1, 'size': 'International One Si...</td>\n",
       "      <td>2019-02-07T17:41:34.990Z</td>\n",
       "      <td>267385962</td>\n",
       "      <td>a695c21f-e7ea-4a80-8719-a658a9af045e</td>\n",
       "      <td>2019-02-07 17:41:34.990</td>\n",
       "    </tr>\n",
       "    <tr>\n",
       "      <th>5189</th>\n",
       "      <td>1750</td>\n",
       "      <td>ubu8zhxrh8hg</td>\n",
       "      <td>PHP</td>\n",
       "      <td>[{'quantity': 1, 'size': 'International One Si...</td>\n",
       "      <td>2019-02-08T01:31:22.243Z</td>\n",
       "      <td>273455962</td>\n",
       "      <td>unknown</td>\n",
       "      <td>2019-02-08 01:31:22.243</td>\n",
       "    </tr>\n",
       "  </tbody>\n",
       "</table>\n",
       "</div>"
      ],
      "text/plain": [
       "       amount      clientId currency  \\\n",
       "5185  1143.12  ubu8zhxrh8hg      PHP   \n",
       "5186     1150  ubu8zhxrh8hg      PHP   \n",
       "5187     1996  ubu8zhxrh8hg      PHP   \n",
       "5188     3650  ubu8zhxrh8hg      PHP   \n",
       "5189     1750  ubu8zhxrh8hg      PHP   \n",
       "\n",
       "                                               products  \\\n",
       "5185  [{'quantity': 1, 'size': 'International S', 'p...   \n",
       "5186  [{'quantity': 1, 'size': 'UK 10', 'price': '11...   \n",
       "5187  [{'quantity': 2, 'size': 'International XXXL',...   \n",
       "5188  [{'quantity': 1, 'size': 'International One Si...   \n",
       "5189  [{'quantity': 1, 'size': 'International One Si...   \n",
       "\n",
       "                     timestamp transaction  \\\n",
       "5185  2019-02-07T08:29:55.536Z   215125962   \n",
       "5186  2019-02-07T08:49:49.141Z   215325962   \n",
       "5187  2019-02-07T10:04:50.854Z   279965962   \n",
       "5188  2019-02-07T17:41:34.990Z   267385962   \n",
       "5189  2019-02-08T01:31:22.243Z   273455962   \n",
       "\n",
       "                                       uid        timestamp_parsed  \n",
       "5185                               unknown 2019-02-07 08:29:55.536  \n",
       "5186  f6fb8346-1b77-4e7f-a631-cfb4b571ceb6 2019-02-07 08:49:49.141  \n",
       "5187  c5c23898-6998-4ae3-b4e9-9f4477ecd6bf 2019-02-07 10:04:50.854  \n",
       "5188  a695c21f-e7ea-4a80-8719-a658a9af045e 2019-02-07 17:41:34.990  \n",
       "5189                               unknown 2019-02-08 01:31:22.243  "
      ]
     },
     "execution_count": 36,
     "metadata": {},
     "output_type": "execute_result"
    }
   ],
   "source": [
    "DATA_CONVERSIONS.head()"
   ]
  },
  {
   "cell_type": "markdown",
   "metadata": {},
   "source": [
    "## Extract Products in Transactions"
   ]
  },
  {
   "cell_type": "code",
   "execution_count": 37,
   "metadata": {},
   "outputs": [
    {
     "data": {
      "text/plain": [
       "4705"
      ]
     },
     "execution_count": 37,
     "metadata": {},
     "output_type": "execute_result"
    }
   ],
   "source": [
    "# Number of unique transaction IDs\n",
    "len(DATA_CONVERSIONS.transaction.unique())"
   ]
  },
  {
   "cell_type": "code",
   "execution_count": 38,
   "metadata": {},
   "outputs": [
    {
     "data": {
      "text/plain": [
       "4705"
      ]
     },
     "execution_count": 38,
     "metadata": {},
     "output_type": "execute_result"
    }
   ],
   "source": [
    "# Number of rows\n",
    "DATA_CONVERSIONS.shape[0]"
   ]
  },
  {
   "cell_type": "markdown",
   "metadata": {},
   "source": [
    "Each data conversion record corresponds to 1 unique transaction ID"
   ]
  },
  {
   "cell_type": "code",
   "execution_count": 39,
   "metadata": {},
   "outputs": [],
   "source": [
    "DATA_CONVERSION_PRODUCTS = DATA_CONVERSIONS['products'].tolist()"
   ]
  },
  {
   "cell_type": "code",
   "execution_count": 40,
   "metadata": {},
   "outputs": [],
   "source": [
    "# For each product object in each transaction record, append the transaction id\n",
    "# This is to facilitate conversion to dataframe later on\n",
    "for i in range(DATA_CONVERSIONS.shape[0]):\n",
    "    for obj in DATA_CONVERSION_PRODUCTS[i]:\n",
    "        obj['transaction'] = DATA_CONVERSIONS['transaction'].tolist()[i]"
   ]
  },
  {
   "cell_type": "code",
   "execution_count": 41,
   "metadata": {},
   "outputs": [],
   "source": [
    "# flatten / unnest list of records\n",
    "DATA_CONVERSION_PRODUCTS = list(itertools.chain.from_iterable(DATA_CONVERSION_PRODUCTS))"
   ]
  },
  {
   "cell_type": "code",
   "execution_count": 42,
   "metadata": {},
   "outputs": [],
   "source": [
    "# format data into pandas dataframe\n",
    "DATA_CONVERSION_PRODUCTS = pd.DataFrame.from_records(DATA_CONVERSION_PRODUCTS)"
   ]
  },
  {
   "cell_type": "code",
   "execution_count": 43,
   "metadata": {},
   "outputs": [],
   "source": [
    "# remove records where sku is undefined\n",
    "DATA_CONVERSION_PRODUCTS = DATA_CONVERSION_PRODUCTS[~(DATA_CONVERSION_PRODUCTS['sku']=='undefined')]"
   ]
  },
  {
   "cell_type": "code",
   "execution_count": 44,
   "metadata": {},
   "outputs": [
    {
     "name": "stdout",
     "output_type": "stream",
     "text": [
      "<class 'pandas.core.frame.DataFrame'>\n",
      "Int64Index: 8578 entries, 0 to 8599\n",
      "Data columns (total 5 columns):\n",
      "price          8578 non-null object\n",
      "quantity       8578 non-null float64\n",
      "size           8578 non-null object\n",
      "sku            8578 non-null object\n",
      "transaction    8578 non-null object\n",
      "dtypes: float64(1), object(4)\n",
      "memory usage: 402.1+ KB\n"
     ]
    }
   ],
   "source": [
    "DATA_CONVERSION_PRODUCTS.info()"
   ]
  },
  {
   "cell_type": "code",
   "execution_count": 45,
   "metadata": {},
   "outputs": [
    {
     "data": {
      "text/html": [
       "<div>\n",
       "<style scoped>\n",
       "    .dataframe tbody tr th:only-of-type {\n",
       "        vertical-align: middle;\n",
       "    }\n",
       "\n",
       "    .dataframe tbody tr th {\n",
       "        vertical-align: top;\n",
       "    }\n",
       "\n",
       "    .dataframe thead th {\n",
       "        text-align: right;\n",
       "    }\n",
       "</style>\n",
       "<table border=\"1\" class=\"dataframe\">\n",
       "  <thead>\n",
       "    <tr style=\"text-align: right;\">\n",
       "      <th></th>\n",
       "      <th>price</th>\n",
       "      <th>quantity</th>\n",
       "      <th>size</th>\n",
       "      <th>sku</th>\n",
       "      <th>transaction</th>\n",
       "    </tr>\n",
       "  </thead>\n",
       "  <tbody>\n",
       "    <tr>\n",
       "      <th>0</th>\n",
       "      <td>1143.12</td>\n",
       "      <td>1.0</td>\n",
       "      <td>International S</td>\n",
       "      <td>04BF2AA2B31011GS</td>\n",
       "      <td>215125962</td>\n",
       "    </tr>\n",
       "    <tr>\n",
       "      <th>1</th>\n",
       "      <td>1150</td>\n",
       "      <td>1.0</td>\n",
       "      <td>UK 10</td>\n",
       "      <td>79CE8US7578ECEGS</td>\n",
       "      <td>215325962</td>\n",
       "    </tr>\n",
       "    <tr>\n",
       "      <th>2</th>\n",
       "      <td>998</td>\n",
       "      <td>2.0</td>\n",
       "      <td>International XXXL</td>\n",
       "      <td>6C34EAAE0207FDGS</td>\n",
       "      <td>279965962</td>\n",
       "    </tr>\n",
       "    <tr>\n",
       "      <th>3</th>\n",
       "      <td>3650</td>\n",
       "      <td>1.0</td>\n",
       "      <td>International One Size</td>\n",
       "      <td>4524FAC279C76EGS</td>\n",
       "      <td>267385962</td>\n",
       "    </tr>\n",
       "    <tr>\n",
       "      <th>4</th>\n",
       "      <td>1750</td>\n",
       "      <td>1.0</td>\n",
       "      <td>International One Size</td>\n",
       "      <td>DB581ACD3B11F1GS</td>\n",
       "      <td>273455962</td>\n",
       "    </tr>\n",
       "  </tbody>\n",
       "</table>\n",
       "</div>"
      ],
      "text/plain": [
       "     price  quantity                    size               sku transaction\n",
       "0  1143.12       1.0         International S  04BF2AA2B31011GS   215125962\n",
       "1     1150       1.0                   UK 10  79CE8US7578ECEGS   215325962\n",
       "2      998       2.0      International XXXL  6C34EAAE0207FDGS   279965962\n",
       "3     3650       1.0  International One Size  4524FAC279C76EGS   267385962\n",
       "4     1750       1.0  International One Size  DB581ACD3B11F1GS   273455962"
      ]
     },
     "execution_count": 45,
     "metadata": {},
     "output_type": "execute_result"
    }
   ],
   "source": [
    "DATA_CONVERSION_PRODUCTS.head()"
   ]
  },
  {
   "cell_type": "markdown",
   "metadata": {},
   "source": [
    "## Check for duplicates"
   ]
  },
  {
   "cell_type": "code",
   "execution_count": 46,
   "metadata": {},
   "outputs": [
    {
     "data": {
      "text/plain": [
       "0"
      ]
     },
     "execution_count": 46,
     "metadata": {},
     "output_type": "execute_result"
    }
   ],
   "source": [
    "DATA_CONVERSION_PRODUCTS.duplicated().sum() ## No duplicates"
   ]
  },
  {
   "cell_type": "markdown",
   "metadata": {},
   "source": [
    "## Standardize size names"
   ]
  },
  {
   "cell_type": "code",
   "execution_count": 47,
   "metadata": {},
   "outputs": [],
   "source": [
    "DATA_CONVERSION_PRODUCTS['size_name'] = DATA_CONVERSION_PRODUCTS['size'].apply(normalize_string)"
   ]
  },
  {
   "cell_type": "code",
   "execution_count": 48,
   "metadata": {},
   "outputs": [
    {
     "data": {
      "text/html": [
       "<div>\n",
       "<style scoped>\n",
       "    .dataframe tbody tr th:only-of-type {\n",
       "        vertical-align: middle;\n",
       "    }\n",
       "\n",
       "    .dataframe tbody tr th {\n",
       "        vertical-align: top;\n",
       "    }\n",
       "\n",
       "    .dataframe thead th {\n",
       "        text-align: right;\n",
       "    }\n",
       "</style>\n",
       "<table border=\"1\" class=\"dataframe\">\n",
       "  <thead>\n",
       "    <tr style=\"text-align: right;\">\n",
       "      <th></th>\n",
       "      <th>price</th>\n",
       "      <th>quantity</th>\n",
       "      <th>size</th>\n",
       "      <th>sku</th>\n",
       "      <th>transaction</th>\n",
       "      <th>size_name</th>\n",
       "    </tr>\n",
       "  </thead>\n",
       "  <tbody>\n",
       "    <tr>\n",
       "      <th>0</th>\n",
       "      <td>1143.12</td>\n",
       "      <td>1.0</td>\n",
       "      <td>International S</td>\n",
       "      <td>04BF2AA2B31011GS</td>\n",
       "      <td>215125962</td>\n",
       "      <td>internationals</td>\n",
       "    </tr>\n",
       "    <tr>\n",
       "      <th>1</th>\n",
       "      <td>1150</td>\n",
       "      <td>1.0</td>\n",
       "      <td>UK 10</td>\n",
       "      <td>79CE8US7578ECEGS</td>\n",
       "      <td>215325962</td>\n",
       "      <td>uk10</td>\n",
       "    </tr>\n",
       "    <tr>\n",
       "      <th>2</th>\n",
       "      <td>998</td>\n",
       "      <td>2.0</td>\n",
       "      <td>International XXXL</td>\n",
       "      <td>6C34EAAE0207FDGS</td>\n",
       "      <td>279965962</td>\n",
       "      <td>internationalxxxl</td>\n",
       "    </tr>\n",
       "    <tr>\n",
       "      <th>3</th>\n",
       "      <td>3650</td>\n",
       "      <td>1.0</td>\n",
       "      <td>International One Size</td>\n",
       "      <td>4524FAC279C76EGS</td>\n",
       "      <td>267385962</td>\n",
       "      <td>internationalonesize</td>\n",
       "    </tr>\n",
       "    <tr>\n",
       "      <th>4</th>\n",
       "      <td>1750</td>\n",
       "      <td>1.0</td>\n",
       "      <td>International One Size</td>\n",
       "      <td>DB581ACD3B11F1GS</td>\n",
       "      <td>273455962</td>\n",
       "      <td>internationalonesize</td>\n",
       "    </tr>\n",
       "  </tbody>\n",
       "</table>\n",
       "</div>"
      ],
      "text/plain": [
       "     price  quantity                    size               sku transaction  \\\n",
       "0  1143.12       1.0         International S  04BF2AA2B31011GS   215125962   \n",
       "1     1150       1.0                   UK 10  79CE8US7578ECEGS   215325962   \n",
       "2      998       2.0      International XXXL  6C34EAAE0207FDGS   279965962   \n",
       "3     3650       1.0  International One Size  4524FAC279C76EGS   267385962   \n",
       "4     1750       1.0  International One Size  DB581ACD3B11F1GS   273455962   \n",
       "\n",
       "              size_name  \n",
       "0        internationals  \n",
       "1                  uk10  \n",
       "2     internationalxxxl  \n",
       "3  internationalonesize  \n",
       "4  internationalonesize  "
      ]
     },
     "execution_count": 48,
     "metadata": {},
     "output_type": "execute_result"
    }
   ],
   "source": [
    "DATA_CONVERSION_PRODUCTS.head()"
   ]
  },
  {
   "cell_type": "markdown",
   "metadata": {},
   "source": [
    "# Merge Exchange/Return Data with Conversion Data"
   ]
  },
  {
   "cell_type": "markdown",
   "metadata": {},
   "source": [
    "## Step 1 : Find SKU IDs of Transaction IDs that were returned, regardless of size"
   ]
  },
  {
   "cell_type": "code",
   "execution_count": 49,
   "metadata": {},
   "outputs": [],
   "source": [
    "DATA_CONVERSIONS_EXCHANGE_RETURNS = DATA_CONVERSION_PRODUCTS.merge(\n",
    "  right = DATA_EXCHANGE_RETURNS[['Order nr','SKU ID']].drop_duplicates(keep='first'),\n",
    "  how = 'left',\n",
    "  left_on = ['transaction','sku'],\n",
    "  right_on = ['Order nr','SKU ID'],\n",
    "  indicator = True\n",
    ")"
   ]
  },
  {
   "cell_type": "code",
   "execution_count": 50,
   "metadata": {},
   "outputs": [],
   "source": [
    "# ind_exchangereturn is an indicator variable of whether the product (SKUID) in the transaction (transaction)\n",
    "# was exchanged/returned with a stated size related reason (too_large/too_small)\n",
    "DATA_CONVERSIONS_EXCHANGE_RETURNS = DATA_CONVERSIONS_EXCHANGE_RETURNS.rename(\n",
    "    columns={'_merge':'ind_exchangereturn'}\n",
    ")"
   ]
  },
  {
   "cell_type": "code",
   "execution_count": 51,
   "metadata": {},
   "outputs": [],
   "source": [
    "DATA_CONVERSIONS_EXCHANGE_RETURNS['ind_exchangereturn'] = \\\n",
    "    DATA_CONVERSIONS_EXCHANGE_RETURNS['ind_exchangereturn'].map({\n",
    "        'both':1,\n",
    "        'left_only':0\n",
    "    })"
   ]
  },
  {
   "cell_type": "code",
   "execution_count": 52,
   "metadata": {},
   "outputs": [
    {
     "data": {
      "text/html": [
       "<div>\n",
       "<style scoped>\n",
       "    .dataframe tbody tr th:only-of-type {\n",
       "        vertical-align: middle;\n",
       "    }\n",
       "\n",
       "    .dataframe tbody tr th {\n",
       "        vertical-align: top;\n",
       "    }\n",
       "\n",
       "    .dataframe thead th {\n",
       "        text-align: right;\n",
       "    }\n",
       "</style>\n",
       "<table border=\"1\" class=\"dataframe\">\n",
       "  <thead>\n",
       "    <tr style=\"text-align: right;\">\n",
       "      <th></th>\n",
       "      <th>price</th>\n",
       "      <th>quantity</th>\n",
       "      <th>size</th>\n",
       "      <th>sku</th>\n",
       "      <th>transaction</th>\n",
       "      <th>size_name</th>\n",
       "      <th>Order nr</th>\n",
       "      <th>SKU ID</th>\n",
       "      <th>ind_exchangereturn</th>\n",
       "    </tr>\n",
       "  </thead>\n",
       "  <tbody>\n",
       "    <tr>\n",
       "      <th>8208</th>\n",
       "      <td>831.2</td>\n",
       "      <td>1.0</td>\n",
       "      <td>International XS</td>\n",
       "      <td>68F75AA80E37FCGS</td>\n",
       "      <td>221563862</td>\n",
       "      <td>internationalxs</td>\n",
       "      <td>221563862</td>\n",
       "      <td>68F75AA80E37FCGS</td>\n",
       "      <td>1</td>\n",
       "    </tr>\n",
       "    <tr>\n",
       "      <th>5979</th>\n",
       "      <td>704.25</td>\n",
       "      <td>1.0</td>\n",
       "      <td>International XL</td>\n",
       "      <td>4ABCEAAD9A3FDBGS</td>\n",
       "      <td>262794862</td>\n",
       "      <td>internationalxl</td>\n",
       "      <td>262794862</td>\n",
       "      <td>4ABCEAAD9A3FDBGS</td>\n",
       "      <td>1</td>\n",
       "    </tr>\n",
       "    <tr>\n",
       "      <th>5978</th>\n",
       "      <td>974.25</td>\n",
       "      <td>1.0</td>\n",
       "      <td>International XL</td>\n",
       "      <td>C7503AA6E8554CGS</td>\n",
       "      <td>262794862</td>\n",
       "      <td>internationalxl</td>\n",
       "      <td>262794862</td>\n",
       "      <td>C7503AA6E8554CGS</td>\n",
       "      <td>1</td>\n",
       "    </tr>\n",
       "    <tr>\n",
       "      <th>8222</th>\n",
       "      <td>1295</td>\n",
       "      <td>1.0</td>\n",
       "      <td>International XL</td>\n",
       "      <td>E9468AA1B4AEB1GS</td>\n",
       "      <td>244553862</td>\n",
       "      <td>internationalxl</td>\n",
       "      <td>244553862</td>\n",
       "      <td>E9468AA1B4AEB1GS</td>\n",
       "      <td>1</td>\n",
       "    </tr>\n",
       "    <tr>\n",
       "      <th>2196</th>\n",
       "      <td>1049.44</td>\n",
       "      <td>1.0</td>\n",
       "      <td>International XS</td>\n",
       "      <td>F0615AA3F9EFE0GS</td>\n",
       "      <td>223818962</td>\n",
       "      <td>internationalxs</td>\n",
       "      <td>223818962</td>\n",
       "      <td>F0615AA3F9EFE0GS</td>\n",
       "      <td>1</td>\n",
       "    </tr>\n",
       "  </tbody>\n",
       "</table>\n",
       "</div>"
      ],
      "text/plain": [
       "        price  quantity              size               sku transaction  \\\n",
       "8208    831.2       1.0  International XS  68F75AA80E37FCGS   221563862   \n",
       "5979   704.25       1.0  International XL  4ABCEAAD9A3FDBGS   262794862   \n",
       "5978   974.25       1.0  International XL  C7503AA6E8554CGS   262794862   \n",
       "8222     1295       1.0  International XL  E9468AA1B4AEB1GS   244553862   \n",
       "2196  1049.44       1.0  International XS  F0615AA3F9EFE0GS   223818962   \n",
       "\n",
       "            size_name   Order nr            SKU ID  ind_exchangereturn  \n",
       "8208  internationalxs  221563862  68F75AA80E37FCGS                   1  \n",
       "5979  internationalxl  262794862  4ABCEAAD9A3FDBGS                   1  \n",
       "5978  internationalxl  262794862  C7503AA6E8554CGS                   1  \n",
       "8222  internationalxl  244553862  E9468AA1B4AEB1GS                   1  \n",
       "2196  internationalxs  223818962  F0615AA3F9EFE0GS                   1  "
      ]
     },
     "execution_count": 52,
     "metadata": {},
     "output_type": "execute_result"
    }
   ],
   "source": [
    "DATA_CONVERSIONS_EXCHANGE_RETURNS.sort_values('ind_exchangereturn').tail()"
   ]
  },
  {
   "cell_type": "code",
   "execution_count": 53,
   "metadata": {},
   "outputs": [
    {
     "data": {
      "text/plain": [
       "ind_exchangereturn\n",
       "0    8099\n",
       "1     479\n",
       "dtype: int64"
      ]
     },
     "execution_count": 53,
     "metadata": {},
     "output_type": "execute_result"
    }
   ],
   "source": [
    "DATA_CONVERSIONS_EXCHANGE_RETURNS.groupby('ind_exchangereturn').size()"
   ]
  },
  {
   "cell_type": "code",
   "execution_count": 54,
   "metadata": {},
   "outputs": [],
   "source": [
    "DATA_CONVERSIONS_EXCHANGE_RETURNS.drop(columns=['Order nr','SKU ID'],inplace=True)"
   ]
  },
  {
   "cell_type": "markdown",
   "metadata": {},
   "source": [
    "## Step 2 : Append Return Reason if available by matching based on transaction id, sku id and size"
   ]
  },
  {
   "cell_type": "code",
   "execution_count": 55,
   "metadata": {},
   "outputs": [],
   "source": [
    "DATA_CONVERSIONS_EXCHANGE_RETURNS = DATA_CONVERSIONS_EXCHANGE_RETURNS.merge(\n",
    "  right = DATA_EXCHANGE_RETURNS,\n",
    "  how = 'left',\n",
    "  left_on = ['transaction','sku','size_name'],\n",
    "  right_on = ['Order nr','SKU ID','original_size']\n",
    ")"
   ]
  },
  {
   "cell_type": "code",
   "execution_count": 56,
   "metadata": {},
   "outputs": [],
   "source": [
    "DATA_CONVERSIONS_EXCHANGE_RETURNS = DATA_CONVERSIONS_EXCHANGE_RETURNS.drop(columns=[\n",
    "    'Order nr',\n",
    "    'SKU ID',\n",
    "    'original_size'\n",
    "])"
   ]
  },
  {
   "cell_type": "code",
   "execution_count": 57,
   "metadata": {
    "scrolled": false
   },
   "outputs": [
    {
     "data": {
      "text/html": [
       "<div>\n",
       "<style scoped>\n",
       "    .dataframe tbody tr th:only-of-type {\n",
       "        vertical-align: middle;\n",
       "    }\n",
       "\n",
       "    .dataframe tbody tr th {\n",
       "        vertical-align: top;\n",
       "    }\n",
       "\n",
       "    .dataframe thead th {\n",
       "        text-align: right;\n",
       "    }\n",
       "</style>\n",
       "<table border=\"1\" class=\"dataframe\">\n",
       "  <thead>\n",
       "    <tr style=\"text-align: right;\">\n",
       "      <th></th>\n",
       "      <th>price</th>\n",
       "      <th>quantity</th>\n",
       "      <th>size</th>\n",
       "      <th>sku</th>\n",
       "      <th>transaction</th>\n",
       "      <th>size_name</th>\n",
       "      <th>ind_exchangereturn</th>\n",
       "      <th>Reason Name</th>\n",
       "      <th>exchanged_size</th>\n",
       "    </tr>\n",
       "  </thead>\n",
       "  <tbody>\n",
       "    <tr>\n",
       "      <th>30</th>\n",
       "      <td>438</td>\n",
       "      <td>1.0</td>\n",
       "      <td>International L</td>\n",
       "      <td>4F639AA908FCCAGS</td>\n",
       "      <td>299595962</td>\n",
       "      <td>internationall</td>\n",
       "      <td>1</td>\n",
       "      <td>too_large</td>\n",
       "      <td>&lt;na&gt;&lt;na&gt;</td>\n",
       "    </tr>\n",
       "    <tr>\n",
       "      <th>6146</th>\n",
       "      <td>0</td>\n",
       "      <td>1.0</td>\n",
       "      <td>International M</td>\n",
       "      <td>ED28EAADEF2243GS</td>\n",
       "      <td>292799862</td>\n",
       "      <td>internationalm</td>\n",
       "      <td>1</td>\n",
       "      <td>too_large</td>\n",
       "      <td>&lt;na&gt;&lt;na&gt;</td>\n",
       "    </tr>\n",
       "    <tr>\n",
       "      <th>6066</th>\n",
       "      <td>1959.2</td>\n",
       "      <td>1.0</td>\n",
       "      <td>International L</td>\n",
       "      <td>EF930AA374ED11GS</td>\n",
       "      <td>231936862</td>\n",
       "      <td>internationall</td>\n",
       "      <td>1</td>\n",
       "      <td>too_large</td>\n",
       "      <td>&lt;na&gt;&lt;na&gt;</td>\n",
       "    </tr>\n",
       "    <tr>\n",
       "      <th>6057</th>\n",
       "      <td>831.36</td>\n",
       "      <td>1.0</td>\n",
       "      <td>EU 38</td>\n",
       "      <td>5E3E4SH1951D33GS</td>\n",
       "      <td>223128862</td>\n",
       "      <td>eu38</td>\n",
       "      <td>1</td>\n",
       "      <td>too_small</td>\n",
       "      <td>&lt;na&gt;&lt;na&gt;</td>\n",
       "    </tr>\n",
       "    <tr>\n",
       "      <th>6033</th>\n",
       "      <td>898.5</td>\n",
       "      <td>1.0</td>\n",
       "      <td>International L</td>\n",
       "      <td>9E0D0AAD9B0E23GS</td>\n",
       "      <td>235329862</td>\n",
       "      <td>internationall</td>\n",
       "      <td>1</td>\n",
       "      <td>too_large</td>\n",
       "      <td>&lt;na&gt;&lt;na&gt;</td>\n",
       "    </tr>\n",
       "  </tbody>\n",
       "</table>\n",
       "</div>"
      ],
      "text/plain": [
       "       price  quantity             size               sku transaction  \\\n",
       "30       438       1.0  International L  4F639AA908FCCAGS   299595962   \n",
       "6146       0       1.0  International M  ED28EAADEF2243GS   292799862   \n",
       "6066  1959.2       1.0  International L  EF930AA374ED11GS   231936862   \n",
       "6057  831.36       1.0            EU 38  5E3E4SH1951D33GS   223128862   \n",
       "6033   898.5       1.0  International L  9E0D0AAD9B0E23GS   235329862   \n",
       "\n",
       "           size_name  ind_exchangereturn Reason Name exchanged_size  \n",
       "30    internationall                   1   too_large       <na><na>  \n",
       "6146  internationalm                   1   too_large       <na><na>  \n",
       "6066  internationall                   1   too_large       <na><na>  \n",
       "6057            eu38                   1   too_small       <na><na>  \n",
       "6033  internationall                   1   too_large       <na><na>  "
      ]
     },
     "execution_count": 57,
     "metadata": {},
     "output_type": "execute_result"
    }
   ],
   "source": [
    "DATA_CONVERSIONS_EXCHANGE_RETURNS.sort_values('exchanged_size').head()"
   ]
  },
  {
   "cell_type": "code",
   "execution_count": 58,
   "metadata": {},
   "outputs": [],
   "source": [
    "DATA_CONVERSIONS_EXCHANGE_RETURNS['Reason Name'].fillna('<No size match>',inplace=True)"
   ]
  },
  {
   "cell_type": "code",
   "execution_count": 59,
   "metadata": {},
   "outputs": [
    {
     "data": {
      "text/html": [
       "<div>\n",
       "<style scoped>\n",
       "    .dataframe tbody tr th:only-of-type {\n",
       "        vertical-align: middle;\n",
       "    }\n",
       "\n",
       "    .dataframe tbody tr th {\n",
       "        vertical-align: top;\n",
       "    }\n",
       "\n",
       "    .dataframe thead th {\n",
       "        text-align: right;\n",
       "    }\n",
       "</style>\n",
       "<table border=\"1\" class=\"dataframe\">\n",
       "  <thead>\n",
       "    <tr style=\"text-align: right;\">\n",
       "      <th></th>\n",
       "      <th>ind_exchangereturn</th>\n",
       "      <th>Reason Name</th>\n",
       "      <th>0</th>\n",
       "    </tr>\n",
       "  </thead>\n",
       "  <tbody>\n",
       "    <tr>\n",
       "      <th>0</th>\n",
       "      <td>0</td>\n",
       "      <td>&lt;No size match&gt;</td>\n",
       "      <td>8099</td>\n",
       "    </tr>\n",
       "    <tr>\n",
       "      <th>1</th>\n",
       "      <td>1</td>\n",
       "      <td>&lt;No size match&gt;</td>\n",
       "      <td>86</td>\n",
       "    </tr>\n",
       "    <tr>\n",
       "      <th>2</th>\n",
       "      <td>1</td>\n",
       "      <td>too_large</td>\n",
       "      <td>222</td>\n",
       "    </tr>\n",
       "    <tr>\n",
       "      <th>3</th>\n",
       "      <td>1</td>\n",
       "      <td>too_small</td>\n",
       "      <td>171</td>\n",
       "    </tr>\n",
       "  </tbody>\n",
       "</table>\n",
       "</div>"
      ],
      "text/plain": [
       "   ind_exchangereturn      Reason Name     0\n",
       "0                   0  <No size match>  8099\n",
       "1                   1  <No size match>    86\n",
       "2                   1        too_large   222\n",
       "3                   1        too_small   171"
      ]
     },
     "execution_count": 59,
     "metadata": {},
     "output_type": "execute_result"
    }
   ],
   "source": [
    "DATA_CONVERSIONS_EXCHANGE_RETURNS.groupby(['ind_exchangereturn','Reason Name']).size().reset_index()"
   ]
  },
  {
   "cell_type": "markdown",
   "metadata": {},
   "source": [
    "86 out of the 479 product-transaction records that had product exchanges/returns have no size match "
   ]
  },
  {
   "cell_type": "markdown",
   "metadata": {},
   "source": [
    "## Examine unmatched size names"
   ]
  },
  {
   "cell_type": "code",
   "execution_count": 60,
   "metadata": {},
   "outputs": [
    {
     "data": {
      "text/html": [
       "<div>\n",
       "<style scoped>\n",
       "    .dataframe tbody tr th:only-of-type {\n",
       "        vertical-align: middle;\n",
       "    }\n",
       "\n",
       "    .dataframe tbody tr th {\n",
       "        vertical-align: top;\n",
       "    }\n",
       "\n",
       "    .dataframe thead th {\n",
       "        text-align: right;\n",
       "    }\n",
       "</style>\n",
       "<table border=\"1\" class=\"dataframe\">\n",
       "  <thead>\n",
       "    <tr style=\"text-align: right;\">\n",
       "      <th></th>\n",
       "      <th>size_from_conversions_data</th>\n",
       "      <th>all_sizes_from_exchangereturn_data</th>\n",
       "      <th>count</th>\n",
       "    </tr>\n",
       "  </thead>\n",
       "  <tbody>\n",
       "    <tr>\n",
       "      <th>48</th>\n",
       "      <td>us6</td>\n",
       "      <td>eu36</td>\n",
       "      <td>5</td>\n",
       "    </tr>\n",
       "    <tr>\n",
       "      <th>41</th>\n",
       "      <td>us4</td>\n",
       "      <td>internationalxs</td>\n",
       "      <td>5</td>\n",
       "    </tr>\n",
       "    <tr>\n",
       "      <th>51</th>\n",
       "      <td>us6.5</td>\n",
       "      <td>eu37</td>\n",
       "      <td>3</td>\n",
       "    </tr>\n",
       "    <tr>\n",
       "      <th>55</th>\n",
       "      <td>us7.5</td>\n",
       "      <td>eu38</td>\n",
       "      <td>3</td>\n",
       "    </tr>\n",
       "    <tr>\n",
       "      <th>13</th>\n",
       "      <td>internationall</td>\n",
       "      <td>uk18</td>\n",
       "      <td>3</td>\n",
       "    </tr>\n",
       "    <tr>\n",
       "      <th>34</th>\n",
       "      <td>us12</td>\n",
       "      <td>internationalxl</td>\n",
       "      <td>2</td>\n",
       "    </tr>\n",
       "    <tr>\n",
       "      <th>20</th>\n",
       "      <td>internationals</td>\n",
       "      <td>uk10</td>\n",
       "      <td>2</td>\n",
       "    </tr>\n",
       "    <tr>\n",
       "      <th>7</th>\n",
       "      <td>eu42</td>\n",
       "      <td>uk14</td>\n",
       "      <td>2</td>\n",
       "    </tr>\n",
       "    <tr>\n",
       "      <th>58</th>\n",
       "      <td>us8</td>\n",
       "      <td>internationalm</td>\n",
       "      <td>2</td>\n",
       "    </tr>\n",
       "    <tr>\n",
       "      <th>9</th>\n",
       "      <td>eu44</td>\n",
       "      <td>internationalxl</td>\n",
       "      <td>2</td>\n",
       "    </tr>\n",
       "    <tr>\n",
       "      <th>22</th>\n",
       "      <td>internationalxs</td>\n",
       "      <td>internationals</td>\n",
       "      <td>2</td>\n",
       "    </tr>\n",
       "    <tr>\n",
       "      <th>27</th>\n",
       "      <td>uk12</td>\n",
       "      <td>internationall</td>\n",
       "      <td>2</td>\n",
       "    </tr>\n",
       "    <tr>\n",
       "      <th>45</th>\n",
       "      <td>us5</td>\n",
       "      <td>eu35</td>\n",
       "      <td>1</td>\n",
       "    </tr>\n",
       "    <tr>\n",
       "      <th>47</th>\n",
       "      <td>us5.5</td>\n",
       "      <td>us6</td>\n",
       "      <td>1</td>\n",
       "    </tr>\n",
       "    <tr>\n",
       "      <th>46</th>\n",
       "      <td>us5</td>\n",
       "      <td>eu36</td>\n",
       "      <td>1</td>\n",
       "    </tr>\n",
       "    <tr>\n",
       "      <th>0</th>\n",
       "      <td>eu35</td>\n",
       "      <td>us5</td>\n",
       "      <td>1</td>\n",
       "    </tr>\n",
       "    <tr>\n",
       "      <th>44</th>\n",
       "      <td>us40</td>\n",
       "      <td>internationals</td>\n",
       "      <td>1</td>\n",
       "    </tr>\n",
       "    <tr>\n",
       "      <th>42</th>\n",
       "      <td>us4</td>\n",
       "      <td>uk6__AND__uk8</td>\n",
       "      <td>1</td>\n",
       "    </tr>\n",
       "    <tr>\n",
       "      <th>40</th>\n",
       "      <td>us38</td>\n",
       "      <td>eu38</td>\n",
       "      <td>1</td>\n",
       "    </tr>\n",
       "    <tr>\n",
       "      <th>39</th>\n",
       "      <td>us34</td>\n",
       "      <td>eu34</td>\n",
       "      <td>1</td>\n",
       "    </tr>\n",
       "    <tr>\n",
       "      <th>38</th>\n",
       "      <td>us2</td>\n",
       "      <td>uk6__AND__uk8</td>\n",
       "      <td>1</td>\n",
       "    </tr>\n",
       "    <tr>\n",
       "      <th>43</th>\n",
       "      <td>us4</td>\n",
       "      <td>uk8</td>\n",
       "      <td>1</td>\n",
       "    </tr>\n",
       "    <tr>\n",
       "      <th>50</th>\n",
       "      <td>us6</td>\n",
       "      <td>internationalm</td>\n",
       "      <td>1</td>\n",
       "    </tr>\n",
       "    <tr>\n",
       "      <th>49</th>\n",
       "      <td>us6</td>\n",
       "      <td>eu38</td>\n",
       "      <td>1</td>\n",
       "    </tr>\n",
       "    <tr>\n",
       "      <th>36</th>\n",
       "      <td>us18</td>\n",
       "      <td>uk22</td>\n",
       "      <td>1</td>\n",
       "    </tr>\n",
       "    <tr>\n",
       "      <th>52</th>\n",
       "      <td>us6.5</td>\n",
       "      <td>uk6</td>\n",
       "      <td>1</td>\n",
       "    </tr>\n",
       "    <tr>\n",
       "      <th>53</th>\n",
       "      <td>us7</td>\n",
       "      <td>eu38</td>\n",
       "      <td>1</td>\n",
       "    </tr>\n",
       "    <tr>\n",
       "      <th>54</th>\n",
       "      <td>us7</td>\n",
       "      <td>uk6.5</td>\n",
       "      <td>1</td>\n",
       "    </tr>\n",
       "    <tr>\n",
       "      <th>56</th>\n",
       "      <td>us8</td>\n",
       "      <td>eu39</td>\n",
       "      <td>1</td>\n",
       "    </tr>\n",
       "    <tr>\n",
       "      <th>57</th>\n",
       "      <td>us8</td>\n",
       "      <td>internationall</td>\n",
       "      <td>1</td>\n",
       "    </tr>\n",
       "    <tr>\n",
       "      <th>...</th>\n",
       "      <td>...</td>\n",
       "      <td>...</td>\n",
       "      <td>...</td>\n",
       "    </tr>\n",
       "    <tr>\n",
       "      <th>37</th>\n",
       "      <td>us2</td>\n",
       "      <td>internationalxs</td>\n",
       "      <td>1</td>\n",
       "    </tr>\n",
       "    <tr>\n",
       "      <th>32</th>\n",
       "      <td>us10</td>\n",
       "      <td>internationall</td>\n",
       "      <td>1</td>\n",
       "    </tr>\n",
       "    <tr>\n",
       "      <th>35</th>\n",
       "      <td>us14</td>\n",
       "      <td>uk18</td>\n",
       "      <td>1</td>\n",
       "    </tr>\n",
       "    <tr>\n",
       "      <th>33</th>\n",
       "      <td>us11</td>\n",
       "      <td>uk10.5</td>\n",
       "      <td>1</td>\n",
       "    </tr>\n",
       "    <tr>\n",
       "      <th>2</th>\n",
       "      <td>eu37</td>\n",
       "      <td>eu38</td>\n",
       "      <td>1</td>\n",
       "    </tr>\n",
       "    <tr>\n",
       "      <th>3</th>\n",
       "      <td>eu38</td>\n",
       "      <td>internationalm</td>\n",
       "      <td>1</td>\n",
       "    </tr>\n",
       "    <tr>\n",
       "      <th>4</th>\n",
       "      <td>eu38</td>\n",
       "      <td>uk10</td>\n",
       "      <td>1</td>\n",
       "    </tr>\n",
       "    <tr>\n",
       "      <th>5</th>\n",
       "      <td>eu39</td>\n",
       "      <td>us8.5</td>\n",
       "      <td>1</td>\n",
       "    </tr>\n",
       "    <tr>\n",
       "      <th>6</th>\n",
       "      <td>eu40</td>\n",
       "      <td>uk12</td>\n",
       "      <td>1</td>\n",
       "    </tr>\n",
       "    <tr>\n",
       "      <th>8</th>\n",
       "      <td>eu43</td>\n",
       "      <td>us9</td>\n",
       "      <td>1</td>\n",
       "    </tr>\n",
       "    <tr>\n",
       "      <th>10</th>\n",
       "      <td>eu8.5</td>\n",
       "      <td>us8.5</td>\n",
       "      <td>1</td>\n",
       "    </tr>\n",
       "    <tr>\n",
       "      <th>11</th>\n",
       "      <td>international10</td>\n",
       "      <td>uk10</td>\n",
       "      <td>1</td>\n",
       "    </tr>\n",
       "    <tr>\n",
       "      <th>12</th>\n",
       "      <td>international6</td>\n",
       "      <td>uk6</td>\n",
       "      <td>1</td>\n",
       "    </tr>\n",
       "    <tr>\n",
       "      <th>14</th>\n",
       "      <td>internationall/xl</td>\n",
       "      <td>uk20</td>\n",
       "      <td>1</td>\n",
       "    </tr>\n",
       "    <tr>\n",
       "      <th>15</th>\n",
       "      <td>internationalm</td>\n",
       "      <td>internationall</td>\n",
       "      <td>1</td>\n",
       "    </tr>\n",
       "    <tr>\n",
       "      <th>16</th>\n",
       "      <td>internationalm</td>\n",
       "      <td>uk12</td>\n",
       "      <td>1</td>\n",
       "    </tr>\n",
       "    <tr>\n",
       "      <th>17</th>\n",
       "      <td>internationalm</td>\n",
       "      <td>uk14</td>\n",
       "      <td>1</td>\n",
       "    </tr>\n",
       "    <tr>\n",
       "      <th>18</th>\n",
       "      <td>internationalm/l</td>\n",
       "      <td>uk16</td>\n",
       "      <td>1</td>\n",
       "    </tr>\n",
       "    <tr>\n",
       "      <th>19</th>\n",
       "      <td>internationals</td>\n",
       "      <td>internationall</td>\n",
       "      <td>1</td>\n",
       "    </tr>\n",
       "    <tr>\n",
       "      <th>21</th>\n",
       "      <td>internationalxl</td>\n",
       "      <td>italy46</td>\n",
       "      <td>1</td>\n",
       "    </tr>\n",
       "    <tr>\n",
       "      <th>23</th>\n",
       "      <td>internationalxs</td>\n",
       "      <td>uk8</td>\n",
       "      <td>1</td>\n",
       "    </tr>\n",
       "    <tr>\n",
       "      <th>24</th>\n",
       "      <td>internationalxxs</td>\n",
       "      <td>eu32</td>\n",
       "      <td>1</td>\n",
       "    </tr>\n",
       "    <tr>\n",
       "      <th>25</th>\n",
       "      <td>internationalxxs</td>\n",
       "      <td>uk6</td>\n",
       "      <td>1</td>\n",
       "    </tr>\n",
       "    <tr>\n",
       "      <th>26</th>\n",
       "      <td>uk12</td>\n",
       "      <td>eu38</td>\n",
       "      <td>1</td>\n",
       "    </tr>\n",
       "    <tr>\n",
       "      <th>28</th>\n",
       "      <td>uk16</td>\n",
       "      <td>internationalxl</td>\n",
       "      <td>1</td>\n",
       "    </tr>\n",
       "    <tr>\n",
       "      <th>29</th>\n",
       "      <td>uk20</td>\n",
       "      <td>internationalxxxl</td>\n",
       "      <td>1</td>\n",
       "    </tr>\n",
       "    <tr>\n",
       "      <th>30</th>\n",
       "      <td>uk5.5</td>\n",
       "      <td>eu39</td>\n",
       "      <td>1</td>\n",
       "    </tr>\n",
       "    <tr>\n",
       "      <th>31</th>\n",
       "      <td>us10</td>\n",
       "      <td>aus14</td>\n",
       "      <td>1</td>\n",
       "    </tr>\n",
       "    <tr>\n",
       "      <th>1</th>\n",
       "      <td>eu35/36</td>\n",
       "      <td>us5</td>\n",
       "      <td>1</td>\n",
       "    </tr>\n",
       "    <tr>\n",
       "      <th>64</th>\n",
       "      <td>waistxlengthw2532</td>\n",
       "      <td>uk25r</td>\n",
       "      <td>1</td>\n",
       "    </tr>\n",
       "  </tbody>\n",
       "</table>\n",
       "<p>65 rows × 3 columns</p>\n",
       "</div>"
      ],
      "text/plain": [
       "   size_from_conversions_data all_sizes_from_exchangereturn_data  count\n",
       "48                        us6                               eu36      5\n",
       "41                        us4                    internationalxs      5\n",
       "51                      us6.5                               eu37      3\n",
       "55                      us7.5                               eu38      3\n",
       "13             internationall                               uk18      3\n",
       "34                       us12                    internationalxl      2\n",
       "20             internationals                               uk10      2\n",
       "7                        eu42                               uk14      2\n",
       "58                        us8                     internationalm      2\n",
       "9                        eu44                    internationalxl      2\n",
       "22            internationalxs                     internationals      2\n",
       "27                       uk12                     internationall      2\n",
       "45                        us5                               eu35      1\n",
       "47                      us5.5                                us6      1\n",
       "46                        us5                               eu36      1\n",
       "0                        eu35                                us5      1\n",
       "44                       us40                     internationals      1\n",
       "42                        us4                      uk6__AND__uk8      1\n",
       "40                       us38                               eu38      1\n",
       "39                       us34                               eu34      1\n",
       "38                        us2                      uk6__AND__uk8      1\n",
       "43                        us4                                uk8      1\n",
       "50                        us6                     internationalm      1\n",
       "49                        us6                               eu38      1\n",
       "36                       us18                               uk22      1\n",
       "52                      us6.5                                uk6      1\n",
       "53                        us7                               eu38      1\n",
       "54                        us7                              uk6.5      1\n",
       "56                        us8                               eu39      1\n",
       "57                        us8                     internationall      1\n",
       "..                        ...                                ...    ...\n",
       "37                        us2                    internationalxs      1\n",
       "32                       us10                     internationall      1\n",
       "35                       us14                               uk18      1\n",
       "33                       us11                             uk10.5      1\n",
       "2                        eu37                               eu38      1\n",
       "3                        eu38                     internationalm      1\n",
       "4                        eu38                               uk10      1\n",
       "5                        eu39                              us8.5      1\n",
       "6                        eu40                               uk12      1\n",
       "8                        eu43                                us9      1\n",
       "10                      eu8.5                              us8.5      1\n",
       "11            international10                               uk10      1\n",
       "12             international6                                uk6      1\n",
       "14          internationall/xl                               uk20      1\n",
       "15             internationalm                     internationall      1\n",
       "16             internationalm                               uk12      1\n",
       "17             internationalm                               uk14      1\n",
       "18           internationalm/l                               uk16      1\n",
       "19             internationals                     internationall      1\n",
       "21            internationalxl                            italy46      1\n",
       "23            internationalxs                                uk8      1\n",
       "24           internationalxxs                               eu32      1\n",
       "25           internationalxxs                                uk6      1\n",
       "26                       uk12                               eu38      1\n",
       "28                       uk16                    internationalxl      1\n",
       "29                       uk20                  internationalxxxl      1\n",
       "30                      uk5.5                               eu39      1\n",
       "31                       us10                              aus14      1\n",
       "1                     eu35/36                                us5      1\n",
       "64          waistxlengthw2532                              uk25r      1\n",
       "\n",
       "[65 rows x 3 columns]"
      ]
     },
     "execution_count": 60,
     "metadata": {},
     "output_type": "execute_result"
    }
   ],
   "source": [
    "### Records with exchange/returns, but cannot match by size\n",
    "unmatched_purchased_sizenames = DATA_CONVERSIONS_EXCHANGE_RETURNS[\n",
    "    (DATA_CONVERSIONS_EXCHANGE_RETURNS.ind_exchangereturn==1) &\n",
    "    (DATA_CONVERSIONS_EXCHANGE_RETURNS['Reason Name']=='<No size match>')\n",
    "][['transaction','sku','size','size_name']]\n",
    "\n",
    "### Get all size records from DATA_EXCHANGE_RETURNS for these unmatched TransactionID-SKUID pairs\n",
    "unmatched_purchased_sizenames = unmatched_purchased_sizenames.merge(\n",
    "    ### Concatenate all orginal_sizes in DATA_EXCHANGE_RETURNS by transaction and sku\n",
    "    right = DATA_EXCHANGE_RETURNS \\\n",
    "        .groupby(['Order nr','SKU ID']) \\\n",
    "        .agg({'original_size': lambda x: '__AND__'.join(sorted(list(set(x))))}) \\\n",
    "        .reset_index(),\n",
    "    how = 'left',\n",
    "    left_on = ['transaction','sku'],\n",
    "    right_on = ['Order nr','SKU ID']\n",
    ")\n",
    "\n",
    "unmatched_purchased_sizenames = unmatched_purchased_sizenames.rename(columns={\n",
    "    'size_name':'size_from_conversions_data',\n",
    "    'original_size':'all_sizes_from_exchangereturn_data'\n",
    "})\n",
    "\n",
    "unmatched_purchased_sizenames \\\n",
    "    .groupby(['size_from_conversions_data','all_sizes_from_exchangereturn_data']) \\\n",
    "    .size() \\\n",
    "    .reset_index() \\\n",
    "    .rename(columns={0:'count'}) \\\n",
    "    .sort_values(by='count',ascending=False)"
   ]
  },
  {
   "cell_type": "markdown",
   "metadata": {},
   "source": [
    "3 types of mismatches :\n",
    "\n",
    "1) Both Size System and Size are different (eg: us10 and aus14). May be mitigated using size system mapping tables\n",
    "2) Same size, different system : international10 vs uk10\n",
    "3) Same system, different size : us34 vs eu34\n",
    "\n",
    "For 2) and 3), most likely due to entry errors (customer forgot purchase size?)."
   ]
  },
  {
   "cell_type": "markdown",
   "metadata": {},
   "source": [
    "# Obtain UID of transcations of interest"
   ]
  },
  {
   "cell_type": "markdown",
   "metadata": {},
   "source": [
    "This is to match with the events dataset, in order to determine whether a Pixibo size recommendation was associated with the purchase, and if so, what was the size recommedation (to compare with actual purchased size)"
   ]
  },
  {
   "cell_type": "code",
   "execution_count": 61,
   "metadata": {},
   "outputs": [
    {
     "data": {
      "text/plain": [
       "(4705, 2)"
      ]
     },
     "execution_count": 61,
     "metadata": {},
     "output_type": "execute_result"
    }
   ],
   "source": [
    "DATA_CONVERSIONS[['uid','transaction']].shape"
   ]
  },
  {
   "cell_type": "code",
   "execution_count": 62,
   "metadata": {},
   "outputs": [
    {
     "data": {
      "text/plain": [
       "4705"
      ]
     },
     "execution_count": 62,
     "metadata": {},
     "output_type": "execute_result"
    }
   ],
   "source": [
    "len(DATA_CONVERSIONS['transaction'].unique())"
   ]
  },
  {
   "cell_type": "markdown",
   "metadata": {},
   "source": [
    "Each transaction is associated with 1 unique UID and 1 unique client ID. We can just merge with DATA_CONVERSIONS_EXCHANGE_RETURNS"
   ]
  },
  {
   "cell_type": "code",
   "execution_count": 63,
   "metadata": {
    "scrolled": false
   },
   "outputs": [],
   "source": [
    "DATA_CONVERSIONS_EXCHANGE_RETURNS = DATA_CONVERSIONS_EXCHANGE_RETURNS.merge(\n",
    "    right = DATA_CONVERSIONS[['uid','transaction']],\n",
    "    left_on = 'transaction',\n",
    "    right_on = 'transaction'\n",
    ")"
   ]
  },
  {
   "cell_type": "code",
   "execution_count": 64,
   "metadata": {},
   "outputs": [
    {
     "data": {
      "text/plain": [
       "(8578, 10)"
      ]
     },
     "execution_count": 64,
     "metadata": {},
     "output_type": "execute_result"
    }
   ],
   "source": [
    "DATA_CONVERSIONS_EXCHANGE_RETURNS.shape"
   ]
  },
  {
   "cell_type": "code",
   "execution_count": 65,
   "metadata": {},
   "outputs": [
    {
     "data": {
      "text/html": [
       "<div>\n",
       "<style scoped>\n",
       "    .dataframe tbody tr th:only-of-type {\n",
       "        vertical-align: middle;\n",
       "    }\n",
       "\n",
       "    .dataframe tbody tr th {\n",
       "        vertical-align: top;\n",
       "    }\n",
       "\n",
       "    .dataframe thead th {\n",
       "        text-align: right;\n",
       "    }\n",
       "</style>\n",
       "<table border=\"1\" class=\"dataframe\">\n",
       "  <thead>\n",
       "    <tr style=\"text-align: right;\">\n",
       "      <th></th>\n",
       "      <th>price</th>\n",
       "      <th>quantity</th>\n",
       "      <th>size</th>\n",
       "      <th>sku</th>\n",
       "      <th>transaction</th>\n",
       "      <th>size_name</th>\n",
       "      <th>ind_exchangereturn</th>\n",
       "      <th>Reason Name</th>\n",
       "      <th>exchanged_size</th>\n",
       "      <th>uid</th>\n",
       "    </tr>\n",
       "  </thead>\n",
       "  <tbody>\n",
       "    <tr>\n",
       "      <th>4719</th>\n",
       "      <td>1042.53</td>\n",
       "      <td>1.0</td>\n",
       "      <td>International M</td>\n",
       "      <td>A818FAA6DEC855GS</td>\n",
       "      <td>251119762</td>\n",
       "      <td>internationalm</td>\n",
       "      <td>1</td>\n",
       "      <td>too_small</td>\n",
       "      <td>&lt;na&gt;&lt;na&gt;</td>\n",
       "      <td>7ffcd6f4-400d-4c91-a295-fd2e765f3672</td>\n",
       "    </tr>\n",
       "    <tr>\n",
       "      <th>8223</th>\n",
       "      <td>476</td>\n",
       "      <td>1.0</td>\n",
       "      <td>International XL</td>\n",
       "      <td>E6ABAAA9AA7A5AGS</td>\n",
       "      <td>244553862</td>\n",
       "      <td>internationalxl</td>\n",
       "      <td>1</td>\n",
       "      <td>too_small</td>\n",
       "      <td>&lt;na&gt;&lt;na&gt;</td>\n",
       "      <td>unknown</td>\n",
       "    </tr>\n",
       "    <tr>\n",
       "      <th>2580</th>\n",
       "      <td>0</td>\n",
       "      <td>1.0</td>\n",
       "      <td>International M</td>\n",
       "      <td>CECC0AA5189CFDGS</td>\n",
       "      <td>232182862</td>\n",
       "      <td>internationalm</td>\n",
       "      <td>1</td>\n",
       "      <td>too_small</td>\n",
       "      <td>&lt;na&gt;&lt;na&gt;</td>\n",
       "      <td>unknown</td>\n",
       "    </tr>\n",
       "    <tr>\n",
       "      <th>2579</th>\n",
       "      <td>0</td>\n",
       "      <td>1.0</td>\n",
       "      <td>International M</td>\n",
       "      <td>7B30FAA04AD0FFGS</td>\n",
       "      <td>232182862</td>\n",
       "      <td>internationalm</td>\n",
       "      <td>1</td>\n",
       "      <td>too_small</td>\n",
       "      <td>&lt;na&gt;&lt;na&gt;</td>\n",
       "      <td>unknown</td>\n",
       "    </tr>\n",
       "    <tr>\n",
       "      <th>2578</th>\n",
       "      <td>0</td>\n",
       "      <td>1.0</td>\n",
       "      <td>International M</td>\n",
       "      <td>609BCAA0ACA06CGS</td>\n",
       "      <td>232182862</td>\n",
       "      <td>internationalm</td>\n",
       "      <td>1</td>\n",
       "      <td>too_small</td>\n",
       "      <td>&lt;na&gt;&lt;na&gt;</td>\n",
       "      <td>unknown</td>\n",
       "    </tr>\n",
       "  </tbody>\n",
       "</table>\n",
       "</div>"
      ],
      "text/plain": [
       "        price  quantity              size               sku transaction  \\\n",
       "4719  1042.53       1.0   International M  A818FAA6DEC855GS   251119762   \n",
       "8223      476       1.0  International XL  E6ABAAA9AA7A5AGS   244553862   \n",
       "2580        0       1.0   International M  CECC0AA5189CFDGS   232182862   \n",
       "2579        0       1.0   International M  7B30FAA04AD0FFGS   232182862   \n",
       "2578        0       1.0   International M  609BCAA0ACA06CGS   232182862   \n",
       "\n",
       "            size_name  ind_exchangereturn Reason Name exchanged_size  \\\n",
       "4719   internationalm                   1   too_small       <na><na>   \n",
       "8223  internationalxl                   1   too_small       <na><na>   \n",
       "2580   internationalm                   1   too_small       <na><na>   \n",
       "2579   internationalm                   1   too_small       <na><na>   \n",
       "2578   internationalm                   1   too_small       <na><na>   \n",
       "\n",
       "                                       uid  \n",
       "4719  7ffcd6f4-400d-4c91-a295-fd2e765f3672  \n",
       "8223                               unknown  \n",
       "2580                               unknown  \n",
       "2579                               unknown  \n",
       "2578                               unknown  "
      ]
     },
     "execution_count": 65,
     "metadata": {},
     "output_type": "execute_result"
    }
   ],
   "source": [
    "DATA_CONVERSIONS_EXCHANGE_RETURNS.sort_values('Reason Name',ascending=False).head()"
   ]
  },
  {
   "cell_type": "code",
   "execution_count": 66,
   "metadata": {},
   "outputs": [
    {
     "data": {
      "text/plain": [
       "4128"
      ]
     },
     "execution_count": 66,
     "metadata": {},
     "output_type": "execute_result"
    }
   ],
   "source": [
    "sum(DATA_CONVERSIONS_EXCHANGE_RETURNS['uid'].fillna('unknown') != 'unknown')"
   ]
  },
  {
   "cell_type": "markdown",
   "metadata": {},
   "source": [
    "Only 4128 out of the 8578 records have known UIDs to merge to events dataset, to get information on whether there was a Pixibo size recommendation."
   ]
  },
  {
   "cell_type": "markdown",
   "metadata": {},
   "source": [
    "# Data from events"
   ]
  },
  {
   "cell_type": "markdown",
   "metadata": {},
   "source": [
    "We only focus on events whereby Event Type = \"size\", which is when a size recommendation was made by Pixibo"
   ]
  },
  {
   "cell_type": "code",
   "execution_count": 67,
   "metadata": {},
   "outputs": [],
   "source": [
    "EVENTS = []\n",
    "with open(FILEPATH_DATA_EVENTS,'r') as f:\n",
    "    for line in f:\n",
    "        if not line:\n",
    "            break\n",
    "        try:\n",
    "            line = line.strip()\n",
    "            obj = json.loads(line)\n",
    "            if obj['_source']['eventType'] == 'size':\n",
    "                EVENTS.append(obj)\n",
    "        except:\n",
    "            pass"
   ]
  },
  {
   "cell_type": "code",
   "execution_count": 68,
   "metadata": {},
   "outputs": [
    {
     "data": {
      "text/plain": [
       "321848"
      ]
     },
     "execution_count": 68,
     "metadata": {},
     "output_type": "execute_result"
    }
   ],
   "source": [
    "len(EVENTS)"
   ]
  },
  {
   "cell_type": "code",
   "execution_count": 69,
   "metadata": {},
   "outputs": [
    {
     "name": "stdout",
     "output_type": "stream",
     "text": [
      "First record timestamp:  2019-03-17T23:23:10.060Z\n",
      "Last record timestamp :  2019-04-17T06:18:14.895Z\n",
      "Earliest timestamp:  2018-10-31T01:19:47.318Z\n",
      "Latest timestamp:  2019-04-17T06:20:58.757Z\n"
     ]
    }
   ],
   "source": [
    "## Events are not arranged in order of timestamp in data file\n",
    "\n",
    "print('First record timestamp: ',EVENTS[0]['_source']['timestamp'])\n",
    "print('Last record timestamp : ',EVENTS[-1]['_source']['timestamp'])\n",
    "\n",
    "event_timestamps = [obj['_source']['timestamp'] for obj in EVENTS]\n",
    "print('Earliest timestamp: ',min(event_timestamps))\n",
    "print('Latest timestamp: ',max(event_timestamps))"
   ]
  },
  {
   "cell_type": "code",
   "execution_count": 70,
   "metadata": {},
   "outputs": [
    {
     "data": {
      "text/plain": [
       "{'_index': 'eventlogs_prod',\n",
       " '_type': 'log',\n",
       " '_id': '0779078b-ee55-418d-a13b-f7388850067c',\n",
       " '_score': 3.412435,\n",
       " '_source': {'uid': 'efb9cd27-28c9-46c8-bb23-174570004680',\n",
       "  'took': 13,\n",
       "  'clientId': 'ubu8zhxrh8hg',\n",
       "  'response': {'fys': [{'size': 'INT M',\n",
       "     'confidence': 3,\n",
       "     'bust': 0,\n",
       "     'waist': 2,\n",
       "     'hip8Bit': 2,\n",
       "     'hip': 2,\n",
       "     'bust8Bit': 0,\n",
       "     'waist8Bit': 2,\n",
       "     'recommended': False},\n",
       "    {'size': 'INT L',\n",
       "     'confidence': 5,\n",
       "     'bust': 0,\n",
       "     'waist': 3,\n",
       "     'hip8Bit': 5,\n",
       "     'hip': 3,\n",
       "     'bust8Bit': 0,\n",
       "     'waist8Bit': 4,\n",
       "     'recommended': True},\n",
       "    {'size': 'INT XL',\n",
       "     'confidence': 4,\n",
       "     'bust': 0,\n",
       "     'waist': 4,\n",
       "     'hip8Bit': 7,\n",
       "     'hip': 4,\n",
       "     'bust8Bit': 0,\n",
       "     'waist8Bit': 7,\n",
       "     'recommended': False}],\n",
       "   'gcount': 5,\n",
       "   'gender': 'female',\n",
       "   'type': 'Skirts',\n",
       "   'skuId': 'EC633AAA9A0CA3GS'},\n",
       "  'eventType': 'size',\n",
       "  'page': 'fyf',\n",
       "  'queryString': {'mode': 'showmore',\n",
       "   'bs': '34',\n",
       "   'uid': 'efb9cd27-28c9-46c8-bb23-174570004680',\n",
       "   'cu': 'c',\n",
       "   'ftp': '2',\n",
       "   'rg': 'us',\n",
       "   'ht': '165',\n",
       "   'wt': '65',\n",
       "   'age': '39',\n",
       "   'timestamp': '1552864985310'},\n",
       "  'skuId': 'ec633aaa9a0ca3gs',\n",
       "  'statusCode': 200,\n",
       "  'timestamp': '2019-03-17T23:23:10.060Z'}}"
      ]
     },
     "execution_count": 70,
     "metadata": {},
     "output_type": "execute_result"
    }
   ],
   "source": [
    "EVENTS[0]"
   ]
  },
  {
   "cell_type": "code",
   "execution_count": 71,
   "metadata": {},
   "outputs": [],
   "source": [
    "# only interested in payload in _source\n",
    "EVENTS = [obj['_source'] for obj in EVENTS]"
   ]
  },
  {
   "cell_type": "code",
   "execution_count": 72,
   "metadata": {},
   "outputs": [],
   "source": [
    "EVENTS_UIDs = [obj['uid'] for obj in EVENTS]"
   ]
  },
  {
   "cell_type": "markdown",
   "metadata": {},
   "source": [
    "## Obtain actual product recommendations by Pixibo"
   ]
  },
  {
   "cell_type": "code",
   "execution_count": 73,
   "metadata": {},
   "outputs": [],
   "source": [
    "RECOMMENDATIONS = []\n",
    "for obj in EVENTS:\n",
    "    tmpuid = obj['uid']\n",
    "    tmptimestamp = obj['timestamp']\n",
    "    tmpskuid = obj['skuId'].upper()\n",
    "    try:\n",
    "        if 'response' in obj.keys():\n",
    "            if 'fys' in obj['response'].keys():\n",
    "                for choice_obj in obj['response']['fys']:\n",
    "                    if str(choice_obj['recommended']) == 'True':\n",
    "                        recommendation_obj = choice_obj.copy()\n",
    "                        recommendation_obj['uid'] = tmpuid\n",
    "                        recommendation_obj['timestamp'] = tmptimestamp\n",
    "                        recommendation_obj['sku'] = tmpskuid\n",
    "                        RECOMMENDATIONS.append(recommendation_obj)\n",
    "    except:\n",
    "        pass"
   ]
  },
  {
   "cell_type": "code",
   "execution_count": 74,
   "metadata": {},
   "outputs": [],
   "source": [
    "DATA_RECOMMENDATIONS = pd.DataFrame.from_records(RECOMMENDATIONS)"
   ]
  },
  {
   "cell_type": "code",
   "execution_count": 75,
   "metadata": {},
   "outputs": [],
   "source": [
    "# Remove duplicates\n",
    "DATA_RECOMMENDATIONS = DATA_RECOMMENDATIONS.drop_duplicates(keep='first')"
   ]
  },
  {
   "cell_type": "code",
   "execution_count": 76,
   "metadata": {},
   "outputs": [
    {
     "data": {
      "text/plain": [
       "(178488, 12)"
      ]
     },
     "execution_count": 76,
     "metadata": {},
     "output_type": "execute_result"
    }
   ],
   "source": [
    "DATA_RECOMMENDATIONS.shape"
   ]
  },
  {
   "cell_type": "markdown",
   "metadata": {},
   "source": [
    "## Filter for Recommendations associated with transactions using UID"
   ]
  },
  {
   "cell_type": "code",
   "execution_count": 77,
   "metadata": {},
   "outputs": [],
   "source": [
    "UIDS_OF_INTEREST = set(DATA_RECOMMENDATIONS['uid']).intersection(set(DATA_CONVERSIONS_EXCHANGE_RETURNS['uid']))"
   ]
  },
  {
   "cell_type": "code",
   "execution_count": 78,
   "metadata": {},
   "outputs": [],
   "source": [
    "DATA_RECOMMENDATIONS = DATA_RECOMMENDATIONS[DATA_RECOMMENDATIONS['uid'].map(lambda x: x in UIDS_OF_INTEREST)]"
   ]
  },
  {
   "cell_type": "code",
   "execution_count": 79,
   "metadata": {},
   "outputs": [
    {
     "data": {
      "text/plain": [
       "(16317, 12)"
      ]
     },
     "execution_count": 79,
     "metadata": {},
     "output_type": "execute_result"
    }
   ],
   "source": [
    "DATA_RECOMMENDATIONS.shape"
   ]
  },
  {
   "cell_type": "code",
   "execution_count": 80,
   "metadata": {},
   "outputs": [
    {
     "data": {
      "text/html": [
       "<div>\n",
       "<style scoped>\n",
       "    .dataframe tbody tr th:only-of-type {\n",
       "        vertical-align: middle;\n",
       "    }\n",
       "\n",
       "    .dataframe tbody tr th {\n",
       "        vertical-align: top;\n",
       "    }\n",
       "\n",
       "    .dataframe thead th {\n",
       "        text-align: right;\n",
       "    }\n",
       "</style>\n",
       "<table border=\"1\" class=\"dataframe\">\n",
       "  <thead>\n",
       "    <tr style=\"text-align: right;\">\n",
       "      <th></th>\n",
       "      <th>bust</th>\n",
       "      <th>bust8Bit</th>\n",
       "      <th>confidence</th>\n",
       "      <th>hip</th>\n",
       "      <th>hip8Bit</th>\n",
       "      <th>recommended</th>\n",
       "      <th>size</th>\n",
       "      <th>sku</th>\n",
       "      <th>timestamp</th>\n",
       "      <th>uid</th>\n",
       "      <th>waist</th>\n",
       "      <th>waist8Bit</th>\n",
       "    </tr>\n",
       "  </thead>\n",
       "  <tbody>\n",
       "    <tr>\n",
       "      <th>6</th>\n",
       "      <td>3</td>\n",
       "      <td>4.0</td>\n",
       "      <td>5.0</td>\n",
       "      <td>0</td>\n",
       "      <td>0.0</td>\n",
       "      <td>True</td>\n",
       "      <td>INT M</td>\n",
       "      <td>A5A16AAA726439GS</td>\n",
       "      <td>2019-03-18T01:18:46.250Z</td>\n",
       "      <td>2b24e92b-1bb0-4930-b0e2-f12ee1dd6d57</td>\n",
       "      <td>3</td>\n",
       "      <td>4.0</td>\n",
       "    </tr>\n",
       "    <tr>\n",
       "      <th>19</th>\n",
       "      <td>3</td>\n",
       "      <td>4.0</td>\n",
       "      <td>5.0</td>\n",
       "      <td>0</td>\n",
       "      <td>0.0</td>\n",
       "      <td>True</td>\n",
       "      <td>EU 38</td>\n",
       "      <td>43EBFAACF616F2GS</td>\n",
       "      <td>2019-03-18T02:07:09.361Z</td>\n",
       "      <td>0470b342-d648-4c4a-b948-cfc6a02f31cb</td>\n",
       "      <td>3</td>\n",
       "      <td>4.0</td>\n",
       "    </tr>\n",
       "    <tr>\n",
       "      <th>30</th>\n",
       "      <td>0</td>\n",
       "      <td>0.0</td>\n",
       "      <td>5.0</td>\n",
       "      <td>3</td>\n",
       "      <td>5.0</td>\n",
       "      <td>True</td>\n",
       "      <td>INT L</td>\n",
       "      <td>6448EAA7FC013DGS</td>\n",
       "      <td>2019-03-18T02:18:52.463Z</td>\n",
       "      <td>31fcec31-b9d5-4b84-ba8a-53625d799a2d</td>\n",
       "      <td>3</td>\n",
       "      <td>5.0</td>\n",
       "    </tr>\n",
       "    <tr>\n",
       "      <th>45</th>\n",
       "      <td>3</td>\n",
       "      <td>4.0</td>\n",
       "      <td>5.0</td>\n",
       "      <td>0</td>\n",
       "      <td>0.0</td>\n",
       "      <td>True</td>\n",
       "      <td>INT M</td>\n",
       "      <td>EDC4EAA78E3CFDGS</td>\n",
       "      <td>2019-03-18T01:41:17.999Z</td>\n",
       "      <td>2b24e92b-1bb0-4930-b0e2-f12ee1dd6d57</td>\n",
       "      <td>3</td>\n",
       "      <td>4.0</td>\n",
       "    </tr>\n",
       "    <tr>\n",
       "      <th>46</th>\n",
       "      <td>3</td>\n",
       "      <td>5.0</td>\n",
       "      <td>5.0</td>\n",
       "      <td>0</td>\n",
       "      <td>0.0</td>\n",
       "      <td>True</td>\n",
       "      <td>INT M</td>\n",
       "      <td>14341AA8254DCDGS</td>\n",
       "      <td>2019-03-18T01:44:01.180Z</td>\n",
       "      <td>0470b342-d648-4c4a-b948-cfc6a02f31cb</td>\n",
       "      <td>3</td>\n",
       "      <td>4.0</td>\n",
       "    </tr>\n",
       "  </tbody>\n",
       "</table>\n",
       "</div>"
      ],
      "text/plain": [
       "    bust  bust8Bit  confidence  hip  hip8Bit  recommended   size  \\\n",
       "6      3       4.0         5.0    0      0.0         True  INT M   \n",
       "19     3       4.0         5.0    0      0.0         True  EU 38   \n",
       "30     0       0.0         5.0    3      5.0         True  INT L   \n",
       "45     3       4.0         5.0    0      0.0         True  INT M   \n",
       "46     3       5.0         5.0    0      0.0         True  INT M   \n",
       "\n",
       "                 sku                 timestamp  \\\n",
       "6   A5A16AAA726439GS  2019-03-18T01:18:46.250Z   \n",
       "19  43EBFAACF616F2GS  2019-03-18T02:07:09.361Z   \n",
       "30  6448EAA7FC013DGS  2019-03-18T02:18:52.463Z   \n",
       "45  EDC4EAA78E3CFDGS  2019-03-18T01:41:17.999Z   \n",
       "46  14341AA8254DCDGS  2019-03-18T01:44:01.180Z   \n",
       "\n",
       "                                     uid  waist  waist8Bit  \n",
       "6   2b24e92b-1bb0-4930-b0e2-f12ee1dd6d57      3        4.0  \n",
       "19  0470b342-d648-4c4a-b948-cfc6a02f31cb      3        4.0  \n",
       "30  31fcec31-b9d5-4b84-ba8a-53625d799a2d      3        5.0  \n",
       "45  2b24e92b-1bb0-4930-b0e2-f12ee1dd6d57      3        4.0  \n",
       "46  0470b342-d648-4c4a-b948-cfc6a02f31cb      3        4.0  "
      ]
     },
     "execution_count": 80,
     "metadata": {},
     "output_type": "execute_result"
    }
   ],
   "source": [
    "DATA_RECOMMENDATIONS.head()"
   ]
  },
  {
   "cell_type": "code",
   "execution_count": 81,
   "metadata": {},
   "outputs": [],
   "source": [
    "# Select fields of interest\n",
    "DATA_RECOMMENDATIONS = DATA_RECOMMENDATIONS[[\n",
    "    'uid',\n",
    "    'sku',\n",
    "    'size'\n",
    "]]"
   ]
  },
  {
   "cell_type": "code",
   "execution_count": 82,
   "metadata": {},
   "outputs": [],
   "source": [
    "DATA_RECOMMENDATIONS.rename(columns={'size':'recommended_size'},inplace=True)"
   ]
  },
  {
   "cell_type": "code",
   "execution_count": 83,
   "metadata": {},
   "outputs": [
    {
     "data": {
      "text/plain": [
       "(16317, 3)"
      ]
     },
     "execution_count": 83,
     "metadata": {},
     "output_type": "execute_result"
    }
   ],
   "source": [
    "DATA_RECOMMENDATIONS.shape"
   ]
  },
  {
   "cell_type": "markdown",
   "metadata": {},
   "source": [
    "# Merging Pixibo Recommendation Info to main dataset"
   ]
  },
  {
   "cell_type": "code",
   "execution_count": 84,
   "metadata": {},
   "outputs": [],
   "source": [
    "# create tmp index before joining\n",
    "DATA_CONVERSIONS_EXCHANGE_RETURNS['tmpindex'] = [i for i in range(DATA_CONVERSIONS_EXCHANGE_RETURNS.shape[0])]"
   ]
  },
  {
   "cell_type": "code",
   "execution_count": 85,
   "metadata": {},
   "outputs": [],
   "source": [
    "# ensure all SKUs are uppercase\n",
    "DATA_CONVERSIONS_EXCHANGE_RETURNS['sku'] = DATA_CONVERSIONS_EXCHANGE_RETURNS['sku'].apply(str.upper)\n",
    "DATA_RECOMMENDATIONS['sku'] = DATA_RECOMMENDATIONS['sku'].apply(str.upper)\n",
    "\n",
    "# ensure all SKUs have no spaces\n",
    "DATA_CONVERSIONS_EXCHANGE_RETURNS['sku'] = DATA_CONVERSIONS_EXCHANGE_RETURNS['sku'].apply(str.strip)\n",
    "DATA_RECOMMENDATIONS['sku'] = DATA_RECOMMENDATIONS['sku'].apply(str.strip)"
   ]
  },
  {
   "cell_type": "code",
   "execution_count": 86,
   "metadata": {},
   "outputs": [
    {
     "data": {
      "text/plain": [
       "663"
      ]
     },
     "execution_count": 86,
     "metadata": {},
     "output_type": "execute_result"
    }
   ],
   "source": [
    "# No. of rows in DATA_CONVERSIONS_EXCHANGE_RETURNS that have matching UID\n",
    "sum(DATA_CONVERSIONS_EXCHANGE_RETURNS['uid'].map(lambda x: x in UIDS_OF_INTEREST))"
   ]
  },
  {
   "cell_type": "code",
   "execution_count": 87,
   "metadata": {},
   "outputs": [
    {
     "data": {
      "text/plain": [
       "993"
      ]
     },
     "execution_count": 87,
     "metadata": {},
     "output_type": "execute_result"
    }
   ],
   "source": [
    "# No. of rows in DATA_CONVERSIONS_EXCHANGE_RETURNS that have matching SKU\n",
    "sum(DATA_CONVERSIONS_EXCHANGE_RETURNS['sku'].map(lambda x: x in DATA_RECOMMENDATIONS['sku'].tolist()))"
   ]
  },
  {
   "cell_type": "code",
   "execution_count": 88,
   "metadata": {
    "scrolled": false
   },
   "outputs": [],
   "source": [
    "DATA_CONVERSIONS_EXCHANGE_RETURNS = DATA_CONVERSIONS_EXCHANGE_RETURNS.merge(\n",
    "    right = DATA_RECOMMENDATIONS,\n",
    "    how = 'left',\n",
    "    left_on = ['uid','sku'],\n",
    "    right_on = ['uid','sku'],\n",
    "    indicator = True\n",
    ")"
   ]
  },
  {
   "cell_type": "code",
   "execution_count": 89,
   "metadata": {},
   "outputs": [],
   "source": [
    "DATA_CONVERSIONS_EXCHANGE_RETURNS.rename(columns={'_merge':'ind_pixibo_recommendation'},inplace=True)\n",
    "DATA_CONVERSIONS_EXCHANGE_RETURNS['ind_pixibo_recommendation'] = \\\n",
    "    DATA_CONVERSIONS_EXCHANGE_RETURNS['ind_pixibo_recommendation'].map({\n",
    "        'both':1,\n",
    "        'left_only':0\n",
    "    })"
   ]
  },
  {
   "cell_type": "code",
   "execution_count": 90,
   "metadata": {},
   "outputs": [],
   "source": [
    "DATA_CONVERSIONS_EXCHANGE_RETURNS['recommended_size'].fillna('<No Recommendation>',inplace=True)"
   ]
  },
  {
   "cell_type": "code",
   "execution_count": 91,
   "metadata": {},
   "outputs": [
    {
     "data": {
      "text/plain": [
       "352"
      ]
     },
     "execution_count": 91,
     "metadata": {},
     "output_type": "execute_result"
    }
   ],
   "source": [
    "## No. of rows in DATA_CONVERSIONS_EXCHANGE_RETURNS that have both matching UID and SKU\n",
    "sum(DATA_CONVERSIONS_EXCHANGE_RETURNS['ind_pixibo_recommendation'])"
   ]
  },
  {
   "cell_type": "markdown",
   "metadata": {},
   "source": [
    "# Main Analysis of purchased products influenced by Pixibo recommendations"
   ]
  },
  {
   "cell_type": "code",
   "execution_count": 92,
   "metadata": {},
   "outputs": [],
   "source": [
    "DATA_CONVERSIONS_EXCHANGE_RETURNS = DATA_CONVERSIONS_EXCHANGE_RETURNS[\n",
    "    DATA_CONVERSIONS_EXCHANGE_RETURNS['ind_pixibo_recommendation'] == 1\n",
    "]"
   ]
  },
  {
   "cell_type": "code",
   "execution_count": 93,
   "metadata": {},
   "outputs": [
    {
     "data": {
      "text/plain": [
       "(352, 13)"
      ]
     },
     "execution_count": 93,
     "metadata": {},
     "output_type": "execute_result"
    }
   ],
   "source": [
    "DATA_CONVERSIONS_EXCHANGE_RETURNS.shape # number of records involving pixibo recommendations"
   ]
  },
  {
   "cell_type": "markdown",
   "metadata": {},
   "source": [
    "## Normalizing size strings"
   ]
  },
  {
   "cell_type": "code",
   "execution_count": 94,
   "metadata": {},
   "outputs": [
    {
     "data": {
      "text/plain": [
       "{'29',\n",
       " 'AU 8',\n",
       " 'EU 34',\n",
       " 'EU 36',\n",
       " 'EU 38',\n",
       " 'INT L',\n",
       " 'INT M',\n",
       " 'INT S',\n",
       " 'INT XL',\n",
       " 'INT XS',\n",
       " 'UK 10',\n",
       " 'UK 12',\n",
       " 'UK 14',\n",
       " 'UK 8'}"
      ]
     },
     "execution_count": 94,
     "metadata": {},
     "output_type": "execute_result"
    }
   ],
   "source": [
    "set(DATA_CONVERSIONS_EXCHANGE_RETURNS['recommended_size'])"
   ]
  },
  {
   "cell_type": "code",
   "execution_count": 95,
   "metadata": {},
   "outputs": [
    {
     "data": {
      "text/plain": [
       "{'aus8',\n",
       " 'eu34',\n",
       " 'eu36',\n",
       " 'eu38',\n",
       " 'internationall',\n",
       " 'internationalm',\n",
       " 'internationals',\n",
       " 'internationalxl',\n",
       " 'internationalxs',\n",
       " 'internationalxs/s',\n",
       " 'internationalxxs',\n",
       " 'uk10',\n",
       " 'uk12',\n",
       " 'uk14',\n",
       " 'uk8',\n",
       " 'us4',\n",
       " 'waistxlengthw2926'}"
      ]
     },
     "execution_count": 95,
     "metadata": {},
     "output_type": "execute_result"
    }
   ],
   "source": [
    "set(DATA_CONVERSIONS_EXCHANGE_RETURNS['size_name'])"
   ]
  },
  {
   "cell_type": "markdown",
   "metadata": {},
   "source": [
    "### Standardizing system names"
   ]
  },
  {
   "cell_type": "code",
   "execution_count": 96,
   "metadata": {},
   "outputs": [],
   "source": [
    "DATA_CONVERSIONS_EXCHANGE_RETURNS['recommended_size'] = \\\n",
    "DATA_CONVERSIONS_EXCHANGE_RETURNS['recommended_size'].apply(normalize_string)"
   ]
  },
  {
   "cell_type": "code",
   "execution_count": 97,
   "metadata": {},
   "outputs": [],
   "source": [
    "## (Very) rudimentary string substitution to standardize system names\n",
    "DATA_CONVERSIONS_EXCHANGE_RETURNS['recommended_size'] = DATA_CONVERSIONS_EXCHANGE_RETURNS['recommended_size'].map(\n",
    "    lambda x: re.sub(string=x,pattern='^int',repl='international')\n",
    ")\n",
    "DATA_CONVERSIONS_EXCHANGE_RETURNS['recommended_size'] = DATA_CONVERSIONS_EXCHANGE_RETURNS['recommended_size'].map(\n",
    "    lambda x: re.sub(string=x,pattern='^au',repl='aus')\n",
    ")"
   ]
  },
  {
   "cell_type": "markdown",
   "metadata": {},
   "source": [
    "## Check whether recommendation size matches purchase size"
   ]
  },
  {
   "cell_type": "code",
   "execution_count": 98,
   "metadata": {},
   "outputs": [],
   "source": [
    "DATA_CONVERSIONS_EXCHANGE_RETURNS['ind_recommendation_matches_purchase_size'] = [\n",
    "    int(r['size_name'] == r['recommended_size']) for r in DATA_CONVERSIONS_EXCHANGE_RETURNS.to_records()\n",
    "]"
   ]
  },
  {
   "cell_type": "code",
   "execution_count": 99,
   "metadata": {},
   "outputs": [
    {
     "data": {
      "text/html": [
       "<div>\n",
       "<style scoped>\n",
       "    .dataframe tbody tr th:only-of-type {\n",
       "        vertical-align: middle;\n",
       "    }\n",
       "\n",
       "    .dataframe tbody tr th {\n",
       "        vertical-align: top;\n",
       "    }\n",
       "\n",
       "    .dataframe thead th {\n",
       "        text-align: right;\n",
       "    }\n",
       "</style>\n",
       "<table border=\"1\" class=\"dataframe\">\n",
       "  <thead>\n",
       "    <tr style=\"text-align: right;\">\n",
       "      <th></th>\n",
       "      <th>size_name</th>\n",
       "      <th>recommended_size</th>\n",
       "      <th>ind_recommendation_matches_purchase_size</th>\n",
       "    </tr>\n",
       "  </thead>\n",
       "  <tbody>\n",
       "    <tr>\n",
       "      <th>8645</th>\n",
       "      <td>waistxlengthw2926</td>\n",
       "      <td>29</td>\n",
       "      <td>0</td>\n",
       "    </tr>\n",
       "    <tr>\n",
       "      <th>3675</th>\n",
       "      <td>internationalxs</td>\n",
       "      <td>internationals</td>\n",
       "      <td>0</td>\n",
       "    </tr>\n",
       "    <tr>\n",
       "      <th>2982</th>\n",
       "      <td>internationalm</td>\n",
       "      <td>internationals</td>\n",
       "      <td>0</td>\n",
       "    </tr>\n",
       "    <tr>\n",
       "      <th>6502</th>\n",
       "      <td>internationalxxs</td>\n",
       "      <td>internationalxs</td>\n",
       "      <td>0</td>\n",
       "    </tr>\n",
       "    <tr>\n",
       "      <th>2905</th>\n",
       "      <td>internationals</td>\n",
       "      <td>internationalxs</td>\n",
       "      <td>0</td>\n",
       "    </tr>\n",
       "    <tr>\n",
       "      <th>2666</th>\n",
       "      <td>internationall</td>\n",
       "      <td>internationalm</td>\n",
       "      <td>0</td>\n",
       "    </tr>\n",
       "    <tr>\n",
       "      <th>2621</th>\n",
       "      <td>internationals</td>\n",
       "      <td>internationalm</td>\n",
       "      <td>0</td>\n",
       "    </tr>\n",
       "    <tr>\n",
       "      <th>2494</th>\n",
       "      <td>internationals</td>\n",
       "      <td>internationall</td>\n",
       "      <td>0</td>\n",
       "    </tr>\n",
       "    <tr>\n",
       "      <th>4929</th>\n",
       "      <td>internationalxs/s</td>\n",
       "      <td>uk12</td>\n",
       "      <td>0</td>\n",
       "    </tr>\n",
       "    <tr>\n",
       "      <th>6550</th>\n",
       "      <td>internationalm</td>\n",
       "      <td>internationalxs</td>\n",
       "      <td>0</td>\n",
       "    </tr>\n",
       "    <tr>\n",
       "      <th>7617</th>\n",
       "      <td>internationalxl</td>\n",
       "      <td>internationall</td>\n",
       "      <td>0</td>\n",
       "    </tr>\n",
       "    <tr>\n",
       "      <th>1289</th>\n",
       "      <td>internationalm</td>\n",
       "      <td>internationall</td>\n",
       "      <td>0</td>\n",
       "    </tr>\n",
       "    <tr>\n",
       "      <th>778</th>\n",
       "      <td>us4</td>\n",
       "      <td>uk12</td>\n",
       "      <td>0</td>\n",
       "    </tr>\n",
       "    <tr>\n",
       "      <th>732</th>\n",
       "      <td>us4</td>\n",
       "      <td>internationalxs</td>\n",
       "      <td>0</td>\n",
       "    </tr>\n",
       "    <tr>\n",
       "      <th>8076</th>\n",
       "      <td>uk8</td>\n",
       "      <td>uk12</td>\n",
       "      <td>0</td>\n",
       "    </tr>\n",
       "    <tr>\n",
       "      <th>399</th>\n",
       "      <td>internationall</td>\n",
       "      <td>internationalxl</td>\n",
       "      <td>0</td>\n",
       "    </tr>\n",
       "    <tr>\n",
       "      <th>2339</th>\n",
       "      <td>eu34</td>\n",
       "      <td>eu38</td>\n",
       "      <td>0</td>\n",
       "    </tr>\n",
       "    <tr>\n",
       "      <th>5155</th>\n",
       "      <td>uk8</td>\n",
       "      <td>uk10</td>\n",
       "      <td>0</td>\n",
       "    </tr>\n",
       "    <tr>\n",
       "      <th>7549</th>\n",
       "      <td>eu38</td>\n",
       "      <td>eu38</td>\n",
       "      <td>1</td>\n",
       "    </tr>\n",
       "    <tr>\n",
       "      <th>8000</th>\n",
       "      <td>uk12</td>\n",
       "      <td>uk12</td>\n",
       "      <td>1</td>\n",
       "    </tr>\n",
       "    <tr>\n",
       "      <th>6506</th>\n",
       "      <td>aus8</td>\n",
       "      <td>aus8</td>\n",
       "      <td>1</td>\n",
       "    </tr>\n",
       "    <tr>\n",
       "      <th>228</th>\n",
       "      <td>internationalm</td>\n",
       "      <td>internationalm</td>\n",
       "      <td>1</td>\n",
       "    </tr>\n",
       "    <tr>\n",
       "      <th>2940</th>\n",
       "      <td>internationalxs</td>\n",
       "      <td>internationalxs</td>\n",
       "      <td>1</td>\n",
       "    </tr>\n",
       "    <tr>\n",
       "      <th>8615</th>\n",
       "      <td>uk14</td>\n",
       "      <td>uk14</td>\n",
       "      <td>1</td>\n",
       "    </tr>\n",
       "    <tr>\n",
       "      <th>2340</th>\n",
       "      <td>eu34</td>\n",
       "      <td>eu34</td>\n",
       "      <td>1</td>\n",
       "    </tr>\n",
       "    <tr>\n",
       "      <th>1687</th>\n",
       "      <td>uk8</td>\n",
       "      <td>uk8</td>\n",
       "      <td>1</td>\n",
       "    </tr>\n",
       "    <tr>\n",
       "      <th>1339</th>\n",
       "      <td>internationals</td>\n",
       "      <td>internationals</td>\n",
       "      <td>1</td>\n",
       "    </tr>\n",
       "    <tr>\n",
       "      <th>1241</th>\n",
       "      <td>internationalxl</td>\n",
       "      <td>internationalxl</td>\n",
       "      <td>1</td>\n",
       "    </tr>\n",
       "    <tr>\n",
       "      <th>686</th>\n",
       "      <td>internationall</td>\n",
       "      <td>internationall</td>\n",
       "      <td>1</td>\n",
       "    </tr>\n",
       "    <tr>\n",
       "      <th>6378</th>\n",
       "      <td>uk10</td>\n",
       "      <td>uk10</td>\n",
       "      <td>1</td>\n",
       "    </tr>\n",
       "    <tr>\n",
       "      <th>2909</th>\n",
       "      <td>eu36</td>\n",
       "      <td>eu36</td>\n",
       "      <td>1</td>\n",
       "    </tr>\n",
       "  </tbody>\n",
       "</table>\n",
       "</div>"
      ],
      "text/plain": [
       "              size_name recommended_size  \\\n",
       "8645  waistxlengthw2926               29   \n",
       "3675    internationalxs   internationals   \n",
       "2982     internationalm   internationals   \n",
       "6502   internationalxxs  internationalxs   \n",
       "2905     internationals  internationalxs   \n",
       "2666     internationall   internationalm   \n",
       "2621     internationals   internationalm   \n",
       "2494     internationals   internationall   \n",
       "4929  internationalxs/s             uk12   \n",
       "6550     internationalm  internationalxs   \n",
       "7617    internationalxl   internationall   \n",
       "1289     internationalm   internationall   \n",
       "778                 us4             uk12   \n",
       "732                 us4  internationalxs   \n",
       "8076                uk8             uk12   \n",
       "399      internationall  internationalxl   \n",
       "2339               eu34             eu38   \n",
       "5155                uk8             uk10   \n",
       "7549               eu38             eu38   \n",
       "8000               uk12             uk12   \n",
       "6506               aus8             aus8   \n",
       "228      internationalm   internationalm   \n",
       "2940    internationalxs  internationalxs   \n",
       "8615               uk14             uk14   \n",
       "2340               eu34             eu34   \n",
       "1687                uk8              uk8   \n",
       "1339     internationals   internationals   \n",
       "1241    internationalxl  internationalxl   \n",
       "686      internationall   internationall   \n",
       "6378               uk10             uk10   \n",
       "2909               eu36             eu36   \n",
       "\n",
       "      ind_recommendation_matches_purchase_size  \n",
       "8645                                         0  \n",
       "3675                                         0  \n",
       "2982                                         0  \n",
       "6502                                         0  \n",
       "2905                                         0  \n",
       "2666                                         0  \n",
       "2621                                         0  \n",
       "2494                                         0  \n",
       "4929                                         0  \n",
       "6550                                         0  \n",
       "7617                                         0  \n",
       "1289                                         0  \n",
       "778                                          0  \n",
       "732                                          0  \n",
       "8076                                         0  \n",
       "399                                          0  \n",
       "2339                                         0  \n",
       "5155                                         0  \n",
       "7549                                         1  \n",
       "8000                                         1  \n",
       "6506                                         1  \n",
       "228                                          1  \n",
       "2940                                         1  \n",
       "8615                                         1  \n",
       "2340                                         1  \n",
       "1687                                         1  \n",
       "1339                                         1  \n",
       "1241                                         1  \n",
       "686                                          1  \n",
       "6378                                         1  \n",
       "2909                                         1  "
      ]
     },
     "execution_count": 99,
     "metadata": {},
     "output_type": "execute_result"
    }
   ],
   "source": [
    "# sanity check\n",
    "DATA_CONVERSIONS_EXCHANGE_RETURNS[[\n",
    "    'size_name',\n",
    "    'recommended_size',\n",
    "    'ind_recommendation_matches_purchase_size'\n",
    "]].drop_duplicates(keep='first').sort_values('ind_recommendation_matches_purchase_size')"
   ]
  },
  {
   "cell_type": "markdown",
   "metadata": {},
   "source": [
    "## Save merged dataset on Pixibo influenced purchases to csv "
   ]
  },
  {
   "cell_type": "code",
   "execution_count": 100,
   "metadata": {
    "scrolled": false
   },
   "outputs": [],
   "source": [
    "## save to csv file\n",
    "DATA_CONVERSIONS_EXCHANGE_RETURNS.to_csv('../data/merged_data.csv')"
   ]
  },
  {
   "cell_type": "markdown",
   "metadata": {},
   "source": [
    "## Statistics to compute"
   ]
  },
  {
   "cell_type": "markdown",
   "metadata": {},
   "source": [
    "\n",
    "We want to find out, for Pixbo influenced purchases *(ie. transaction-SKU pairs that are associated with size recommendations)*, \n",
    "\n",
    "1. Total products sold\n",
    "2. Total products returned\n",
    "3. Total prodicts returns / Total products sold\n",
    "\n",
    "For each of the 3 statistics, we want to compute for 3 differnt subsets:\n",
    "\n",
    "a. All Pixibo influenced product purchases\n",
    "\n",
    "b. All Pixibo influenced product purchases whereby purchase size = recommended size\n",
    "\n",
    "c. All Pixibo influenced product purchases whereby purchase size =/= recommended size\n"
   ]
  },
  {
   "cell_type": "markdown",
   "metadata": {},
   "source": [
    "For each of the 3 count metrics, we can choose to count in 2 different ways:\n",
    "    \n",
    "1. Count Number of unique SKUs (regardless of transaction ID) **with at least 1 exchange/return record**\n",
    "2. Count Number of unique Transaction-SKU pairs (in layman terms : *product purchases*) **with at least 1 exchange/return record**\n",
    "\n",
    "\n",
    "\n",
    "\n",
    "The first metric would make sense if we are more focused on the performance over different unique products regardless of who purchases it, but the second metric would make more sense if we also want to take into account real-world business costs due to transaction volumes (eg. more transactions ==> more different customers to attend to for exchanging/returning ==> more transporation / inventory costs) "
   ]
  },
  {
   "cell_type": "code",
   "execution_count": 101,
   "metadata": {},
   "outputs": [
    {
     "name": "stderr",
     "output_type": "stream",
     "text": [
      "/home/winston/anaconda3/lib/python3.6/site-packages/ipykernel_launcher.py:10: SettingWithCopyWarning: \n",
      "A value is trying to be set on a copy of a slice from a DataFrame.\n",
      "Try using .loc[row_indexer,col_indexer] = value instead\n",
      "\n",
      "See the caveats in the documentation: http://pandas.pydata.org/pandas-docs/stable/indexing.html#indexing-view-versus-copy\n",
      "  # Remove the CWD from sys.path while we load stuff.\n"
     ]
    },
    {
     "data": {
      "text/html": [
       "<div>\n",
       "<style scoped>\n",
       "    .dataframe tbody tr th:only-of-type {\n",
       "        vertical-align: middle;\n",
       "    }\n",
       "\n",
       "    .dataframe tbody tr th {\n",
       "        vertical-align: top;\n",
       "    }\n",
       "\n",
       "    .dataframe thead th {\n",
       "        text-align: right;\n",
       "    }\n",
       "</style>\n",
       "<table border=\"1\" class=\"dataframe\">\n",
       "  <thead>\n",
       "    <tr style=\"text-align: right;\">\n",
       "      <th></th>\n",
       "      <th>transaction</th>\n",
       "      <th>sku</th>\n",
       "      <th>ind_pixibo_recommendation</th>\n",
       "      <th>ind_recommendation_matches_purchase_size</th>\n",
       "      <th>ind_exchangereturn</th>\n",
       "      <th>transaction_sku</th>\n",
       "    </tr>\n",
       "  </thead>\n",
       "  <tbody>\n",
       "    <tr>\n",
       "      <th>228</th>\n",
       "      <td>236742962</td>\n",
       "      <td>A00F7AA5E23E13GS</td>\n",
       "      <td>1</td>\n",
       "      <td>1</td>\n",
       "      <td>0</td>\n",
       "      <td>236742962__A00F7AA5E23E13GS</td>\n",
       "    </tr>\n",
       "    <tr>\n",
       "      <th>399</th>\n",
       "      <td>273448962</td>\n",
       "      <td>625B4AA0F3327BGS</td>\n",
       "      <td>1</td>\n",
       "      <td>0</td>\n",
       "      <td>0</td>\n",
       "      <td>273448962__625B4AA0F3327BGS</td>\n",
       "    </tr>\n",
       "    <tr>\n",
       "      <th>400</th>\n",
       "      <td>273448962</td>\n",
       "      <td>625B4AA0F3327BGS</td>\n",
       "      <td>1</td>\n",
       "      <td>0</td>\n",
       "      <td>0</td>\n",
       "      <td>273448962__625B4AA0F3327BGS</td>\n",
       "    </tr>\n",
       "    <tr>\n",
       "      <th>686</th>\n",
       "      <td>291477962</td>\n",
       "      <td>B0420AA4264AEBGS</td>\n",
       "      <td>1</td>\n",
       "      <td>1</td>\n",
       "      <td>0</td>\n",
       "      <td>291477962__B0420AA4264AEBGS</td>\n",
       "    </tr>\n",
       "    <tr>\n",
       "      <th>687</th>\n",
       "      <td>291477962</td>\n",
       "      <td>B0420AA4264AEBGS</td>\n",
       "      <td>1</td>\n",
       "      <td>1</td>\n",
       "      <td>0</td>\n",
       "      <td>291477962__B0420AA4264AEBGS</td>\n",
       "    </tr>\n",
       "  </tbody>\n",
       "</table>\n",
       "</div>"
      ],
      "text/plain": [
       "    transaction               sku  ind_pixibo_recommendation  \\\n",
       "228   236742962  A00F7AA5E23E13GS                          1   \n",
       "399   273448962  625B4AA0F3327BGS                          1   \n",
       "400   273448962  625B4AA0F3327BGS                          1   \n",
       "686   291477962  B0420AA4264AEBGS                          1   \n",
       "687   291477962  B0420AA4264AEBGS                          1   \n",
       "\n",
       "     ind_recommendation_matches_purchase_size  ind_exchangereturn  \\\n",
       "228                                         1                   0   \n",
       "399                                         0                   0   \n",
       "400                                         0                   0   \n",
       "686                                         1                   0   \n",
       "687                                         1                   0   \n",
       "\n",
       "                 transaction_sku  \n",
       "228  236742962__A00F7AA5E23E13GS  \n",
       "399  273448962__625B4AA0F3327BGS  \n",
       "400  273448962__625B4AA0F3327BGS  \n",
       "686  291477962__B0420AA4264AEBGS  \n",
       "687  291477962__B0420AA4264AEBGS  "
      ]
     },
     "execution_count": 101,
     "metadata": {},
     "output_type": "execute_result"
    }
   ],
   "source": [
    "# Necessary fields for computations\n",
    "MAIN_DATA = DATA_CONVERSIONS_EXCHANGE_RETURNS[[\n",
    "    'transaction','sku',\n",
    "    'ind_pixibo_recommendation',\n",
    "    'ind_recommendation_matches_purchase_size',\n",
    "    'ind_exchangereturn'\n",
    "]]\n",
    "\n",
    "MAIN_DATA['transaction_sku'] = [\n",
    "    row['transaction'] + '__' + row['sku'] for row in MAIN_DATA.to_records()\n",
    "]\n",
    "\n",
    "MAIN_DATA.head()"
   ]
  },
  {
   "cell_type": "markdown",
   "metadata": {},
   "source": [
    "## All Pixibo purchases"
   ]
  },
  {
   "cell_type": "code",
   "execution_count": 102,
   "metadata": {},
   "outputs": [],
   "source": [
    "DATA_ALL = MAIN_DATA"
   ]
  },
  {
   "cell_type": "code",
   "execution_count": 103,
   "metadata": {},
   "outputs": [],
   "source": [
    "## Find SKUs and Transaction-SKU pairs with at least 1 exchange/return event\n",
    "DATA_ALL_BY_SKU = DATA_ALL \\\n",
    "  .groupby(['sku','ind_pixibo_recommendation'])['ind_exchangereturn'] \\\n",
    "  .apply(lambda x: int(sum(x)>0)) \\\n",
    "  .reset_index()\n",
    "\n",
    "DATA_ALL_BY_TRANSACTION_SKU = DATA_ALL \\\n",
    "    .groupby(['transaction_sku','ind_pixibo_recommendation'])['ind_exchangereturn'] \\\n",
    "    .apply(lambda x: int(sum(x)>0)) \\\n",
    "    .reset_index()"
   ]
  },
  {
   "cell_type": "code",
   "execution_count": 104,
   "metadata": {},
   "outputs": [
    {
     "data": {
      "text/html": [
       "<div>\n",
       "<style scoped>\n",
       "    .dataframe tbody tr th:only-of-type {\n",
       "        vertical-align: middle;\n",
       "    }\n",
       "\n",
       "    .dataframe tbody tr th {\n",
       "        vertical-align: top;\n",
       "    }\n",
       "\n",
       "    .dataframe thead th {\n",
       "        text-align: right;\n",
       "    }\n",
       "</style>\n",
       "<table border=\"1\" class=\"dataframe\">\n",
       "  <thead>\n",
       "    <tr style=\"text-align: right;\">\n",
       "      <th></th>\n",
       "      <th>sku</th>\n",
       "      <th>ind_pixibo_recommendation</th>\n",
       "      <th>ind_exchangereturn</th>\n",
       "    </tr>\n",
       "  </thead>\n",
       "  <tbody>\n",
       "    <tr>\n",
       "      <th>0</th>\n",
       "      <td>01C90AA9A078D8GS</td>\n",
       "      <td>1</td>\n",
       "      <td>0</td>\n",
       "    </tr>\n",
       "    <tr>\n",
       "      <th>1</th>\n",
       "      <td>029C3AACAE8040GS</td>\n",
       "      <td>1</td>\n",
       "      <td>0</td>\n",
       "    </tr>\n",
       "    <tr>\n",
       "      <th>2</th>\n",
       "      <td>0C686AA2A4C1EAGS</td>\n",
       "      <td>1</td>\n",
       "      <td>0</td>\n",
       "    </tr>\n",
       "    <tr>\n",
       "      <th>3</th>\n",
       "      <td>0EFA9AA957D91EGS</td>\n",
       "      <td>1</td>\n",
       "      <td>0</td>\n",
       "    </tr>\n",
       "    <tr>\n",
       "      <th>4</th>\n",
       "      <td>0FD43AAD4BB401GS</td>\n",
       "      <td>1</td>\n",
       "      <td>0</td>\n",
       "    </tr>\n",
       "  </tbody>\n",
       "</table>\n",
       "</div>"
      ],
      "text/plain": [
       "                sku  ind_pixibo_recommendation  ind_exchangereturn\n",
       "0  01C90AA9A078D8GS                          1                   0\n",
       "1  029C3AACAE8040GS                          1                   0\n",
       "2  0C686AA2A4C1EAGS                          1                   0\n",
       "3  0EFA9AA957D91EGS                          1                   0\n",
       "4  0FD43AAD4BB401GS                          1                   0"
      ]
     },
     "execution_count": 104,
     "metadata": {},
     "output_type": "execute_result"
    }
   ],
   "source": [
    "DATA_ALL_BY_SKU.head()"
   ]
  },
  {
   "cell_type": "code",
   "execution_count": 105,
   "metadata": {},
   "outputs": [
    {
     "data": {
      "text/html": [
       "<div>\n",
       "<style scoped>\n",
       "    .dataframe tbody tr th:only-of-type {\n",
       "        vertical-align: middle;\n",
       "    }\n",
       "\n",
       "    .dataframe tbody tr th {\n",
       "        vertical-align: top;\n",
       "    }\n",
       "\n",
       "    .dataframe thead th {\n",
       "        text-align: right;\n",
       "    }\n",
       "</style>\n",
       "<table border=\"1\" class=\"dataframe\">\n",
       "  <thead>\n",
       "    <tr style=\"text-align: right;\">\n",
       "      <th></th>\n",
       "      <th>transaction_sku</th>\n",
       "      <th>ind_pixibo_recommendation</th>\n",
       "      <th>ind_exchangereturn</th>\n",
       "    </tr>\n",
       "  </thead>\n",
       "  <tbody>\n",
       "    <tr>\n",
       "      <th>0</th>\n",
       "      <td>212349862__E309EAAEBDD62AGS</td>\n",
       "      <td>1</td>\n",
       "      <td>0</td>\n",
       "    </tr>\n",
       "    <tr>\n",
       "      <th>1</th>\n",
       "      <td>213119762__0EFA9AA957D91EGS</td>\n",
       "      <td>1</td>\n",
       "      <td>0</td>\n",
       "    </tr>\n",
       "    <tr>\n",
       "      <th>2</th>\n",
       "      <td>213119762__3A584AAAB10867GS</td>\n",
       "      <td>1</td>\n",
       "      <td>0</td>\n",
       "    </tr>\n",
       "    <tr>\n",
       "      <th>3</th>\n",
       "      <td>213741862__5428CAAA8F40EFGS</td>\n",
       "      <td>1</td>\n",
       "      <td>0</td>\n",
       "    </tr>\n",
       "    <tr>\n",
       "      <th>4</th>\n",
       "      <td>213741862__9373FAA84D76F4GS</td>\n",
       "      <td>1</td>\n",
       "      <td>0</td>\n",
       "    </tr>\n",
       "  </tbody>\n",
       "</table>\n",
       "</div>"
      ],
      "text/plain": [
       "               transaction_sku  ind_pixibo_recommendation  ind_exchangereturn\n",
       "0  212349862__E309EAAEBDD62AGS                          1                   0\n",
       "1  213119762__0EFA9AA957D91EGS                          1                   0\n",
       "2  213119762__3A584AAAB10867GS                          1                   0\n",
       "3  213741862__5428CAAA8F40EFGS                          1                   0\n",
       "4  213741862__9373FAA84D76F4GS                          1                   0"
      ]
     },
     "execution_count": 105,
     "metadata": {},
     "output_type": "execute_result"
    }
   ],
   "source": [
    "DATA_ALL_BY_TRANSACTION_SKU.head()"
   ]
  },
  {
   "cell_type": "markdown",
   "metadata": {},
   "source": [
    "### By unique SKUs"
   ]
  },
  {
   "cell_type": "code",
   "execution_count": 106,
   "metadata": {},
   "outputs": [
    {
     "name": "stderr",
     "output_type": "stream",
     "text": [
      "/home/winston/anaconda3/lib/python3.6/site-packages/pandas/core/groupby/groupby.py:4658: FutureWarning: using a dict with renaming is deprecated and will be removed in a future version\n",
      "  return super(DataFrameGroupBy, self).aggregate(arg, *args, **kwargs)\n"
     ]
    }
   ],
   "source": [
    "DATA_ALL_BY_SKU = DATA_ALL_BY_SKU \\\n",
    ".groupby('ind_pixibo_recommendation') \\\n",
    ".agg({\n",
    "    'sku': {\n",
    "        'total_products_sold':lambda x: len(x)\n",
    "    },\n",
    "    'ind_exchangereturn' : {\n",
    "        'total_returns':lambda x:sum(x),\n",
    "        'return_rate':lambda x:sum(x)/len(x)\n",
    "    }\n",
    "}) \\\n",
    ".reset_index(drop=True) \\\n",
    ".rename(columns={\n",
    "    'sku':'total_products_sold'\n",
    "})\n",
    "\n",
    "DATA_ALL_BY_SKU.columns = DATA_ALL_BY_SKU.columns.droplevel()\n",
    "DATA_ALL_BY_SKU['count_type'] = 'Count By Unique SKU'\n",
    "DATA_ALL_BY_SKU['subset'] = 'All Pixibo Influenced Transactions'\n",
    "DATA_ALL_BY_SKU = DATA_ALL_BY_SKU[[\n",
    "    'subset',\n",
    "    'count_type',\n",
    "    'total_products_sold',\n",
    "    'total_returns',\n",
    "    'return_rate'\n",
    "]]"
   ]
  },
  {
   "cell_type": "code",
   "execution_count": 107,
   "metadata": {},
   "outputs": [
    {
     "data": {
      "text/html": [
       "<div>\n",
       "<style scoped>\n",
       "    .dataframe tbody tr th:only-of-type {\n",
       "        vertical-align: middle;\n",
       "    }\n",
       "\n",
       "    .dataframe tbody tr th {\n",
       "        vertical-align: top;\n",
       "    }\n",
       "\n",
       "    .dataframe thead th {\n",
       "        text-align: right;\n",
       "    }\n",
       "</style>\n",
       "<table border=\"1\" class=\"dataframe\">\n",
       "  <thead>\n",
       "    <tr style=\"text-align: right;\">\n",
       "      <th></th>\n",
       "      <th>subset</th>\n",
       "      <th>count_type</th>\n",
       "      <th>total_products_sold</th>\n",
       "      <th>total_returns</th>\n",
       "      <th>return_rate</th>\n",
       "    </tr>\n",
       "  </thead>\n",
       "  <tbody>\n",
       "    <tr>\n",
       "      <th>0</th>\n",
       "      <td>All Pixibo Influenced Transactions</td>\n",
       "      <td>Count By Unique SKU</td>\n",
       "      <td>102</td>\n",
       "      <td>12</td>\n",
       "      <td>0.117647</td>\n",
       "    </tr>\n",
       "  </tbody>\n",
       "</table>\n",
       "</div>"
      ],
      "text/plain": [
       "                               subset           count_type  \\\n",
       "0  All Pixibo Influenced Transactions  Count By Unique SKU   \n",
       "\n",
       "   total_products_sold  total_returns  return_rate  \n",
       "0                  102             12     0.117647  "
      ]
     },
     "execution_count": 107,
     "metadata": {},
     "output_type": "execute_result"
    }
   ],
   "source": [
    "DATA_ALL_BY_SKU"
   ]
  },
  {
   "cell_type": "code",
   "execution_count": 108,
   "metadata": {},
   "outputs": [
    {
     "name": "stdout",
     "output_type": "stream",
     "text": [
      "### By Unique SKU Count ###:\n",
      "\n",
      "Total Products sold :  102\n",
      "Total Products sold with at least 1 exchange/return :  12\n",
      "Return Rate :  0.11764705882352941\n"
     ]
    }
   ],
   "source": [
    "print('### By Unique SKU Count ###:')\n",
    "print()\n",
    "print('Total Products sold : ',DATA_ALL_BY_SKU['total_products_sold'][0])\n",
    "print('Total Products sold with at least 1 exchange/return : ',DATA_ALL_BY_SKU['total_returns'][0])\n",
    "print('Return Rate : ',DATA_ALL_BY_SKU['return_rate'][0])"
   ]
  },
  {
   "cell_type": "markdown",
   "metadata": {},
   "source": [
    "### By unique Transaction-SKUs"
   ]
  },
  {
   "cell_type": "code",
   "execution_count": 109,
   "metadata": {},
   "outputs": [
    {
     "name": "stderr",
     "output_type": "stream",
     "text": [
      "/home/winston/anaconda3/lib/python3.6/site-packages/pandas/core/groupby/groupby.py:4658: FutureWarning: using a dict with renaming is deprecated and will be removed in a future version\n",
      "  return super(DataFrameGroupBy, self).aggregate(arg, *args, **kwargs)\n"
     ]
    }
   ],
   "source": [
    "DATA_ALL_BY_TRANSACTION_SKU = DATA_ALL_BY_TRANSACTION_SKU \\\n",
    ".groupby('ind_pixibo_recommendation') \\\n",
    ".agg({\n",
    "    'transaction_sku': {\n",
    "        'total_products_sold':lambda x: len(x)\n",
    "    },\n",
    "    'ind_exchangereturn' : {\n",
    "        'total_returns':lambda x:sum(x),\n",
    "        'return_rate':lambda x:sum(x)/len(x)\n",
    "    }\n",
    "}) \\\n",
    ".reset_index(drop=True) \\\n",
    ".rename(columns={\n",
    "    'sku':'total_products_sold'\n",
    "})\n",
    "\n",
    "DATA_ALL_BY_TRANSACTION_SKU.columns = DATA_ALL_BY_TRANSACTION_SKU.columns.droplevel()\n",
    "DATA_ALL_BY_TRANSACTION_SKU['count_type'] = 'Count By Unique Transaction-SKU pairs'\n",
    "DATA_ALL_BY_TRANSACTION_SKU['subset'] = 'All Pixibo Influenced Transactions'\n",
    "DATA_ALL_BY_TRANSACTION_SKU = DATA_ALL_BY_TRANSACTION_SKU[[\n",
    "    'subset',\n",
    "    'count_type',\n",
    "    'total_products_sold',\n",
    "    'total_returns',\n",
    "    'return_rate'\n",
    "]]"
   ]
  },
  {
   "cell_type": "code",
   "execution_count": 110,
   "metadata": {},
   "outputs": [
    {
     "data": {
      "text/html": [
       "<div>\n",
       "<style scoped>\n",
       "    .dataframe tbody tr th:only-of-type {\n",
       "        vertical-align: middle;\n",
       "    }\n",
       "\n",
       "    .dataframe tbody tr th {\n",
       "        vertical-align: top;\n",
       "    }\n",
       "\n",
       "    .dataframe thead th {\n",
       "        text-align: right;\n",
       "    }\n",
       "</style>\n",
       "<table border=\"1\" class=\"dataframe\">\n",
       "  <thead>\n",
       "    <tr style=\"text-align: right;\">\n",
       "      <th></th>\n",
       "      <th>subset</th>\n",
       "      <th>count_type</th>\n",
       "      <th>total_products_sold</th>\n",
       "      <th>total_returns</th>\n",
       "      <th>return_rate</th>\n",
       "    </tr>\n",
       "  </thead>\n",
       "  <tbody>\n",
       "    <tr>\n",
       "      <th>0</th>\n",
       "      <td>All Pixibo Influenced Transactions</td>\n",
       "      <td>Count By Unique Transaction-SKU pairs</td>\n",
       "      <td>105</td>\n",
       "      <td>12</td>\n",
       "      <td>0.114286</td>\n",
       "    </tr>\n",
       "  </tbody>\n",
       "</table>\n",
       "</div>"
      ],
      "text/plain": [
       "                               subset                             count_type  \\\n",
       "0  All Pixibo Influenced Transactions  Count By Unique Transaction-SKU pairs   \n",
       "\n",
       "   total_products_sold  total_returns  return_rate  \n",
       "0                  105             12     0.114286  "
      ]
     },
     "execution_count": 110,
     "metadata": {},
     "output_type": "execute_result"
    }
   ],
   "source": [
    "DATA_ALL_BY_TRANSACTION_SKU"
   ]
  },
  {
   "cell_type": "code",
   "execution_count": 111,
   "metadata": {},
   "outputs": [
    {
     "name": "stdout",
     "output_type": "stream",
     "text": [
      "### By Unique Transaction-SKU Count ###:\n",
      "\n",
      "Total Products sold :  105\n",
      "Total Products sold with at least 1 exchange/return :  12\n",
      "Return Rate :  0.11428571428571428\n"
     ]
    }
   ],
   "source": [
    "print('### By Unique Transaction-SKU Count ###:')\n",
    "print()\n",
    "print('Total Products sold : ',DATA_ALL_BY_TRANSACTION_SKU['total_products_sold'][0])\n",
    "print('Total Products sold with at least 1 exchange/return : ',DATA_ALL_BY_TRANSACTION_SKU['total_returns'][0])\n",
    "print('Return Rate : ',DATA_ALL_BY_TRANSACTION_SKU['return_rate'][0])"
   ]
  },
  {
   "cell_type": "markdown",
   "metadata": {},
   "source": [
    "## Pixibo Purchases where recommendation size = purchased size"
   ]
  },
  {
   "cell_type": "code",
   "execution_count": 112,
   "metadata": {},
   "outputs": [],
   "source": [
    "DATA_PURCHASED_RECOMMENDED = MAIN_DATA[MAIN_DATA['ind_recommendation_matches_purchase_size']==1]"
   ]
  },
  {
   "cell_type": "code",
   "execution_count": 113,
   "metadata": {},
   "outputs": [],
   "source": [
    "## Find SKUs and Transaction-SKU pairs with at least 1 exchange/return event\n",
    "DATA_PURCHASED_RECOMMENDED_BY_SKU = DATA_PURCHASED_RECOMMENDED \\\n",
    "  .groupby(['sku','ind_pixibo_recommendation'])['ind_exchangereturn'] \\\n",
    "  .apply(lambda x: int(sum(x)>0)) \\\n",
    "  .reset_index()\n",
    "\n",
    "DATA_PURCHASED_RECOMMENDED_BY_TRANSACTION_SKU = DATA_PURCHASED_RECOMMENDED \\\n",
    "    .groupby(['transaction_sku','ind_pixibo_recommendation'])['ind_exchangereturn'] \\\n",
    "    .apply(lambda x: int(sum(x)>0)) \\\n",
    "    .reset_index()"
   ]
  },
  {
   "cell_type": "code",
   "execution_count": 114,
   "metadata": {},
   "outputs": [
    {
     "name": "stderr",
     "output_type": "stream",
     "text": [
      "/home/winston/anaconda3/lib/python3.6/site-packages/pandas/core/groupby/groupby.py:4658: FutureWarning: using a dict with renaming is deprecated and will be removed in a future version\n",
      "  return super(DataFrameGroupBy, self).aggregate(arg, *args, **kwargs)\n"
     ]
    }
   ],
   "source": [
    "## By Unique SKUs\n",
    "DATA_PURCHASED_RECOMMENDED_BY_SKU = DATA_PURCHASED_RECOMMENDED_BY_SKU \\\n",
    ".groupby('ind_pixibo_recommendation') \\\n",
    ".agg({\n",
    "    'sku': {\n",
    "        'total_products_sold':lambda x: len(x)\n",
    "    },\n",
    "    'ind_exchangereturn' : {\n",
    "        'total_returns':lambda x:sum(x),\n",
    "        'return_rate':lambda x:sum(x)/len(x)\n",
    "    }\n",
    "}) \\\n",
    ".reset_index(drop=True) \\\n",
    ".rename(columns={\n",
    "    'sku':'total_products_sold'\n",
    "})\n",
    "\n",
    "DATA_PURCHASED_RECOMMENDED_BY_SKU.columns = DATA_PURCHASED_RECOMMENDED_BY_SKU.columns.droplevel()\n",
    "DATA_PURCHASED_RECOMMENDED_BY_SKU['count_type'] = 'Count By Unique SKU'\n",
    "DATA_PURCHASED_RECOMMENDED_BY_SKU['subset'] = 'Purchased Recommended Size'\n",
    "DATA_PURCHASED_RECOMMENDED_BY_SKU = DATA_PURCHASED_RECOMMENDED_BY_SKU[[\n",
    "    'subset',\n",
    "    'count_type',\n",
    "    'total_products_sold',\n",
    "    'total_returns',\n",
    "    'return_rate'\n",
    "]]\n",
    "\n",
    "# By Unique Transaction-SKU pairs\n",
    "DATA_PURCHASED_RECOMMENDED_BY_TRANSACTION_SKU = DATA_PURCHASED_RECOMMENDED_BY_TRANSACTION_SKU \\\n",
    ".groupby('ind_pixibo_recommendation') \\\n",
    ".agg({\n",
    "    'transaction_sku': {\n",
    "        'total_products_sold':lambda x: len(x)\n",
    "    },\n",
    "    'ind_exchangereturn' : {\n",
    "        'total_returns':lambda x:sum(x),\n",
    "        'return_rate':lambda x:sum(x)/len(x)\n",
    "    }\n",
    "}) \\\n",
    ".reset_index(drop=True) \\\n",
    ".rename(columns={\n",
    "    'sku':'total_products_sold'\n",
    "})\n",
    "\n",
    "DATA_PURCHASED_RECOMMENDED_BY_TRANSACTION_SKU.columns = DATA_PURCHASED_RECOMMENDED_BY_TRANSACTION_SKU.columns.droplevel()\n",
    "DATA_PURCHASED_RECOMMENDED_BY_TRANSACTION_SKU['count_type'] = 'Count By Unique Transaction-SKU pairs'\n",
    "DATA_PURCHASED_RECOMMENDED_BY_TRANSACTION_SKU['subset'] = 'Purchased Recommended Size'\n",
    "DATA_PURCHASED_RECOMMENDED_BY_TRANSACTION_SKU = DATA_PURCHASED_RECOMMENDED_BY_TRANSACTION_SKU[[\n",
    "    'subset',\n",
    "    'count_type',\n",
    "    'total_products_sold',\n",
    "    'total_returns',\n",
    "    'return_rate'\n",
    "]]"
   ]
  },
  {
   "cell_type": "code",
   "execution_count": 115,
   "metadata": {},
   "outputs": [
    {
     "name": "stdout",
     "output_type": "stream",
     "text": [
      "### By Unique SKU Count ###:\n",
      "\n",
      "Total Products sold :  60\n",
      "Total Products sold with at least 1 exchange/return :  4\n",
      "Return Rate :  0.06666666666666667\n",
      "\n",
      "### By Unique Transaction-SKU Count ###:\n",
      "\n",
      "Total Products sold :  61\n",
      "Total Products sold with at least 1 exchange/return :  4\n",
      "Return Rate :  0.06557377049180328\n"
     ]
    }
   ],
   "source": [
    "print('### By Unique SKU Count ###:')\n",
    "print()\n",
    "print('Total Products sold : ',DATA_PURCHASED_RECOMMENDED_BY_SKU['total_products_sold'][0])\n",
    "print('Total Products sold with at least 1 exchange/return : ',DATA_PURCHASED_RECOMMENDED_BY_SKU['total_returns'][0])\n",
    "print('Return Rate : ',DATA_PURCHASED_RECOMMENDED_BY_SKU['return_rate'][0])\n",
    "print()\n",
    "print('### By Unique Transaction-SKU Count ###:')\n",
    "print()\n",
    "print('Total Products sold : ',DATA_PURCHASED_RECOMMENDED_BY_TRANSACTION_SKU['total_products_sold'][0])\n",
    "print('Total Products sold with at least 1 exchange/return : ',DATA_PURCHASED_RECOMMENDED_BY_TRANSACTION_SKU['total_returns'][0])\n",
    "print('Return Rate : ',DATA_PURCHASED_RECOMMENDED_BY_TRANSACTION_SKU['return_rate'][0])"
   ]
  },
  {
   "cell_type": "markdown",
   "metadata": {},
   "source": [
    "## Pixibo Purchases where recommendation size =/= purchased size"
   ]
  },
  {
   "cell_type": "code",
   "execution_count": 116,
   "metadata": {},
   "outputs": [],
   "source": [
    "DATA_DIDNOT_PURCHASED_RECOMMENDED = MAIN_DATA[MAIN_DATA['ind_recommendation_matches_purchase_size']==0]"
   ]
  },
  {
   "cell_type": "code",
   "execution_count": 117,
   "metadata": {},
   "outputs": [],
   "source": [
    "## Find SKUs and Transaction-SKU pairs with at least 1 exchange/return event\n",
    "DATA_DIDNOT_PURCHASED_RECOMMENDED_BY_SKU = DATA_DIDNOT_PURCHASED_RECOMMENDED \\\n",
    "  .groupby(['sku','ind_pixibo_recommendation'])['ind_exchangereturn'] \\\n",
    "  .apply(lambda x: int(sum(x)>0)) \\\n",
    "  .reset_index()\n",
    "\n",
    "DATA_DIDNOT_PURCHASED_RECOMMENDED_BY_TRANSACTION_SKU = DATA_DIDNOT_PURCHASED_RECOMMENDED \\\n",
    "    .groupby(['transaction_sku','ind_pixibo_recommendation'])['ind_exchangereturn'] \\\n",
    "    .apply(lambda x: int(sum(x)>0)) \\\n",
    "    .reset_index()"
   ]
  },
  {
   "cell_type": "code",
   "execution_count": 118,
   "metadata": {},
   "outputs": [
    {
     "name": "stderr",
     "output_type": "stream",
     "text": [
      "/home/winston/anaconda3/lib/python3.6/site-packages/pandas/core/groupby/groupby.py:4658: FutureWarning: using a dict with renaming is deprecated and will be removed in a future version\n",
      "  return super(DataFrameGroupBy, self).aggregate(arg, *args, **kwargs)\n"
     ]
    }
   ],
   "source": [
    "## By Unique SKUs\n",
    "DATA_DIDNOT_PURCHASED_RECOMMENDED_BY_SKU = DATA_DIDNOT_PURCHASED_RECOMMENDED_BY_SKU \\\n",
    ".groupby('ind_pixibo_recommendation') \\\n",
    ".agg({\n",
    "    'sku': {\n",
    "        'total_products_sold':lambda x: len(x)\n",
    "    },\n",
    "    'ind_exchangereturn' : {\n",
    "        'total_returns':lambda x:sum(x),\n",
    "        'return_rate':lambda x:sum(x)/len(x)\n",
    "    }\n",
    "}) \\\n",
    ".reset_index(drop=True) \\\n",
    ".rename(columns={\n",
    "    'sku':'total_products_sold'\n",
    "})\n",
    "\n",
    "DATA_DIDNOT_PURCHASED_RECOMMENDED_BY_SKU.columns = DATA_DIDNOT_PURCHASED_RECOMMENDED_BY_SKU.columns.droplevel()\n",
    "DATA_DIDNOT_PURCHASED_RECOMMENDED_BY_SKU['count_type'] = 'Count By Unique SKU'\n",
    "DATA_DIDNOT_PURCHASED_RECOMMENDED_BY_SKU['subset'] = 'Did Not Purchased Recommended Size'\n",
    "DATA_DIDNOT_PURCHASED_RECOMMENDED_BY_SKU = DATA_DIDNOT_PURCHASED_RECOMMENDED_BY_SKU[[\n",
    "    'subset',\n",
    "    'count_type',\n",
    "    'total_products_sold',\n",
    "    'total_returns',\n",
    "    'return_rate'\n",
    "]]\n",
    "\n",
    "# By Unique Transaction-SKU pairs\n",
    "DATA_DIDNOT_PURCHASED_RECOMMENDED_BY_TRANSACTION_SKU = DATA_DIDNOT_PURCHASED_RECOMMENDED_BY_TRANSACTION_SKU \\\n",
    ".groupby('ind_pixibo_recommendation') \\\n",
    ".agg({\n",
    "    'transaction_sku': {\n",
    "        'total_products_sold':lambda x: len(x)\n",
    "    },\n",
    "    'ind_exchangereturn' : {\n",
    "        'total_returns':lambda x:sum(x),\n",
    "        'return_rate':lambda x:sum(x)/len(x)\n",
    "    }\n",
    "}) \\\n",
    ".reset_index(drop=True) \\\n",
    ".rename(columns={\n",
    "    'sku':'total_products_sold'\n",
    "})\n",
    "\n",
    "DATA_DIDNOT_PURCHASED_RECOMMENDED_BY_TRANSACTION_SKU.columns = DATA_DIDNOT_PURCHASED_RECOMMENDED_BY_TRANSACTION_SKU.columns.droplevel()\n",
    "DATA_DIDNOT_PURCHASED_RECOMMENDED_BY_TRANSACTION_SKU['count_type'] = 'Count By Unique Transaction-SKU pairs'\n",
    "DATA_DIDNOT_PURCHASED_RECOMMENDED_BY_TRANSACTION_SKU['subset'] = 'Did Not Purchased Recommended Size'\n",
    "DATA_DIDNOT_PURCHASED_RECOMMENDED_BY_TRANSACTION_SKU = DATA_DIDNOT_PURCHASED_RECOMMENDED_BY_TRANSACTION_SKU[[\n",
    "    'subset',\n",
    "    'count_type',\n",
    "    'total_products_sold',\n",
    "    'total_returns',\n",
    "    'return_rate'\n",
    "]]"
   ]
  },
  {
   "cell_type": "code",
   "execution_count": 119,
   "metadata": {},
   "outputs": [
    {
     "name": "stdout",
     "output_type": "stream",
     "text": [
      "### By Unique SKU Count ###:\n",
      "\n",
      "Total Products sold :  47\n",
      "Total Products sold with at least 1 exchange/return :  8\n",
      "Return Rate :  0.1702127659574468\n",
      "\n",
      "### By Unique Transaction-SKU Count ###:\n",
      "\n",
      "Total Products sold :  48\n",
      "Total Products sold with at least 1 exchange/return :  8\n",
      "Return Rate :  0.16666666666666666\n"
     ]
    }
   ],
   "source": [
    "print('### By Unique SKU Count ###:')\n",
    "print()\n",
    "print('Total Products sold : ',DATA_DIDNOT_PURCHASED_RECOMMENDED_BY_SKU['total_products_sold'][0])\n",
    "print('Total Products sold with at least 1 exchange/return : ',DATA_DIDNOT_PURCHASED_RECOMMENDED_BY_SKU['total_returns'][0])\n",
    "print('Return Rate : ',DATA_DIDNOT_PURCHASED_RECOMMENDED_BY_SKU['return_rate'][0])\n",
    "print()\n",
    "print('### By Unique Transaction-SKU Count ###:')\n",
    "print()\n",
    "print('Total Products sold : ',DATA_DIDNOT_PURCHASED_RECOMMENDED_BY_TRANSACTION_SKU['total_products_sold'][0])\n",
    "print('Total Products sold with at least 1 exchange/return : ',DATA_DIDNOT_PURCHASED_RECOMMENDED_BY_TRANSACTION_SKU['total_returns'][0])\n",
    "print('Return Rate : ',DATA_DIDNOT_PURCHASED_RECOMMENDED_BY_TRANSACTION_SKU['return_rate'][0])"
   ]
  },
  {
   "cell_type": "code",
   "execution_count": 120,
   "metadata": {},
   "outputs": [],
   "source": [
    "OVERALL_STATS = pd.DataFrame()\n",
    "OVERALL_STATS = pd.concat([OVERALL_STATS,DATA_ALL_BY_SKU])\n",
    "OVERALL_STATS = pd.concat([OVERALL_STATS,DATA_ALL_BY_TRANSACTION_SKU])\n",
    "OVERALL_STATS = pd.concat([OVERALL_STATS,DATA_PURCHASED_RECOMMENDED_BY_SKU])\n",
    "OVERALL_STATS = pd.concat([OVERALL_STATS,DATA_PURCHASED_RECOMMENDED_BY_TRANSACTION_SKU])\n",
    "OVERALL_STATS = pd.concat([OVERALL_STATS,DATA_DIDNOT_PURCHASED_RECOMMENDED_BY_SKU])\n",
    "OVERALL_STATS = pd.concat([OVERALL_STATS,DATA_DIDNOT_PURCHASED_RECOMMENDED_BY_TRANSACTION_SKU])"
   ]
  },
  {
   "cell_type": "code",
   "execution_count": 121,
   "metadata": {},
   "outputs": [
    {
     "data": {
      "text/html": [
       "<div>\n",
       "<style scoped>\n",
       "    .dataframe tbody tr th:only-of-type {\n",
       "        vertical-align: middle;\n",
       "    }\n",
       "\n",
       "    .dataframe tbody tr th {\n",
       "        vertical-align: top;\n",
       "    }\n",
       "\n",
       "    .dataframe thead th {\n",
       "        text-align: right;\n",
       "    }\n",
       "</style>\n",
       "<table border=\"1\" class=\"dataframe\">\n",
       "  <thead>\n",
       "    <tr style=\"text-align: right;\">\n",
       "      <th></th>\n",
       "      <th>subset</th>\n",
       "      <th>count_type</th>\n",
       "      <th>total_products_sold</th>\n",
       "      <th>total_returns</th>\n",
       "      <th>return_rate</th>\n",
       "    </tr>\n",
       "  </thead>\n",
       "  <tbody>\n",
       "    <tr>\n",
       "      <th>0</th>\n",
       "      <td>All Pixibo Influenced Transactions</td>\n",
       "      <td>Count By Unique SKU</td>\n",
       "      <td>102</td>\n",
       "      <td>12</td>\n",
       "      <td>0.117647</td>\n",
       "    </tr>\n",
       "    <tr>\n",
       "      <th>0</th>\n",
       "      <td>All Pixibo Influenced Transactions</td>\n",
       "      <td>Count By Unique Transaction-SKU pairs</td>\n",
       "      <td>105</td>\n",
       "      <td>12</td>\n",
       "      <td>0.114286</td>\n",
       "    </tr>\n",
       "    <tr>\n",
       "      <th>0</th>\n",
       "      <td>Purchased Recommended Size</td>\n",
       "      <td>Count By Unique SKU</td>\n",
       "      <td>60</td>\n",
       "      <td>4</td>\n",
       "      <td>0.066667</td>\n",
       "    </tr>\n",
       "    <tr>\n",
       "      <th>0</th>\n",
       "      <td>Purchased Recommended Size</td>\n",
       "      <td>Count By Unique Transaction-SKU pairs</td>\n",
       "      <td>61</td>\n",
       "      <td>4</td>\n",
       "      <td>0.065574</td>\n",
       "    </tr>\n",
       "    <tr>\n",
       "      <th>0</th>\n",
       "      <td>Did Not Purchased Recommended Size</td>\n",
       "      <td>Count By Unique SKU</td>\n",
       "      <td>47</td>\n",
       "      <td>8</td>\n",
       "      <td>0.170213</td>\n",
       "    </tr>\n",
       "    <tr>\n",
       "      <th>0</th>\n",
       "      <td>Did Not Purchased Recommended Size</td>\n",
       "      <td>Count By Unique Transaction-SKU pairs</td>\n",
       "      <td>48</td>\n",
       "      <td>8</td>\n",
       "      <td>0.166667</td>\n",
       "    </tr>\n",
       "  </tbody>\n",
       "</table>\n",
       "</div>"
      ],
      "text/plain": [
       "                               subset                             count_type  \\\n",
       "0  All Pixibo Influenced Transactions                    Count By Unique SKU   \n",
       "0  All Pixibo Influenced Transactions  Count By Unique Transaction-SKU pairs   \n",
       "0          Purchased Recommended Size                    Count By Unique SKU   \n",
       "0          Purchased Recommended Size  Count By Unique Transaction-SKU pairs   \n",
       "0  Did Not Purchased Recommended Size                    Count By Unique SKU   \n",
       "0  Did Not Purchased Recommended Size  Count By Unique Transaction-SKU pairs   \n",
       "\n",
       "   total_products_sold  total_returns  return_rate  \n",
       "0                  102             12     0.117647  \n",
       "0                  105             12     0.114286  \n",
       "0                   60              4     0.066667  \n",
       "0                   61              4     0.065574  \n",
       "0                   47              8     0.170213  \n",
       "0                   48              8     0.166667  "
      ]
     },
     "execution_count": 121,
     "metadata": {},
     "output_type": "execute_result"
    }
   ],
   "source": [
    "OVERALL_STATS"
   ]
  },
  {
   "cell_type": "code",
   "execution_count": null,
   "metadata": {},
   "outputs": [],
   "source": []
  }
 ],
 "metadata": {
  "kernelspec": {
   "display_name": "Python 3",
   "language": "python",
   "name": "python3"
  },
  "language_info": {
   "codemirror_mode": {
    "name": "ipython",
    "version": 3
   },
   "file_extension": ".py",
   "mimetype": "text/x-python",
   "name": "python",
   "nbconvert_exporter": "python",
   "pygments_lexer": "ipython3",
   "version": "3.6.8"
  }
 },
 "nbformat": 4,
 "nbformat_minor": 2
}
